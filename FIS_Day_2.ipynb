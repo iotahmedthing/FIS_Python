{
  "nbformat": 4,
  "nbformat_minor": 0,
  "metadata": {
    "colab": {
      "name": "FIS - Day 2.ipynb",
      "provenance": []
    },
    "kernelspec": {
      "name": "python3",
      "display_name": "Python 3"
    },
    "language_info": {
      "name": "python"
    }
  },
  "cells": [
    {
      "cell_type": "markdown",
      "metadata": {
        "id": "kDWwTcILhVE6"
      },
      "source": [
        "# Containers"
      ]
    },
    {
      "cell_type": "markdown",
      "metadata": {
        "id": "5oj4HT-phod4"
      },
      "source": [
        "### List"
      ]
    },
    {
      "cell_type": "code",
      "metadata": {
        "id": "fABu9o1j3Hmk"
      },
      "source": [
        "list1 = [24,12,67,32,46]"
      ],
      "execution_count": 1,
      "outputs": []
    },
    {
      "cell_type": "code",
      "metadata": {
        "colab": {
          "base_uri": "https://localhost:8080/"
        },
        "id": "RhBucxC63jMy",
        "outputId": "20ce0218-5500-41be-84ba-478ae42a306d"
      },
      "source": [
        "list1"
      ],
      "execution_count": 2,
      "outputs": [
        {
          "output_type": "execute_result",
          "data": {
            "text/plain": [
              "[24, 12, 67, 32, 46]"
            ]
          },
          "metadata": {},
          "execution_count": 2
        }
      ]
    },
    {
      "cell_type": "code",
      "metadata": {
        "id": "QrOxc27A3lAI"
      },
      "source": [
        "list1.sort()"
      ],
      "execution_count": 3,
      "outputs": []
    },
    {
      "cell_type": "code",
      "metadata": {
        "colab": {
          "base_uri": "https://localhost:8080/"
        },
        "id": "CgSARObT4BZi",
        "outputId": "2cc3b1d5-6fca-482f-e0f7-fb58804be5e9"
      },
      "source": [
        "list1"
      ],
      "execution_count": 4,
      "outputs": [
        {
          "output_type": "execute_result",
          "data": {
            "text/plain": [
              "[12, 24, 32, 46, 67]"
            ]
          },
          "metadata": {},
          "execution_count": 4
        }
      ]
    },
    {
      "cell_type": "code",
      "metadata": {
        "id": "cdLMdfRo4Ge_"
      },
      "source": [
        "list1.sort(reverse=True)"
      ],
      "execution_count": 5,
      "outputs": []
    },
    {
      "cell_type": "code",
      "metadata": {
        "colab": {
          "base_uri": "https://localhost:8080/"
        },
        "id": "mxP5jl8j5Ai0",
        "outputId": "3fab6202-4690-40f7-87ce-12aa162ef030"
      },
      "source": [
        "list1"
      ],
      "execution_count": 6,
      "outputs": [
        {
          "output_type": "execute_result",
          "data": {
            "text/plain": [
              "[67, 46, 32, 24, 12]"
            ]
          },
          "metadata": {},
          "execution_count": 6
        }
      ]
    },
    {
      "cell_type": "code",
      "metadata": {
        "id": "Fv5Ty5qn5Bf5"
      },
      "source": [
        "char = list(\"Hello World\")"
      ],
      "execution_count": 7,
      "outputs": []
    },
    {
      "cell_type": "code",
      "metadata": {
        "colab": {
          "base_uri": "https://localhost:8080/"
        },
        "id": "COIStVj-5XR_",
        "outputId": "377477c3-3b86-4769-d4bb-2d4a288330a2"
      },
      "source": [
        "char"
      ],
      "execution_count": 8,
      "outputs": [
        {
          "output_type": "execute_result",
          "data": {
            "text/plain": [
              "['H', 'e', 'l', 'l', 'o', ' ', 'W', 'o', 'r', 'l', 'd']"
            ]
          },
          "metadata": {},
          "execution_count": 8
        }
      ]
    },
    {
      "cell_type": "code",
      "metadata": {
        "id": "hZtjIePn5YVz"
      },
      "source": [
        "char.sort()"
      ],
      "execution_count": 9,
      "outputs": []
    },
    {
      "cell_type": "code",
      "metadata": {
        "colab": {
          "base_uri": "https://localhost:8080/"
        },
        "id": "BHrzfped5flf",
        "outputId": "aa782d5d-1908-4e7e-d8dc-d40f3ae760d7"
      },
      "source": [
        "char"
      ],
      "execution_count": 10,
      "outputs": [
        {
          "output_type": "execute_result",
          "data": {
            "text/plain": [
              "[' ', 'H', 'W', 'd', 'e', 'l', 'l', 'l', 'o', 'o', 'r']"
            ]
          },
          "metadata": {},
          "execution_count": 10
        }
      ]
    },
    {
      "cell_type": "code",
      "metadata": {
        "id": "mHkWEcX45gc_"
      },
      "source": [
        "mix = [1,2,8.6,3,\"jhg\", True]"
      ],
      "execution_count": 11,
      "outputs": []
    },
    {
      "cell_type": "code",
      "metadata": {
        "colab": {
          "base_uri": "https://localhost:8080/"
        },
        "id": "zRTce46E6Oxg",
        "outputId": "d48e7bc0-4682-46be-cf34-6095c9640106"
      },
      "source": [
        "mix"
      ],
      "execution_count": 12,
      "outputs": [
        {
          "output_type": "execute_result",
          "data": {
            "text/plain": [
              "[1, 2, 8.6, 3, 'jhg', True]"
            ]
          },
          "metadata": {},
          "execution_count": 12
        }
      ]
    },
    {
      "cell_type": "code",
      "metadata": {
        "colab": {
          "base_uri": "https://localhost:8080/",
          "height": 171
        },
        "id": "JYty8N5q6PtF",
        "outputId": "5605f756-1f20-4933-8a76-973331bec0ef"
      },
      "source": [
        "mix.sort()"
      ],
      "execution_count": 13,
      "outputs": [
        {
          "output_type": "error",
          "ename": "TypeError",
          "evalue": "ignored",
          "traceback": [
            "\u001b[0;31m---------------------------------------------------------------------------\u001b[0m",
            "\u001b[0;31mTypeError\u001b[0m                                 Traceback (most recent call last)",
            "\u001b[0;32m<ipython-input-13-d2d04f1bcc53>\u001b[0m in \u001b[0;36m<module>\u001b[0;34m()\u001b[0m\n\u001b[0;32m----> 1\u001b[0;31m \u001b[0mmix\u001b[0m\u001b[0;34m.\u001b[0m\u001b[0msort\u001b[0m\u001b[0;34m(\u001b[0m\u001b[0;34m)\u001b[0m\u001b[0;34m\u001b[0m\u001b[0;34m\u001b[0m\u001b[0m\n\u001b[0m",
            "\u001b[0;31mTypeError\u001b[0m: '<' not supported between instances of 'str' and 'int'"
          ]
        }
      ]
    },
    {
      "cell_type": "code",
      "metadata": {
        "id": "KJU8Pua66TeN"
      },
      "source": [
        "list2 = [12.9, 32.9, 12,18,9]"
      ],
      "execution_count": 14,
      "outputs": []
    },
    {
      "cell_type": "code",
      "metadata": {
        "id": "22bM-_ZR6mAo"
      },
      "source": [
        "list2.sort()"
      ],
      "execution_count": 15,
      "outputs": []
    },
    {
      "cell_type": "code",
      "metadata": {
        "colab": {
          "base_uri": "https://localhost:8080/"
        },
        "id": "ecCu5hx16oTD",
        "outputId": "838a8367-b028-486d-eb39-c4e16099f3de"
      },
      "source": [
        "list2"
      ],
      "execution_count": 16,
      "outputs": [
        {
          "output_type": "execute_result",
          "data": {
            "text/plain": [
              "[9, 12, 12.9, 18, 32.9]"
            ]
          },
          "metadata": {},
          "execution_count": 16
        }
      ]
    },
    {
      "cell_type": "code",
      "metadata": {
        "id": "Fo5oKjsG6qRx"
      },
      "source": [
        "list2.append(20)"
      ],
      "execution_count": 17,
      "outputs": []
    },
    {
      "cell_type": "code",
      "metadata": {
        "colab": {
          "base_uri": "https://localhost:8080/"
        },
        "id": "vTqC-6QJ7M82",
        "outputId": "a8205958-2b4c-401a-a55c-d33264c22536"
      },
      "source": [
        "list2"
      ],
      "execution_count": 18,
      "outputs": [
        {
          "output_type": "execute_result",
          "data": {
            "text/plain": [
              "[9, 12, 12.9, 18, 32.9, 20]"
            ]
          },
          "metadata": {},
          "execution_count": 18
        }
      ]
    },
    {
      "cell_type": "code",
      "metadata": {
        "id": "rntxQXvg7OYf"
      },
      "source": [
        "list2.append(15)"
      ],
      "execution_count": 19,
      "outputs": []
    },
    {
      "cell_type": "code",
      "metadata": {
        "colab": {
          "base_uri": "https://localhost:8080/"
        },
        "id": "HDJ9PrE17Xxj",
        "outputId": "2c50a203-e96e-4235-cec5-56546096e3cf"
      },
      "source": [
        "list2"
      ],
      "execution_count": 20,
      "outputs": [
        {
          "output_type": "execute_result",
          "data": {
            "text/plain": [
              "[9, 12, 12.9, 18, 32.9, 20, 15]"
            ]
          },
          "metadata": {},
          "execution_count": 20
        }
      ]
    },
    {
      "cell_type": "code",
      "metadata": {
        "id": "v_jL29Ko7Yoh"
      },
      "source": [
        "list2.append(\"a\")"
      ],
      "execution_count": 21,
      "outputs": []
    },
    {
      "cell_type": "code",
      "metadata": {
        "colab": {
          "base_uri": "https://localhost:8080/"
        },
        "id": "-3Vvf8Yj7lLp",
        "outputId": "4ade0be4-aee2-4897-fefe-43248819e781"
      },
      "source": [
        "list2"
      ],
      "execution_count": 22,
      "outputs": [
        {
          "output_type": "execute_result",
          "data": {
            "text/plain": [
              "[9, 12, 12.9, 18, 32.9, 20, 15, 'a']"
            ]
          },
          "metadata": {},
          "execution_count": 22
        }
      ]
    },
    {
      "cell_type": "code",
      "metadata": {
        "colab": {
          "base_uri": "https://localhost:8080/",
          "height": 171
        },
        "id": "kls6p-JR7mc7",
        "outputId": "8978f395-f394-4607-fdfa-a904f6eafa01"
      },
      "source": [
        "list2.append(23,21)"
      ],
      "execution_count": 23,
      "outputs": [
        {
          "output_type": "error",
          "ename": "TypeError",
          "evalue": "ignored",
          "traceback": [
            "\u001b[0;31m---------------------------------------------------------------------------\u001b[0m",
            "\u001b[0;31mTypeError\u001b[0m                                 Traceback (most recent call last)",
            "\u001b[0;32m<ipython-input-23-00eb6e186b28>\u001b[0m in \u001b[0;36m<module>\u001b[0;34m()\u001b[0m\n\u001b[0;32m----> 1\u001b[0;31m \u001b[0mlist2\u001b[0m\u001b[0;34m.\u001b[0m\u001b[0mappend\u001b[0m\u001b[0;34m(\u001b[0m\u001b[0;36m23\u001b[0m\u001b[0;34m,\u001b[0m\u001b[0;36m21\u001b[0m\u001b[0;34m)\u001b[0m\u001b[0;34m\u001b[0m\u001b[0;34m\u001b[0m\u001b[0m\n\u001b[0m",
            "\u001b[0;31mTypeError\u001b[0m: append() takes exactly one argument (2 given)"
          ]
        }
      ]
    },
    {
      "cell_type": "code",
      "metadata": {
        "id": "amGkiQRG7r1F"
      },
      "source": [
        "list2.append([23,21])"
      ],
      "execution_count": 24,
      "outputs": []
    },
    {
      "cell_type": "code",
      "metadata": {
        "colab": {
          "base_uri": "https://localhost:8080/"
        },
        "id": "Rdthhae575r3",
        "outputId": "5bca6f66-2aaf-48f7-fb7e-3a21d2689167"
      },
      "source": [
        "list2"
      ],
      "execution_count": 25,
      "outputs": [
        {
          "output_type": "execute_result",
          "data": {
            "text/plain": [
              "[9, 12, 12.9, 18, 32.9, 20, 15, 'a', [23, 21]]"
            ]
          },
          "metadata": {},
          "execution_count": 25
        }
      ]
    },
    {
      "cell_type": "code",
      "metadata": {
        "id": "mcvXJQas77Oa"
      },
      "source": [
        "list2.insert(4,25)"
      ],
      "execution_count": 26,
      "outputs": []
    },
    {
      "cell_type": "code",
      "metadata": {
        "colab": {
          "base_uri": "https://localhost:8080/"
        },
        "id": "KlE7XZvs84w2",
        "outputId": "8d36f5e3-2d3c-4ca7-d730-47662e5aef5e"
      },
      "source": [
        "list2"
      ],
      "execution_count": 27,
      "outputs": [
        {
          "output_type": "execute_result",
          "data": {
            "text/plain": [
              "[9, 12, 12.9, 18, 25, 32.9, 20, 15, 'a', [23, 21]]"
            ]
          },
          "metadata": {},
          "execution_count": 27
        }
      ]
    },
    {
      "cell_type": "code",
      "metadata": {
        "colab": {
          "base_uri": "https://localhost:8080/"
        },
        "id": "AU5QJ4f886Rp",
        "outputId": "3653ea54-ae30-46ff-8c60-41ce32281507"
      },
      "source": [
        "list2.pop()"
      ],
      "execution_count": 28,
      "outputs": [
        {
          "output_type": "execute_result",
          "data": {
            "text/plain": [
              "[23, 21]"
            ]
          },
          "metadata": {},
          "execution_count": 28
        }
      ]
    },
    {
      "cell_type": "code",
      "metadata": {
        "colab": {
          "base_uri": "https://localhost:8080/"
        },
        "id": "g7Ss_ZN1-Fqr",
        "outputId": "fc24dd8f-de0e-4e5b-a014-925f4509f730"
      },
      "source": [
        "list2"
      ],
      "execution_count": 29,
      "outputs": [
        {
          "output_type": "execute_result",
          "data": {
            "text/plain": [
              "[9, 12, 12.9, 18, 25, 32.9, 20, 15, 'a']"
            ]
          },
          "metadata": {},
          "execution_count": 29
        }
      ]
    },
    {
      "cell_type": "code",
      "metadata": {
        "colab": {
          "base_uri": "https://localhost:8080/"
        },
        "id": "Yw4UbII0-J9x",
        "outputId": "80669c61-af42-4509-8ec7-b745369d352e"
      },
      "source": [
        "list2.pop(4)"
      ],
      "execution_count": 30,
      "outputs": [
        {
          "output_type": "execute_result",
          "data": {
            "text/plain": [
              "25"
            ]
          },
          "metadata": {},
          "execution_count": 30
        }
      ]
    },
    {
      "cell_type": "code",
      "metadata": {
        "colab": {
          "base_uri": "https://localhost:8080/"
        },
        "id": "mLZek6Xg-ghM",
        "outputId": "c4825dba-8083-4916-d45a-a22d7e4ca561"
      },
      "source": [
        "list2"
      ],
      "execution_count": 31,
      "outputs": [
        {
          "output_type": "execute_result",
          "data": {
            "text/plain": [
              "[9, 12, 12.9, 18, 32.9, 20, 15, 'a']"
            ]
          },
          "metadata": {},
          "execution_count": 31
        }
      ]
    },
    {
      "cell_type": "code",
      "metadata": {
        "id": "64IiC43p-iAL"
      },
      "source": [
        "list2.remove(\"a\")"
      ],
      "execution_count": 32,
      "outputs": []
    },
    {
      "cell_type": "code",
      "metadata": {
        "colab": {
          "base_uri": "https://localhost:8080/"
        },
        "id": "qrgTmCAk_DLA",
        "outputId": "8bc58906-2738-4621-e6b5-49a8386dfb37"
      },
      "source": [
        "list2"
      ],
      "execution_count": 33,
      "outputs": [
        {
          "output_type": "execute_result",
          "data": {
            "text/plain": [
              "[9, 12, 12.9, 18, 32.9, 20, 15]"
            ]
          },
          "metadata": {},
          "execution_count": 33
        }
      ]
    },
    {
      "cell_type": "code",
      "metadata": {
        "colab": {
          "base_uri": "https://localhost:8080/",
          "height": 171
        },
        "id": "CfrFM8LQ_ENV",
        "outputId": "66c74a5a-fe85-497b-f3c3-5eca2907715d"
      },
      "source": [
        "list2.remove(11)"
      ],
      "execution_count": 34,
      "outputs": [
        {
          "output_type": "error",
          "ename": "ValueError",
          "evalue": "ignored",
          "traceback": [
            "\u001b[0;31m---------------------------------------------------------------------------\u001b[0m",
            "\u001b[0;31mValueError\u001b[0m                                Traceback (most recent call last)",
            "\u001b[0;32m<ipython-input-34-3349620dede0>\u001b[0m in \u001b[0;36m<module>\u001b[0;34m()\u001b[0m\n\u001b[0;32m----> 1\u001b[0;31m \u001b[0mlist2\u001b[0m\u001b[0;34m.\u001b[0m\u001b[0mremove\u001b[0m\u001b[0;34m(\u001b[0m\u001b[0;36m11\u001b[0m\u001b[0;34m)\u001b[0m\u001b[0;34m\u001b[0m\u001b[0;34m\u001b[0m\u001b[0m\n\u001b[0m",
            "\u001b[0;31mValueError\u001b[0m: list.remove(x): x not in list"
          ]
        }
      ]
    },
    {
      "cell_type": "code",
      "metadata": {
        "id": "-6MnAXup_KST"
      },
      "source": [
        "list2.remove(18)"
      ],
      "execution_count": 35,
      "outputs": []
    },
    {
      "cell_type": "code",
      "metadata": {
        "colab": {
          "base_uri": "https://localhost:8080/"
        },
        "id": "X1Xukd_4_QYr",
        "outputId": "bbd12920-a90d-43a9-d533-9e5ebbe5b455"
      },
      "source": [
        "list2"
      ],
      "execution_count": 36,
      "outputs": [
        {
          "output_type": "execute_result",
          "data": {
            "text/plain": [
              "[9, 12, 12.9, 32.9, 20, 15]"
            ]
          },
          "metadata": {},
          "execution_count": 36
        }
      ]
    },
    {
      "cell_type": "code",
      "metadata": {
        "colab": {
          "base_uri": "https://localhost:8080/"
        },
        "id": "7yQBS8Am_Rp1",
        "outputId": "f1e57b8b-347b-4c68-89ab-06a102128f85"
      },
      "source": [
        "list2[2:5]"
      ],
      "execution_count": 37,
      "outputs": [
        {
          "output_type": "execute_result",
          "data": {
            "text/plain": [
              "[12.9, 32.9, 20]"
            ]
          },
          "metadata": {},
          "execution_count": 37
        }
      ]
    },
    {
      "cell_type": "code",
      "metadata": {
        "id": "YZs02ZKMASOx"
      },
      "source": [
        "del list2[2:5]"
      ],
      "execution_count": 38,
      "outputs": []
    },
    {
      "cell_type": "code",
      "metadata": {
        "colab": {
          "base_uri": "https://localhost:8080/"
        },
        "id": "9OK_boE4Aj1C",
        "outputId": "e130bada-1e91-4f65-a701-8c5fbb1ec3de"
      },
      "source": [
        "list2"
      ],
      "execution_count": 39,
      "outputs": [
        {
          "output_type": "execute_result",
          "data": {
            "text/plain": [
              "[9, 12, 15]"
            ]
          },
          "metadata": {},
          "execution_count": 39
        }
      ]
    },
    {
      "cell_type": "code",
      "metadata": {
        "colab": {
          "base_uri": "https://localhost:8080/",
          "height": 171
        },
        "id": "sDIT14ukAlE6",
        "outputId": "31a87c25-b530-4845-c6ff-90da1f887746"
      },
      "source": [
        "list2.max"
      ],
      "execution_count": 40,
      "outputs": [
        {
          "output_type": "error",
          "ename": "AttributeError",
          "evalue": "ignored",
          "traceback": [
            "\u001b[0;31m---------------------------------------------------------------------------\u001b[0m",
            "\u001b[0;31mAttributeError\u001b[0m                            Traceback (most recent call last)",
            "\u001b[0;32m<ipython-input-40-9c61388f47ba>\u001b[0m in \u001b[0;36m<module>\u001b[0;34m()\u001b[0m\n\u001b[0;32m----> 1\u001b[0;31m \u001b[0mlist2\u001b[0m\u001b[0;34m.\u001b[0m\u001b[0mmax\u001b[0m\u001b[0;34m\u001b[0m\u001b[0;34m\u001b[0m\u001b[0m\n\u001b[0m",
            "\u001b[0;31mAttributeError\u001b[0m: 'list' object has no attribute 'max'"
          ]
        }
      ]
    },
    {
      "cell_type": "code",
      "metadata": {
        "colab": {
          "base_uri": "https://localhost:8080/"
        },
        "id": "vMpqOYM4BOhe",
        "outputId": "c44c032a-600d-43af-d812-af598e8b2e57"
      },
      "source": [
        "max(2,8,98,34,23)"
      ],
      "execution_count": 41,
      "outputs": [
        {
          "output_type": "execute_result",
          "data": {
            "text/plain": [
              "98"
            ]
          },
          "metadata": {},
          "execution_count": 41
        }
      ]
    },
    {
      "cell_type": "code",
      "metadata": {
        "colab": {
          "base_uri": "https://localhost:8080/"
        },
        "id": "6MhF82OlBhyw",
        "outputId": "608f1b88-4e3c-431f-a2e2-8651b2cf1d1a"
      },
      "source": [
        "max(list2)"
      ],
      "execution_count": 42,
      "outputs": [
        {
          "output_type": "execute_result",
          "data": {
            "text/plain": [
              "15"
            ]
          },
          "metadata": {},
          "execution_count": 42
        }
      ]
    },
    {
      "cell_type": "code",
      "metadata": {
        "colab": {
          "base_uri": "https://localhost:8080/"
        },
        "id": "uH_wd4-hBpgk",
        "outputId": "baaf5d0a-7592-490d-b0d5-8514a989889d"
      },
      "source": [
        "min(list2)"
      ],
      "execution_count": 43,
      "outputs": [
        {
          "output_type": "execute_result",
          "data": {
            "text/plain": [
              "9"
            ]
          },
          "metadata": {},
          "execution_count": 43
        }
      ]
    },
    {
      "cell_type": "code",
      "metadata": {
        "colab": {
          "base_uri": "https://localhost:8080/"
        },
        "id": "bxs7srb_CKca",
        "outputId": "0c66e480-d10f-4a6a-d756-687a4266604e"
      },
      "source": [
        "sum(list2)"
      ],
      "execution_count": 44,
      "outputs": [
        {
          "output_type": "execute_result",
          "data": {
            "text/plain": [
              "36"
            ]
          },
          "metadata": {},
          "execution_count": 44
        }
      ]
    },
    {
      "cell_type": "code",
      "metadata": {
        "colab": {
          "base_uri": "https://localhost:8080/"
        },
        "id": "EsdiKWbPCNey",
        "outputId": "aa38c9c5-57dd-48e9-b8a1-3e857144b3d9"
      },
      "source": [
        "list2"
      ],
      "execution_count": 45,
      "outputs": [
        {
          "output_type": "execute_result",
          "data": {
            "text/plain": [
              "[9, 12, 15]"
            ]
          },
          "metadata": {},
          "execution_count": 45
        }
      ]
    },
    {
      "cell_type": "code",
      "metadata": {
        "colab": {
          "base_uri": "https://localhost:8080/"
        },
        "id": "5aHlw6swCPlc",
        "outputId": "9c463147-3439-400f-a291-a68e0604b4ed"
      },
      "source": [
        "list2[2]"
      ],
      "execution_count": 46,
      "outputs": [
        {
          "output_type": "execute_result",
          "data": {
            "text/plain": [
              "15"
            ]
          },
          "metadata": {},
          "execution_count": 46
        }
      ]
    },
    {
      "cell_type": "code",
      "metadata": {
        "id": "9jyEnFr_CsBc"
      },
      "source": [
        "list2[2] = 30"
      ],
      "execution_count": 47,
      "outputs": []
    },
    {
      "cell_type": "code",
      "metadata": {
        "colab": {
          "base_uri": "https://localhost:8080/"
        },
        "id": "cni66R5uC1ML",
        "outputId": "7be52d11-4a93-4381-90b8-9d19c4cfdbc1"
      },
      "source": [
        "list2"
      ],
      "execution_count": 48,
      "outputs": [
        {
          "output_type": "execute_result",
          "data": {
            "text/plain": [
              "[9, 12, 30]"
            ]
          },
          "metadata": {},
          "execution_count": 48
        }
      ]
    },
    {
      "cell_type": "code",
      "metadata": {
        "colab": {
          "base_uri": "https://localhost:8080/",
          "height": 171
        },
        "id": "D0OfF2b_C28n",
        "outputId": "a7b14e5b-1554-4847-cdae-68837814485d"
      },
      "source": [
        "list2[3] = 20"
      ],
      "execution_count": 49,
      "outputs": [
        {
          "output_type": "error",
          "ename": "IndexError",
          "evalue": "ignored",
          "traceback": [
            "\u001b[0;31m---------------------------------------------------------------------------\u001b[0m",
            "\u001b[0;31mIndexError\u001b[0m                                Traceback (most recent call last)",
            "\u001b[0;32m<ipython-input-49-9abc4caa5d05>\u001b[0m in \u001b[0;36m<module>\u001b[0;34m()\u001b[0m\n\u001b[0;32m----> 1\u001b[0;31m \u001b[0mlist2\u001b[0m\u001b[0;34m[\u001b[0m\u001b[0;36m3\u001b[0m\u001b[0;34m]\u001b[0m \u001b[0;34m=\u001b[0m \u001b[0;36m20\u001b[0m\u001b[0;34m\u001b[0m\u001b[0;34m\u001b[0m\u001b[0m\n\u001b[0m",
            "\u001b[0;31mIndexError\u001b[0m: list assignment index out of range"
          ]
        }
      ]
    },
    {
      "cell_type": "code",
      "metadata": {
        "id": "aQQw3hqeDN_l"
      },
      "source": [
        "list3 = [89,34,78,20]"
      ],
      "execution_count": 50,
      "outputs": []
    },
    {
      "cell_type": "code",
      "metadata": {
        "colab": {
          "base_uri": "https://localhost:8080/"
        },
        "id": "IFDv0IhlDtHw",
        "outputId": "45b35584-0339-41bb-8ec7-7c55d0182c4d"
      },
      "source": [
        "type(list3)"
      ],
      "execution_count": 51,
      "outputs": [
        {
          "output_type": "execute_result",
          "data": {
            "text/plain": [
              "list"
            ]
          },
          "metadata": {},
          "execution_count": 51
        }
      ]
    },
    {
      "cell_type": "markdown",
      "metadata": {
        "id": "dKEwOrVzh6XY"
      },
      "source": [
        "### Tuples"
      ]
    },
    {
      "cell_type": "code",
      "metadata": {
        "id": "mZtYH7IrDu6A"
      },
      "source": [
        "list3 = (89,34,78,20)"
      ],
      "execution_count": 52,
      "outputs": []
    },
    {
      "cell_type": "code",
      "metadata": {
        "colab": {
          "base_uri": "https://localhost:8080/"
        },
        "id": "ksRpfznvD0yN",
        "outputId": "55e36e59-0016-4a32-e5ad-a8c97a1cde26"
      },
      "source": [
        "type(list3)"
      ],
      "execution_count": 53,
      "outputs": [
        {
          "output_type": "execute_result",
          "data": {
            "text/plain": [
              "tuple"
            ]
          },
          "metadata": {},
          "execution_count": 53
        }
      ]
    },
    {
      "cell_type": "code",
      "metadata": {
        "colab": {
          "base_uri": "https://localhost:8080/"
        },
        "id": "3DFj05zED374",
        "outputId": "64b23e38-614e-42ec-863e-8d62473bca50"
      },
      "source": [
        "list3[3]"
      ],
      "execution_count": 55,
      "outputs": [
        {
          "output_type": "execute_result",
          "data": {
            "text/plain": [
              "20"
            ]
          },
          "metadata": {},
          "execution_count": 55
        }
      ]
    },
    {
      "cell_type": "code",
      "metadata": {
        "colab": {
          "base_uri": "https://localhost:8080/",
          "height": 171
        },
        "id": "qEW5Tis2EOUw",
        "outputId": "d0a180d3-cdfa-4cdb-e96a-e6ef88231dae"
      },
      "source": [
        "list3[3] = 12"
      ],
      "execution_count": 56,
      "outputs": [
        {
          "output_type": "error",
          "ename": "TypeError",
          "evalue": "ignored",
          "traceback": [
            "\u001b[0;31m---------------------------------------------------------------------------\u001b[0m",
            "\u001b[0;31mTypeError\u001b[0m                                 Traceback (most recent call last)",
            "\u001b[0;32m<ipython-input-56-7ab8e48be236>\u001b[0m in \u001b[0;36m<module>\u001b[0;34m()\u001b[0m\n\u001b[0;32m----> 1\u001b[0;31m \u001b[0mlist3\u001b[0m\u001b[0;34m[\u001b[0m\u001b[0;36m3\u001b[0m\u001b[0;34m]\u001b[0m \u001b[0;34m=\u001b[0m \u001b[0;36m12\u001b[0m\u001b[0;34m\u001b[0m\u001b[0;34m\u001b[0m\u001b[0m\n\u001b[0m",
            "\u001b[0;31mTypeError\u001b[0m: 'tuple' object does not support item assignment"
          ]
        }
      ]
    },
    {
      "cell_type": "code",
      "metadata": {
        "colab": {
          "base_uri": "https://localhost:8080/"
        },
        "id": "lMeDxUEaEXA4",
        "outputId": "0a7224f1-f33d-4d0e-f5b5-181c8c22980a"
      },
      "source": [
        "list3.count(34)"
      ],
      "execution_count": 57,
      "outputs": [
        {
          "output_type": "execute_result",
          "data": {
            "text/plain": [
              "1"
            ]
          },
          "metadata": {},
          "execution_count": 57
        }
      ]
    },
    {
      "cell_type": "code",
      "metadata": {
        "colab": {
          "base_uri": "https://localhost:8080/"
        },
        "id": "-ODq4CmZEwHw",
        "outputId": "7a6e91df-d9a8-4f07-8dfd-3f6d3266beaf"
      },
      "source": [
        "list3.count(35)"
      ],
      "execution_count": 58,
      "outputs": [
        {
          "output_type": "execute_result",
          "data": {
            "text/plain": [
              "0"
            ]
          },
          "metadata": {},
          "execution_count": 58
        }
      ]
    },
    {
      "cell_type": "code",
      "metadata": {
        "id": "4FxH1BmpEyrE"
      },
      "source": [
        "t1 = (10)"
      ],
      "execution_count": 59,
      "outputs": []
    },
    {
      "cell_type": "code",
      "metadata": {
        "colab": {
          "base_uri": "https://localhost:8080/"
        },
        "id": "_nVeKGFIFGCu",
        "outputId": "b42dce58-3f4f-47d4-f617-a93bc2e95912"
      },
      "source": [
        "type(t1)"
      ],
      "execution_count": 60,
      "outputs": [
        {
          "output_type": "execute_result",
          "data": {
            "text/plain": [
              "int"
            ]
          },
          "metadata": {},
          "execution_count": 60
        }
      ]
    },
    {
      "cell_type": "code",
      "metadata": {
        "id": "kk74UJf8FKGN"
      },
      "source": [
        "t1 = (10,)"
      ],
      "execution_count": 61,
      "outputs": []
    },
    {
      "cell_type": "code",
      "metadata": {
        "colab": {
          "base_uri": "https://localhost:8080/"
        },
        "id": "l-K9-2B1FXTt",
        "outputId": "048404ad-ecfc-4ed2-cadb-3fcb24121b3d"
      },
      "source": [
        "type(t1)"
      ],
      "execution_count": 62,
      "outputs": [
        {
          "output_type": "execute_result",
          "data": {
            "text/plain": [
              "tuple"
            ]
          },
          "metadata": {},
          "execution_count": 62
        }
      ]
    },
    {
      "cell_type": "markdown",
      "metadata": {
        "id": "EcPAPP2biI7j"
      },
      "source": [
        "### Dictionaries"
      ]
    },
    {
      "cell_type": "code",
      "metadata": {
        "id": "AjpJ6Sj5FZzF"
      },
      "source": [
        "dict1 = {\"x\":6,\n",
        "         \"y\": 10}"
      ],
      "execution_count": 63,
      "outputs": []
    },
    {
      "cell_type": "code",
      "metadata": {
        "colab": {
          "base_uri": "https://localhost:8080/"
        },
        "id": "2ncXeC91Hx0r",
        "outputId": "b42c7e83-afd5-4cb8-815d-69601c69bb59"
      },
      "source": [
        "dict1"
      ],
      "execution_count": 64,
      "outputs": [
        {
          "output_type": "execute_result",
          "data": {
            "text/plain": [
              "{'x': 6, 'y': 10}"
            ]
          },
          "metadata": {},
          "execution_count": 64
        }
      ]
    },
    {
      "cell_type": "code",
      "metadata": {
        "colab": {
          "base_uri": "https://localhost:8080/"
        },
        "id": "WzlSpukUHzu3",
        "outputId": "4e676a57-8089-4fb1-aef5-c0dce281a719"
      },
      "source": [
        "type(dict1)"
      ],
      "execution_count": 65,
      "outputs": [
        {
          "output_type": "execute_result",
          "data": {
            "text/plain": [
              "dict"
            ]
          },
          "metadata": {},
          "execution_count": 65
        }
      ]
    },
    {
      "cell_type": "code",
      "metadata": {
        "colab": {
          "base_uri": "https://localhost:8080/"
        },
        "id": "CWosuaTzH62g",
        "outputId": "063de38f-9b16-4d2d-caf2-8c670f77ae0d"
      },
      "source": [
        "dict1.keys()"
      ],
      "execution_count": 66,
      "outputs": [
        {
          "output_type": "execute_result",
          "data": {
            "text/plain": [
              "dict_keys(['x', 'y'])"
            ]
          },
          "metadata": {},
          "execution_count": 66
        }
      ]
    },
    {
      "cell_type": "code",
      "metadata": {
        "colab": {
          "base_uri": "https://localhost:8080/"
        },
        "id": "fdrM-PWgIKOV",
        "outputId": "72d00a48-ed1e-430b-d12e-67c9e7b06698"
      },
      "source": [
        "dict1.values()"
      ],
      "execution_count": 67,
      "outputs": [
        {
          "output_type": "execute_result",
          "data": {
            "text/plain": [
              "dict_values([6, 10])"
            ]
          },
          "metadata": {},
          "execution_count": 67
        }
      ]
    },
    {
      "cell_type": "code",
      "metadata": {
        "colab": {
          "base_uri": "https://localhost:8080/"
        },
        "id": "FG7UpT6kIN9R",
        "outputId": "721525e9-f7d8-4c4f-9b3d-0a4ce9a89838"
      },
      "source": [
        "dict1['x']"
      ],
      "execution_count": 68,
      "outputs": [
        {
          "output_type": "execute_result",
          "data": {
            "text/plain": [
              "6"
            ]
          },
          "metadata": {},
          "execution_count": 68
        }
      ]
    },
    {
      "cell_type": "code",
      "metadata": {
        "colab": {
          "base_uri": "https://localhost:8080/"
        },
        "id": "fEvUAFHXIS0L",
        "outputId": "930404fe-d57b-4fb3-f348-d25ade0d1b4c"
      },
      "source": [
        "dict1['y']"
      ],
      "execution_count": 69,
      "outputs": [
        {
          "output_type": "execute_result",
          "data": {
            "text/plain": [
              "10"
            ]
          },
          "metadata": {},
          "execution_count": 69
        }
      ]
    },
    {
      "cell_type": "code",
      "metadata": {
        "id": "EVsxfEvNIXPh"
      },
      "source": [
        "dict1['x'] = [1,2,3,4]"
      ],
      "execution_count": 70,
      "outputs": []
    },
    {
      "cell_type": "code",
      "metadata": {
        "colab": {
          "base_uri": "https://localhost:8080/"
        },
        "id": "K00TTfvMIlFM",
        "outputId": "3042a620-7ed6-4940-e6b6-0064229ae6af"
      },
      "source": [
        "dict1"
      ],
      "execution_count": 71,
      "outputs": [
        {
          "output_type": "execute_result",
          "data": {
            "text/plain": [
              "{'x': [1, 2, 3, 4], 'y': 10}"
            ]
          },
          "metadata": {},
          "execution_count": 71
        }
      ]
    },
    {
      "cell_type": "code",
      "metadata": {
        "id": "qeJZytNoInt8"
      },
      "source": [
        "dict1['y'] = (1,2,3,4)"
      ],
      "execution_count": 72,
      "outputs": []
    },
    {
      "cell_type": "code",
      "metadata": {
        "colab": {
          "base_uri": "https://localhost:8080/"
        },
        "id": "-6Qz6xwfI1Tv",
        "outputId": "6fe3de04-6c50-4c1a-ac64-4811c4affb45"
      },
      "source": [
        "dict1"
      ],
      "execution_count": 73,
      "outputs": [
        {
          "output_type": "execute_result",
          "data": {
            "text/plain": [
              "{'x': [1, 2, 3, 4], 'y': (1, 2, 3, 4)}"
            ]
          },
          "metadata": {},
          "execution_count": 73
        }
      ]
    },
    {
      "cell_type": "code",
      "metadata": {
        "id": "n6F-SZMXI3Ju"
      },
      "source": [
        "dict2 = {\"x\": 1,\n",
        "         \"y\": 2,\n",
        "         \"x\": [2,3]}"
      ],
      "execution_count": 74,
      "outputs": []
    },
    {
      "cell_type": "code",
      "metadata": {
        "colab": {
          "base_uri": "https://localhost:8080/"
        },
        "id": "zPiJ5E06JNOm",
        "outputId": "6c370c32-ead0-4073-d213-bb498157815d"
      },
      "source": [
        "dict2"
      ],
      "execution_count": 75,
      "outputs": [
        {
          "output_type": "execute_result",
          "data": {
            "text/plain": [
              "{'x': [2, 3], 'y': 2}"
            ]
          },
          "metadata": {},
          "execution_count": 75
        }
      ]
    },
    {
      "cell_type": "code",
      "metadata": {
        "id": "SFmtrAEuJS3Q"
      },
      "source": [
        "d = {110:\"abc\",\n",
        "     111:\"xyz\",\n",
        "     112:\"qwe\"}"
      ],
      "execution_count": 76,
      "outputs": []
    },
    {
      "cell_type": "code",
      "metadata": {
        "colab": {
          "base_uri": "https://localhost:8080/"
        },
        "id": "Bg9XvNAqJu51",
        "outputId": "c257db23-2793-46ae-a55f-dba762d019f1"
      },
      "source": [
        "d.keys()"
      ],
      "execution_count": 77,
      "outputs": [
        {
          "output_type": "execute_result",
          "data": {
            "text/plain": [
              "dict_keys([110, 111, 112])"
            ]
          },
          "metadata": {},
          "execution_count": 77
        }
      ]
    },
    {
      "cell_type": "code",
      "metadata": {
        "colab": {
          "base_uri": "https://localhost:8080/",
          "height": 35
        },
        "id": "aj5d3ex_JzCv",
        "outputId": "785174e7-4168-4f88-f7ff-d1240b0d1f19"
      },
      "source": [
        "d[110]"
      ],
      "execution_count": 78,
      "outputs": [
        {
          "output_type": "execute_result",
          "data": {
            "application/vnd.google.colaboratory.intrinsic+json": {
              "type": "string"
            },
            "text/plain": [
              "'abc'"
            ]
          },
          "metadata": {},
          "execution_count": 78
        }
      ]
    },
    {
      "cell_type": "code",
      "metadata": {
        "colab": {
          "base_uri": "https://localhost:8080/",
          "height": 171
        },
        "id": "OqxA4hN-J32K",
        "outputId": "46012f44-bb6c-4546-cc1c-e60fd6c40768"
      },
      "source": [
        "d[123]"
      ],
      "execution_count": 79,
      "outputs": [
        {
          "output_type": "error",
          "ename": "KeyError",
          "evalue": "ignored",
          "traceback": [
            "\u001b[0;31m---------------------------------------------------------------------------\u001b[0m",
            "\u001b[0;31mKeyError\u001b[0m                                  Traceback (most recent call last)",
            "\u001b[0;32m<ipython-input-79-55e498209f5e>\u001b[0m in \u001b[0;36m<module>\u001b[0;34m()\u001b[0m\n\u001b[0;32m----> 1\u001b[0;31m \u001b[0md\u001b[0m\u001b[0;34m[\u001b[0m\u001b[0;36m123\u001b[0m\u001b[0;34m]\u001b[0m\u001b[0;34m\u001b[0m\u001b[0;34m\u001b[0m\u001b[0m\n\u001b[0m",
            "\u001b[0;31mKeyError\u001b[0m: 123"
          ]
        }
      ]
    },
    {
      "cell_type": "code",
      "metadata": {
        "colab": {
          "base_uri": "https://localhost:8080/",
          "height": 35
        },
        "id": "3D_tXUfUJ_6m",
        "outputId": "8a1689f4-4bba-4552-cd3f-c686a6494159"
      },
      "source": [
        "d.get(110)"
      ],
      "execution_count": 80,
      "outputs": [
        {
          "output_type": "execute_result",
          "data": {
            "application/vnd.google.colaboratory.intrinsic+json": {
              "type": "string"
            },
            "text/plain": [
              "'abc'"
            ]
          },
          "metadata": {},
          "execution_count": 80
        }
      ]
    },
    {
      "cell_type": "code",
      "metadata": {
        "colab": {
          "base_uri": "https://localhost:8080/",
          "height": 35
        },
        "id": "YdQ41mthKWzo",
        "outputId": "5c18464b-53c5-4f76-8497-f29911a2e290"
      },
      "source": [
        "d.get(123, \"NA\")"
      ],
      "execution_count": 82,
      "outputs": [
        {
          "output_type": "execute_result",
          "data": {
            "application/vnd.google.colaboratory.intrinsic+json": {
              "type": "string"
            },
            "text/plain": [
              "'NA'"
            ]
          },
          "metadata": {},
          "execution_count": 82
        }
      ]
    },
    {
      "cell_type": "code",
      "metadata": {
        "colab": {
          "base_uri": "https://localhost:8080/",
          "height": 35
        },
        "id": "clSZZInbKh4q",
        "outputId": "bda595e0-a484-4ad1-f138-37697422cff6"
      },
      "source": [
        "d.get(110, \"NA\")"
      ],
      "execution_count": 83,
      "outputs": [
        {
          "output_type": "execute_result",
          "data": {
            "application/vnd.google.colaboratory.intrinsic+json": {
              "type": "string"
            },
            "text/plain": [
              "'abc'"
            ]
          },
          "metadata": {},
          "execution_count": 83
        }
      ]
    },
    {
      "cell_type": "code",
      "metadata": {
        "colab": {
          "base_uri": "https://localhost:8080/"
        },
        "id": "o_U6zjGCLCPZ",
        "outputId": "8b3d3196-2a81-44be-a4e1-7483509b91b4"
      },
      "source": [
        "len(d)"
      ],
      "execution_count": 84,
      "outputs": [
        {
          "output_type": "execute_result",
          "data": {
            "text/plain": [
              "3"
            ]
          },
          "metadata": {},
          "execution_count": 84
        }
      ]
    },
    {
      "cell_type": "code",
      "metadata": {
        "colab": {
          "base_uri": "https://localhost:8080/"
        },
        "id": "2A7GqNegLUie",
        "outputId": "661edb3c-2175-4b3d-c460-d251a8a100d3"
      },
      "source": [
        "d"
      ],
      "execution_count": 85,
      "outputs": [
        {
          "output_type": "execute_result",
          "data": {
            "text/plain": [
              "{110: 'abc', 111: 'xyz', 112: 'qwe'}"
            ]
          },
          "metadata": {},
          "execution_count": 85
        }
      ]
    },
    {
      "cell_type": "code",
      "metadata": {
        "colab": {
          "base_uri": "https://localhost:8080/",
          "height": 35
        },
        "id": "79oHuHuvLWEp",
        "outputId": "76ac5864-a64f-448f-9b48-8f23a94bf0e9"
      },
      "source": [
        "d.pop(111)"
      ],
      "execution_count": 86,
      "outputs": [
        {
          "output_type": "execute_result",
          "data": {
            "application/vnd.google.colaboratory.intrinsic+json": {
              "type": "string"
            },
            "text/plain": [
              "'xyz'"
            ]
          },
          "metadata": {},
          "execution_count": 86
        }
      ]
    },
    {
      "cell_type": "code",
      "metadata": {
        "colab": {
          "base_uri": "https://localhost:8080/"
        },
        "id": "bhtQLANdLrVY",
        "outputId": "dcc66e65-a945-40b2-9e19-bbb97a29e654"
      },
      "source": [
        "d"
      ],
      "execution_count": 87,
      "outputs": [
        {
          "output_type": "execute_result",
          "data": {
            "text/plain": [
              "{110: 'abc', 112: 'qwe'}"
            ]
          },
          "metadata": {},
          "execution_count": 87
        }
      ]
    },
    {
      "cell_type": "code",
      "metadata": {
        "id": "ePrER5aNLssI"
      },
      "source": [
        "d1 = dict(x = [\"a\",\"b\",\"c\"], y = [4,5,6])"
      ],
      "execution_count": 88,
      "outputs": []
    },
    {
      "cell_type": "code",
      "metadata": {
        "colab": {
          "base_uri": "https://localhost:8080/"
        },
        "id": "JCpzfZDCMsep",
        "outputId": "e6599ece-be7d-48d0-8ad5-db2e4158279a"
      },
      "source": [
        "d1"
      ],
      "execution_count": 89,
      "outputs": [
        {
          "output_type": "execute_result",
          "data": {
            "text/plain": [
              "{'x': ['a', 'b', 'c'], 'y': [4, 5, 6]}"
            ]
          },
          "metadata": {},
          "execution_count": 89
        }
      ]
    },
    {
      "cell_type": "markdown",
      "metadata": {
        "id": "NE19Rj2gM_Bu"
      },
      "source": [
        "1. If you give input of 1234, it should return \"One Two Three Four\""
      ]
    },
    {
      "cell_type": "markdown",
      "metadata": {
        "id": "KGFhGPXAiWJ4"
      },
      "source": [
        "### Sets"
      ]
    },
    {
      "cell_type": "markdown",
      "metadata": {
        "id": "0cYQUtVcQR3y"
      },
      "source": [
        "Sets"
      ]
    },
    {
      "cell_type": "markdown",
      "metadata": {
        "id": "7GGzyit_QsbP"
      },
      "source": [
        "1. Unordered collection of data\n",
        "2. Maths concept of Sets"
      ]
    },
    {
      "cell_type": "code",
      "metadata": {
        "id": "V5TsmwenMtW_"
      },
      "source": [
        "s1 = {10,20,30}"
      ],
      "execution_count": 90,
      "outputs": []
    },
    {
      "cell_type": "code",
      "metadata": {
        "colab": {
          "base_uri": "https://localhost:8080/"
        },
        "id": "f_9d5nlBRHHR",
        "outputId": "8858829b-ea9f-427b-fee2-0aa84bf45bb8"
      },
      "source": [
        "type(s1)"
      ],
      "execution_count": 91,
      "outputs": [
        {
          "output_type": "execute_result",
          "data": {
            "text/plain": [
              "set"
            ]
          },
          "metadata": {},
          "execution_count": 91
        }
      ]
    },
    {
      "cell_type": "code",
      "metadata": {
        "id": "NLtgM77tRJuL"
      },
      "source": [
        "s2 = {}"
      ],
      "execution_count": 92,
      "outputs": []
    },
    {
      "cell_type": "code",
      "metadata": {
        "colab": {
          "base_uri": "https://localhost:8080/"
        },
        "id": "TtQfxrtoRVpU",
        "outputId": "896fa661-c200-44f6-dc95-b1b7b7d849f2"
      },
      "source": [
        "type(s2)"
      ],
      "execution_count": 93,
      "outputs": [
        {
          "output_type": "execute_result",
          "data": {
            "text/plain": [
              "dict"
            ]
          },
          "metadata": {},
          "execution_count": 93
        }
      ]
    },
    {
      "cell_type": "code",
      "metadata": {
        "id": "2Vkd1yLmRX0g"
      },
      "source": [
        "s3 = set([4,5,6])"
      ],
      "execution_count": 94,
      "outputs": []
    },
    {
      "cell_type": "code",
      "metadata": {
        "colab": {
          "base_uri": "https://localhost:8080/"
        },
        "id": "9bfFQE1RRnSp",
        "outputId": "9157dfcd-8e0e-4cc5-ee22-b41adfaf1bb2"
      },
      "source": [
        "type(s3)"
      ],
      "execution_count": 95,
      "outputs": [
        {
          "output_type": "execute_result",
          "data": {
            "text/plain": [
              "set"
            ]
          },
          "metadata": {},
          "execution_count": 95
        }
      ]
    },
    {
      "cell_type": "code",
      "metadata": {
        "colab": {
          "base_uri": "https://localhost:8080/"
        },
        "id": "scsMvT6XRpxb",
        "outputId": "3a3ead9c-0a40-4b46-8d15-2e61092411e6"
      },
      "source": [
        "s3"
      ],
      "execution_count": 96,
      "outputs": [
        {
          "output_type": "execute_result",
          "data": {
            "text/plain": [
              "{4, 5, 6}"
            ]
          },
          "metadata": {},
          "execution_count": 96
        }
      ]
    },
    {
      "cell_type": "code",
      "metadata": {
        "id": "SsY6yfJgRxmG"
      },
      "source": [
        "s3.add(4)"
      ],
      "execution_count": 97,
      "outputs": []
    },
    {
      "cell_type": "code",
      "metadata": {
        "colab": {
          "base_uri": "https://localhost:8080/"
        },
        "id": "3LLg8bTMR5w1",
        "outputId": "cb3530fe-7ea7-47ed-840f-fd892ee77608"
      },
      "source": [
        "s3"
      ],
      "execution_count": 98,
      "outputs": [
        {
          "output_type": "execute_result",
          "data": {
            "text/plain": [
              "{4, 5, 6}"
            ]
          },
          "metadata": {},
          "execution_count": 98
        }
      ]
    },
    {
      "cell_type": "code",
      "metadata": {
        "id": "B3cC-RbcR7gI"
      },
      "source": [
        "s3.add(7)"
      ],
      "execution_count": 99,
      "outputs": []
    },
    {
      "cell_type": "code",
      "metadata": {
        "colab": {
          "base_uri": "https://localhost:8080/"
        },
        "id": "jMeJE8lESKqJ",
        "outputId": "b5a1248d-29c1-4284-d644-8c61e0fa48ec"
      },
      "source": [
        "s3"
      ],
      "execution_count": 100,
      "outputs": [
        {
          "output_type": "execute_result",
          "data": {
            "text/plain": [
              "{4, 5, 6, 7}"
            ]
          },
          "metadata": {},
          "execution_count": 100
        }
      ]
    },
    {
      "cell_type": "code",
      "metadata": {
        "colab": {
          "base_uri": "https://localhost:8080/",
          "height": 171
        },
        "id": "oeK2d7AtSLir",
        "outputId": "127ec109-31eb-4c6b-fd04-4a85000cfc95"
      },
      "source": [
        "s3.add([4,5])"
      ],
      "execution_count": 101,
      "outputs": [
        {
          "output_type": "error",
          "ename": "TypeError",
          "evalue": "ignored",
          "traceback": [
            "\u001b[0;31m---------------------------------------------------------------------------\u001b[0m",
            "\u001b[0;31mTypeError\u001b[0m                                 Traceback (most recent call last)",
            "\u001b[0;32m<ipython-input-101-8140a2c3a376>\u001b[0m in \u001b[0;36m<module>\u001b[0;34m()\u001b[0m\n\u001b[0;32m----> 1\u001b[0;31m \u001b[0ms3\u001b[0m\u001b[0;34m.\u001b[0m\u001b[0madd\u001b[0m\u001b[0;34m(\u001b[0m\u001b[0;34m[\u001b[0m\u001b[0;36m4\u001b[0m\u001b[0;34m,\u001b[0m\u001b[0;36m5\u001b[0m\u001b[0;34m]\u001b[0m\u001b[0;34m)\u001b[0m\u001b[0;34m\u001b[0m\u001b[0;34m\u001b[0m\u001b[0m\n\u001b[0m",
            "\u001b[0;31mTypeError\u001b[0m: unhashable type: 'list'"
          ]
        }
      ]
    },
    {
      "cell_type": "code",
      "metadata": {
        "id": "-O4Zb9qiSXgQ"
      },
      "source": [
        "s3.update([8,9])"
      ],
      "execution_count": 103,
      "outputs": []
    },
    {
      "cell_type": "code",
      "metadata": {
        "colab": {
          "base_uri": "https://localhost:8080/"
        },
        "id": "t9F2FwhzSmbe",
        "outputId": "68a99e02-b034-4c29-cc98-d3cc7e7403e9"
      },
      "source": [
        "s3"
      ],
      "execution_count": 104,
      "outputs": [
        {
          "output_type": "execute_result",
          "data": {
            "text/plain": [
              "{4, 5, 6, 7, 8, 9}"
            ]
          },
          "metadata": {},
          "execution_count": 104
        }
      ]
    },
    {
      "cell_type": "code",
      "metadata": {
        "id": "0q0m4IZ0SsKH"
      },
      "source": [
        "s3.discard(5)"
      ],
      "execution_count": 105,
      "outputs": []
    },
    {
      "cell_type": "code",
      "metadata": {
        "colab": {
          "base_uri": "https://localhost:8080/"
        },
        "id": "2-bjrpesTJDe",
        "outputId": "31744cfa-952f-47e0-c480-ac7065a9c4bd"
      },
      "source": [
        "s3"
      ],
      "execution_count": 106,
      "outputs": [
        {
          "output_type": "execute_result",
          "data": {
            "text/plain": [
              "{4, 6, 7, 8, 9}"
            ]
          },
          "metadata": {},
          "execution_count": 106
        }
      ]
    },
    {
      "cell_type": "code",
      "metadata": {
        "id": "RQMqHdoDTKCY"
      },
      "source": [
        "s3.discard(51)"
      ],
      "execution_count": 107,
      "outputs": []
    },
    {
      "cell_type": "code",
      "metadata": {
        "colab": {
          "base_uri": "https://localhost:8080/"
        },
        "id": "Bt2G_S_sTRQF",
        "outputId": "d8dc53e1-8c41-4383-d76b-18da3283d3a5"
      },
      "source": [
        "s3"
      ],
      "execution_count": 108,
      "outputs": [
        {
          "output_type": "execute_result",
          "data": {
            "text/plain": [
              "{4, 6, 7, 8, 9}"
            ]
          },
          "metadata": {},
          "execution_count": 108
        }
      ]
    },
    {
      "cell_type": "code",
      "metadata": {
        "id": "AnE-0HdWTSTy"
      },
      "source": [
        "s3.remove(7)"
      ],
      "execution_count": 109,
      "outputs": []
    },
    {
      "cell_type": "code",
      "metadata": {
        "colab": {
          "base_uri": "https://localhost:8080/"
        },
        "id": "HNi1GdXTTi3B",
        "outputId": "27ac8fd7-a7be-42be-f5a3-1b888f5d64e3"
      },
      "source": [
        "s3"
      ],
      "execution_count": 110,
      "outputs": [
        {
          "output_type": "execute_result",
          "data": {
            "text/plain": [
              "{4, 6, 8, 9}"
            ]
          },
          "metadata": {},
          "execution_count": 110
        }
      ]
    },
    {
      "cell_type": "code",
      "metadata": {
        "colab": {
          "base_uri": "https://localhost:8080/",
          "height": 171
        },
        "id": "r9zS80ocTjyY",
        "outputId": "0d0e4fc9-b6a1-40a9-a6f6-538f4b2e56de"
      },
      "source": [
        "s3.remove(7)"
      ],
      "execution_count": 111,
      "outputs": [
        {
          "output_type": "error",
          "ename": "KeyError",
          "evalue": "ignored",
          "traceback": [
            "\u001b[0;31m---------------------------------------------------------------------------\u001b[0m",
            "\u001b[0;31mKeyError\u001b[0m                                  Traceback (most recent call last)",
            "\u001b[0;32m<ipython-input-111-7d3b2da6b5d7>\u001b[0m in \u001b[0;36m<module>\u001b[0;34m()\u001b[0m\n\u001b[0;32m----> 1\u001b[0;31m \u001b[0ms3\u001b[0m\u001b[0;34m.\u001b[0m\u001b[0mremove\u001b[0m\u001b[0;34m(\u001b[0m\u001b[0;36m7\u001b[0m\u001b[0;34m)\u001b[0m\u001b[0;34m\u001b[0m\u001b[0;34m\u001b[0m\u001b[0m\n\u001b[0m",
            "\u001b[0;31mKeyError\u001b[0m: 7"
          ]
        }
      ]
    },
    {
      "cell_type": "code",
      "metadata": {
        "id": "iqtU_JnfTnP8"
      },
      "source": [
        "s3.clear()"
      ],
      "execution_count": 112,
      "outputs": []
    },
    {
      "cell_type": "code",
      "metadata": {
        "colab": {
          "base_uri": "https://localhost:8080/"
        },
        "id": "udOirBEqT2JF",
        "outputId": "f385a2ea-428d-45cc-fc43-052146735d21"
      },
      "source": [
        "s3"
      ],
      "execution_count": 113,
      "outputs": [
        {
          "output_type": "execute_result",
          "data": {
            "text/plain": [
              "set()"
            ]
          },
          "metadata": {},
          "execution_count": 113
        }
      ]
    },
    {
      "cell_type": "code",
      "metadata": {
        "id": "HYpsdsmmT25A"
      },
      "source": [
        "del s3"
      ],
      "execution_count": 114,
      "outputs": []
    },
    {
      "cell_type": "code",
      "metadata": {
        "colab": {
          "base_uri": "https://localhost:8080/",
          "height": 171
        },
        "id": "dOmKT3VhUAPb",
        "outputId": "faf491aa-0a7e-41e8-99a5-18b06aaee5c8"
      },
      "source": [
        "s3"
      ],
      "execution_count": 115,
      "outputs": [
        {
          "output_type": "error",
          "ename": "NameError",
          "evalue": "ignored",
          "traceback": [
            "\u001b[0;31m---------------------------------------------------------------------------\u001b[0m",
            "\u001b[0;31mNameError\u001b[0m                                 Traceback (most recent call last)",
            "\u001b[0;32m<ipython-input-115-99e5fac9ea42>\u001b[0m in \u001b[0;36m<module>\u001b[0;34m()\u001b[0m\n\u001b[0;32m----> 1\u001b[0;31m \u001b[0ms3\u001b[0m\u001b[0;34m\u001b[0m\u001b[0;34m\u001b[0m\u001b[0m\n\u001b[0m",
            "\u001b[0;31mNameError\u001b[0m: name 's3' is not defined"
          ]
        }
      ]
    },
    {
      "cell_type": "code",
      "metadata": {
        "id": "7Rbjsr69UBBg"
      },
      "source": [
        "s1 = {2,4,6,8}\n",
        "s2 = {3,6,9}"
      ],
      "execution_count": 116,
      "outputs": []
    },
    {
      "cell_type": "code",
      "metadata": {
        "colab": {
          "base_uri": "https://localhost:8080/"
        },
        "id": "q4vfuAK5ZtxX",
        "outputId": "8774eda7-8fe6-4dd6-f869-f1aea56af575"
      },
      "source": [
        "s1.union(s2)"
      ],
      "execution_count": 117,
      "outputs": [
        {
          "output_type": "execute_result",
          "data": {
            "text/plain": [
              "{2, 3, 4, 6, 8, 9}"
            ]
          },
          "metadata": {},
          "execution_count": 117
        }
      ]
    },
    {
      "cell_type": "code",
      "metadata": {
        "colab": {
          "base_uri": "https://localhost:8080/"
        },
        "id": "7gspfHV_a3jd",
        "outputId": "f0dfc64b-6c48-4fc3-e3ee-0f752d936cf0"
      },
      "source": [
        "s1 | s2"
      ],
      "execution_count": 118,
      "outputs": [
        {
          "output_type": "execute_result",
          "data": {
            "text/plain": [
              "{2, 3, 4, 6, 8, 9}"
            ]
          },
          "metadata": {},
          "execution_count": 118
        }
      ]
    },
    {
      "cell_type": "code",
      "metadata": {
        "colab": {
          "base_uri": "https://localhost:8080/"
        },
        "id": "HXkuhyfybHhM",
        "outputId": "f08cf960-d7c7-4a2e-dafd-26e2997bd389"
      },
      "source": [
        "s1.intersection(s2)"
      ],
      "execution_count": 119,
      "outputs": [
        {
          "output_type": "execute_result",
          "data": {
            "text/plain": [
              "{6}"
            ]
          },
          "metadata": {},
          "execution_count": 119
        }
      ]
    },
    {
      "cell_type": "code",
      "metadata": {
        "colab": {
          "base_uri": "https://localhost:8080/"
        },
        "id": "_SoPQlbibf6H",
        "outputId": "829c5239-eda5-41d3-c337-ed25899a6671"
      },
      "source": [
        "s1 & s2"
      ],
      "execution_count": 120,
      "outputs": [
        {
          "output_type": "execute_result",
          "data": {
            "text/plain": [
              "{6}"
            ]
          },
          "metadata": {},
          "execution_count": 120
        }
      ]
    },
    {
      "cell_type": "code",
      "metadata": {
        "colab": {
          "base_uri": "https://localhost:8080/"
        },
        "id": "FkPrBwe_bqdH",
        "outputId": "41fa5645-674c-4c21-a370-90271da309ed"
      },
      "source": [
        "s1"
      ],
      "execution_count": 121,
      "outputs": [
        {
          "output_type": "execute_result",
          "data": {
            "text/plain": [
              "{2, 4, 6, 8}"
            ]
          },
          "metadata": {},
          "execution_count": 121
        }
      ]
    },
    {
      "cell_type": "code",
      "metadata": {
        "colab": {
          "base_uri": "https://localhost:8080/"
        },
        "id": "al-yGgiZbz9o",
        "outputId": "d1507747-6006-4d60-eec7-f36086a940f6"
      },
      "source": [
        "s2"
      ],
      "execution_count": 122,
      "outputs": [
        {
          "output_type": "execute_result",
          "data": {
            "text/plain": [
              "{3, 6, 9}"
            ]
          },
          "metadata": {},
          "execution_count": 122
        }
      ]
    },
    {
      "cell_type": "code",
      "metadata": {
        "colab": {
          "base_uri": "https://localhost:8080/"
        },
        "id": "NXjwby8sb0gh",
        "outputId": "5073aeac-1952-4c97-cd4d-7dc3225b4c10"
      },
      "source": [
        "s1.difference(s2)"
      ],
      "execution_count": 123,
      "outputs": [
        {
          "output_type": "execute_result",
          "data": {
            "text/plain": [
              "{2, 4, 8}"
            ]
          },
          "metadata": {},
          "execution_count": 123
        }
      ]
    },
    {
      "cell_type": "code",
      "metadata": {
        "colab": {
          "base_uri": "https://localhost:8080/"
        },
        "id": "Sk_ZLOPtcUos",
        "outputId": "c6b8adf3-06b5-4019-bfac-b3d3bed85480"
      },
      "source": [
        "s2.difference(s1)"
      ],
      "execution_count": 124,
      "outputs": [
        {
          "output_type": "execute_result",
          "data": {
            "text/plain": [
              "{3, 9}"
            ]
          },
          "metadata": {},
          "execution_count": 124
        }
      ]
    },
    {
      "cell_type": "code",
      "metadata": {
        "colab": {
          "base_uri": "https://localhost:8080/"
        },
        "id": "87EzlNGgcif1",
        "outputId": "b50117e4-cea5-4213-a8da-51ac5c540a4d"
      },
      "source": [
        "s2 - s1"
      ],
      "execution_count": 125,
      "outputs": [
        {
          "output_type": "execute_result",
          "data": {
            "text/plain": [
              "{3, 9}"
            ]
          },
          "metadata": {},
          "execution_count": 125
        }
      ]
    },
    {
      "cell_type": "markdown",
      "metadata": {
        "id": "QrkDe-lEct3J"
      },
      "source": [
        "Arithmetic Operations"
      ]
    },
    {
      "cell_type": "code",
      "metadata": {
        "id": "w-LqTur3crgN"
      },
      "source": [
        "x = 9\n",
        "y = 4"
      ],
      "execution_count": 126,
      "outputs": []
    },
    {
      "cell_type": "code",
      "metadata": {
        "colab": {
          "base_uri": "https://localhost:8080/"
        },
        "id": "zJ6boN2tdNDg",
        "outputId": "453c2fa9-6736-46f1-b507-db7044f3d9b8"
      },
      "source": [
        "x + y"
      ],
      "execution_count": 127,
      "outputs": [
        {
          "output_type": "execute_result",
          "data": {
            "text/plain": [
              "13"
            ]
          },
          "metadata": {},
          "execution_count": 127
        }
      ]
    },
    {
      "cell_type": "code",
      "metadata": {
        "colab": {
          "base_uri": "https://localhost:8080/"
        },
        "id": "bGqqwLgndOCs",
        "outputId": "ebea294b-656e-42ab-fc4e-a80708e781c3"
      },
      "source": [
        "x - y"
      ],
      "execution_count": 128,
      "outputs": [
        {
          "output_type": "execute_result",
          "data": {
            "text/plain": [
              "5"
            ]
          },
          "metadata": {},
          "execution_count": 128
        }
      ]
    },
    {
      "cell_type": "code",
      "metadata": {
        "colab": {
          "base_uri": "https://localhost:8080/"
        },
        "id": "O_FZ43_kdQBS",
        "outputId": "d1c74194-e0a3-48e6-d5ec-476c36fefade"
      },
      "source": [
        "x * y"
      ],
      "execution_count": 129,
      "outputs": [
        {
          "output_type": "execute_result",
          "data": {
            "text/plain": [
              "36"
            ]
          },
          "metadata": {},
          "execution_count": 129
        }
      ]
    },
    {
      "cell_type": "code",
      "metadata": {
        "colab": {
          "base_uri": "https://localhost:8080/"
        },
        "id": "UkVDAeoydSwd",
        "outputId": "1688751c-5ebf-4770-8863-9196aebe37eb"
      },
      "source": [
        "x / y"
      ],
      "execution_count": 130,
      "outputs": [
        {
          "output_type": "execute_result",
          "data": {
            "text/plain": [
              "2.25"
            ]
          },
          "metadata": {},
          "execution_count": 130
        }
      ]
    },
    {
      "cell_type": "code",
      "metadata": {
        "colab": {
          "base_uri": "https://localhost:8080/"
        },
        "id": "LzROqVhFdVv2",
        "outputId": "712c26f8-b103-41ec-c8af-fb737fea3a6c"
      },
      "source": [
        "x // y"
      ],
      "execution_count": 131,
      "outputs": [
        {
          "output_type": "execute_result",
          "data": {
            "text/plain": [
              "2"
            ]
          },
          "metadata": {},
          "execution_count": 131
        }
      ]
    },
    {
      "cell_type": "code",
      "metadata": {
        "colab": {
          "base_uri": "https://localhost:8080/"
        },
        "id": "Z39g9iWCdnSu",
        "outputId": "17ab5e85-033f-45ca-a35f-f2876e43242d"
      },
      "source": [
        "x % y"
      ],
      "execution_count": 132,
      "outputs": [
        {
          "output_type": "execute_result",
          "data": {
            "text/plain": [
              "1"
            ]
          },
          "metadata": {},
          "execution_count": 132
        }
      ]
    },
    {
      "cell_type": "code",
      "metadata": {
        "colab": {
          "base_uri": "https://localhost:8080/"
        },
        "id": "tVVha2TUdt3s",
        "outputId": "199a8283-4de0-46e7-aa1a-5df02f97c28e"
      },
      "source": [
        "x ** y"
      ],
      "execution_count": 133,
      "outputs": [
        {
          "output_type": "execute_result",
          "data": {
            "text/plain": [
              "6561"
            ]
          },
          "metadata": {},
          "execution_count": 133
        }
      ]
    },
    {
      "cell_type": "code",
      "metadata": {
        "colab": {
          "base_uri": "https://localhost:8080/"
        },
        "id": "k424WO4cd4sw",
        "outputId": "a92e9218-263a-4552-8a58-1674f4a499d4"
      },
      "source": [
        "5 + 2*3"
      ],
      "execution_count": 134,
      "outputs": [
        {
          "output_type": "execute_result",
          "data": {
            "text/plain": [
              "11"
            ]
          },
          "metadata": {},
          "execution_count": 134
        }
      ]
    },
    {
      "cell_type": "code",
      "metadata": {
        "colab": {
          "base_uri": "https://localhost:8080/"
        },
        "id": "zVQUVbX6eYMg",
        "outputId": "686eb6eb-d404-4dc1-9feb-6d5d754b4c5e"
      },
      "source": [
        "5 + 3 * 4 ** 2"
      ],
      "execution_count": 135,
      "outputs": [
        {
          "output_type": "execute_result",
          "data": {
            "text/plain": [
              "53"
            ]
          },
          "metadata": {},
          "execution_count": 135
        }
      ]
    },
    {
      "cell_type": "markdown",
      "metadata": {
        "id": "nGhAX6doeqAi"
      },
      "source": [
        "BODMAS"
      ]
    },
    {
      "cell_type": "code",
      "metadata": {
        "colab": {
          "base_uri": "https://localhost:8080/"
        },
        "id": "IgIruARseoyC",
        "outputId": "fe967a7d-b4b0-424e-ed50-5e23a17a6175"
      },
      "source": [
        "5 + 4 - 2"
      ],
      "execution_count": 136,
      "outputs": [
        {
          "output_type": "execute_result",
          "data": {
            "text/plain": [
              "7"
            ]
          },
          "metadata": {},
          "execution_count": 136
        }
      ]
    },
    {
      "cell_type": "code",
      "metadata": {
        "colab": {
          "base_uri": "https://localhost:8080/"
        },
        "id": "2sIA8v6Oe7gu",
        "outputId": "d5d89ffb-14e8-46d3-e777-b3f1f638f5a5"
      },
      "source": [
        "5 - 4 + 2 #Left to Right"
      ],
      "execution_count": 137,
      "outputs": [
        {
          "output_type": "execute_result",
          "data": {
            "text/plain": [
              "3"
            ]
          },
          "metadata": {},
          "execution_count": 137
        }
      ]
    },
    {
      "cell_type": "code",
      "metadata": {
        "colab": {
          "base_uri": "https://localhost:8080/"
        },
        "id": "Gv_LKGpRfcUc",
        "outputId": "d249de85-f382-42d4-d2e1-ca6b4c12fa83"
      },
      "source": [
        "7 - 8 + 7"
      ],
      "execution_count": 138,
      "outputs": [
        {
          "output_type": "execute_result",
          "data": {
            "text/plain": [
              "6"
            ]
          },
          "metadata": {},
          "execution_count": 138
        }
      ]
    },
    {
      "cell_type": "code",
      "metadata": {
        "colab": {
          "base_uri": "https://localhost:8080/"
        },
        "id": "buBFwpSffqsd",
        "outputId": "965479d6-4d92-467a-e50e-9453198677f2"
      },
      "source": [
        "2 ** 2 ** -1    #Right to Left"
      ],
      "execution_count": 140,
      "outputs": [
        {
          "output_type": "execute_result",
          "data": {
            "text/plain": [
              "1.4142135623730951"
            ]
          },
          "metadata": {},
          "execution_count": 140
        }
      ]
    },
    {
      "cell_type": "markdown",
      "metadata": {
        "id": "W_ifpBVGgevo"
      },
      "source": [
        "# Logical Operators"
      ]
    },
    {
      "cell_type": "code",
      "metadata": {
        "id": "a7yIfHa9gTM9"
      },
      "source": [
        "a = 10\n",
        "b = 20\n",
        "c = 30"
      ],
      "execution_count": 141,
      "outputs": []
    },
    {
      "cell_type": "code",
      "metadata": {
        "colab": {
          "base_uri": "https://localhost:8080/"
        },
        "id": "sbfBjbriiw9G",
        "outputId": "deb3a8f1-995f-4808-889f-54e2f2914cad"
      },
      "source": [
        "a<c"
      ],
      "execution_count": 142,
      "outputs": [
        {
          "output_type": "execute_result",
          "data": {
            "text/plain": [
              "True"
            ]
          },
          "metadata": {},
          "execution_count": 142
        }
      ]
    },
    {
      "cell_type": "markdown",
      "metadata": {
        "id": "UjNjcJNli6Hl"
      },
      "source": [
        "### AND Operator"
      ]
    },
    {
      "cell_type": "code",
      "metadata": {
        "colab": {
          "base_uri": "https://localhost:8080/"
        },
        "id": "I9feRR-Ui0RR",
        "outputId": "95e440e8-7894-4a66-cf54-744c542f06e9"
      },
      "source": [
        "a < b and b < c"
      ],
      "execution_count": 143,
      "outputs": [
        {
          "output_type": "execute_result",
          "data": {
            "text/plain": [
              "True"
            ]
          },
          "metadata": {},
          "execution_count": 143
        }
      ]
    },
    {
      "cell_type": "code",
      "metadata": {
        "colab": {
          "base_uri": "https://localhost:8080/"
        },
        "id": "143iTFYgjaJY",
        "outputId": "b08ed53d-8088-43af-918c-f3478af3d61e"
      },
      "source": [
        "a < b & b < c"
      ],
      "execution_count": 144,
      "outputs": [
        {
          "output_type": "execute_result",
          "data": {
            "text/plain": [
              "True"
            ]
          },
          "metadata": {},
          "execution_count": 144
        }
      ]
    },
    {
      "cell_type": "markdown",
      "metadata": {
        "id": "vnLHiy0qjpPT"
      },
      "source": [
        "### OR Operator"
      ]
    },
    {
      "cell_type": "code",
      "metadata": {
        "colab": {
          "base_uri": "https://localhost:8080/"
        },
        "id": "sE9FMu-2jl51",
        "outputId": "d62d948f-1729-4a76-8f9a-cb14d51e2c59"
      },
      "source": [
        "a < b or b > c"
      ],
      "execution_count": 145,
      "outputs": [
        {
          "output_type": "execute_result",
          "data": {
            "text/plain": [
              "True"
            ]
          },
          "metadata": {},
          "execution_count": 145
        }
      ]
    },
    {
      "cell_type": "code",
      "metadata": {
        "colab": {
          "base_uri": "https://localhost:8080/"
        },
        "id": "u9Z7jwYEj88G",
        "outputId": "dfa0865b-2175-4a26-e851-a73cbdfc1159"
      },
      "source": [
        "a > b or b > c"
      ],
      "execution_count": 146,
      "outputs": [
        {
          "output_type": "execute_result",
          "data": {
            "text/plain": [
              "False"
            ]
          },
          "metadata": {},
          "execution_count": 146
        }
      ]
    },
    {
      "cell_type": "markdown",
      "metadata": {
        "id": "IG1aa4mUkYWw"
      },
      "source": [
        "# Conditions"
      ]
    },
    {
      "cell_type": "code",
      "metadata": {
        "colab": {
          "base_uri": "https://localhost:8080/",
          "height": 135
        },
        "id": "iYqPLNzbkEZK",
        "outputId": "5740f62f-0c1d-4b13-afa9-96292d987d53"
      },
      "source": [
        "temp = 32\n",
        "\n",
        "if temp > 30:\n",
        "print(\"It's a Hot Day\")\n"
      ],
      "execution_count": 147,
      "outputs": [
        {
          "output_type": "error",
          "ename": "IndentationError",
          "evalue": "ignored",
          "traceback": [
            "\u001b[0;36m  File \u001b[0;32m\"<ipython-input-147-558e20bf2e73>\"\u001b[0;36m, line \u001b[0;32m4\u001b[0m\n\u001b[0;31m    print(\"It's a Hot Day\")\u001b[0m\n\u001b[0m        ^\u001b[0m\n\u001b[0;31mIndentationError\u001b[0m\u001b[0;31m:\u001b[0m expected an indented block\n"
          ]
        }
      ]
    },
    {
      "cell_type": "code",
      "metadata": {
        "colab": {
          "base_uri": "https://localhost:8080/"
        },
        "id": "LXV_5De1lkT9",
        "outputId": "99f52656-5031-413f-e572-94022237b8db"
      },
      "source": [
        "temp = 32\n",
        "\n",
        "if temp > 30:\n",
        "  print(\"It's a Hot Day\")"
      ],
      "execution_count": 148,
      "outputs": [
        {
          "output_type": "stream",
          "name": "stdout",
          "text": [
            "It's a Hot Day\n"
          ]
        }
      ]
    },
    {
      "cell_type": "code",
      "metadata": {
        "id": "mNGtK4sJlxxj"
      },
      "source": [
        "temp = 23\n",
        "\n",
        "if temp > 30:\n",
        "  print(\"It's a Hot Day\")"
      ],
      "execution_count": 149,
      "outputs": []
    },
    {
      "cell_type": "code",
      "metadata": {
        "colab": {
          "base_uri": "https://localhost:8080/"
        },
        "id": "k-tLVQyhl3IK",
        "outputId": "6d75e964-9aad-47a8-8b19-f96ff8f3dfe3"
      },
      "source": [
        "temp = 23\n",
        "\n",
        "if temp > 30:\n",
        "  print(\"It's a Hot Day\")\n",
        "\n",
        "else:\n",
        "  print(\"It's a pleasant day\")"
      ],
      "execution_count": 150,
      "outputs": [
        {
          "output_type": "stream",
          "name": "stdout",
          "text": [
            "It's a pleasant day\n"
          ]
        }
      ]
    },
    {
      "cell_type": "code",
      "metadata": {
        "colab": {
          "base_uri": "https://localhost:8080/"
        },
        "id": "dZiPPWvNmPLB",
        "outputId": "65a7d59e-b8af-4c1f-9594-95a8bbcf267b"
      },
      "source": [
        "temp = -10\n",
        "\n",
        "if temp > 30:\n",
        "  print(\"It's a Hot Day\")\n",
        "\n",
        "elif temp < 15:\n",
        "  print(\"It'a Cold Day\")\n",
        "\n",
        "else:\n",
        "  print(\"It's a pleasant day\")"
      ],
      "execution_count": 155,
      "outputs": [
        {
          "output_type": "stream",
          "name": "stdout",
          "text": [
            "It'a Cold Day\n"
          ]
        }
      ]
    },
    {
      "cell_type": "code",
      "metadata": {
        "colab": {
          "base_uri": "https://localhost:8080/"
        },
        "id": "QbEEIy-vmVaG",
        "outputId": "298d5359-ffb6-4575-cd61-bcdc4ba1c975"
      },
      "source": [
        "temp = int(input(\"Enter the Temp :\"))\n",
        "\n",
        "if temp > 30:\n",
        "  print(\"It's a Hot Day\")\n",
        "\n",
        "elif temp < 15:\n",
        "  print(\"It'a Cold Day\")\n",
        "\n",
        "else:\n",
        "  print(\"It's a pleasant day\")"
      ],
      "execution_count": 158,
      "outputs": [
        {
          "output_type": "stream",
          "name": "stdout",
          "text": [
            "Enter the Temp :-11\n",
            "It'a Cold Day\n"
          ]
        }
      ]
    },
    {
      "cell_type": "code",
      "metadata": {
        "id": "igcZg_Xkncxl"
      },
      "source": [
        "high_income = True\n",
        "good_credit_score = False"
      ],
      "execution_count": 166,
      "outputs": []
    },
    {
      "cell_type": "code",
      "metadata": {
        "colab": {
          "base_uri": "https://localhost:8080/"
        },
        "id": "dNA7ltpj7OGz",
        "outputId": "25080dd4-f439-4a1d-9c15-1241771d4c2c"
      },
      "source": [
        "if high_income == True and good_credit_score == True:\n",
        "  print(\"Eligble for loan\")\n",
        "\n",
        "else:\n",
        "  print(\"Not Eligible\")"
      ],
      "execution_count": 163,
      "outputs": [
        {
          "output_type": "stream",
          "name": "stdout",
          "text": [
            "Not Eligible\n"
          ]
        }
      ]
    },
    {
      "cell_type": "code",
      "metadata": {
        "colab": {
          "base_uri": "https://localhost:8080/"
        },
        "id": "hhDZthF58NjT",
        "outputId": "bf0bd5ef-3eb7-46f6-c525-14d18f9f3ae0"
      },
      "source": [
        "if high_income and good_credit_score:\n",
        "  print(\"Eligble for loan\")\n",
        "\n",
        "else:\n",
        "  print(\"Not Eligible\")"
      ],
      "execution_count": 167,
      "outputs": [
        {
          "output_type": "stream",
          "name": "stdout",
          "text": [
            "Not Eligible\n"
          ]
        }
      ]
    },
    {
      "cell_type": "code",
      "metadata": {
        "colab": {
          "base_uri": "https://localhost:8080/"
        },
        "id": "6DueYvv69BMM",
        "outputId": "01272b05-0b53-47f9-d785-8ce57c6d2911"
      },
      "source": [
        "if high_income or good_credit_score:\n",
        "  print(\"Eligble for loan\")\n",
        "\n",
        "else:\n",
        "  print(\"Not Eligible\")"
      ],
      "execution_count": 168,
      "outputs": [
        {
          "output_type": "stream",
          "name": "stdout",
          "text": [
            "Eligble for loan\n"
          ]
        }
      ]
    },
    {
      "cell_type": "markdown",
      "metadata": {
        "id": "D3YymsXh9ms-"
      },
      "source": [
        "Assignment:\n",
        "1. Take in the username\n",
        "2. Username should be in between 3-10 ch\n",
        "3. If not, reply with appropiate msg\n",
        "4. If okay, reply user by saying \"Looks Good\""
      ]
    },
    {
      "cell_type": "markdown",
      "metadata": {
        "id": "-TCbXVSv-U8s"
      },
      "source": [
        "Assignment 2:\n",
        "1. Set the price of a house\n",
        "2. good_credit = True/False\n",
        "3. If good_credit, you pay 10% of the house amount as down payment\n",
        "4. If not, you pay 20%\n",
        "5. The amount what user pay gets printed"
      ]
    },
    {
      "cell_type": "code",
      "metadata": {
        "colab": {
          "base_uri": "https://localhost:8080/"
        },
        "id": "3nMZmUw69cmj",
        "outputId": "cdf375c5-a2b8-466d-9d2a-795e344c1874"
      },
      "source": [
        "a = int(input(\"Enter the first number : \"))\n",
        "b = int(input(\"Enter the second number : \"))\n",
        "c = int(input(\"Enter the third number : \"))"
      ],
      "execution_count": 169,
      "outputs": [
        {
          "name": "stdout",
          "output_type": "stream",
          "text": [
            "Enter the first number : 12\n",
            "Enter the second number : 67\n",
            "Enter the third number : 43\n"
          ]
        }
      ]
    },
    {
      "cell_type": "code",
      "metadata": {
        "colab": {
          "base_uri": "https://localhost:8080/"
        },
        "id": "ugATaH6-AVPo",
        "outputId": "e59b924c-1c3d-4bac-b14b-9f954b6381e2"
      },
      "source": [
        "if a >= b and a >= c:\n",
        "  print(\"Largest number is :\", a)\n",
        "\n",
        "elif b >= a and b >= c:\n",
        "  print(\"Largest number is :\", b)\n",
        "\n",
        "else:\n",
        "  print(\"Largest number is :\", c)\n"
      ],
      "execution_count": 170,
      "outputs": [
        {
          "output_type": "stream",
          "name": "stdout",
          "text": [
            "Largest number is : 67\n"
          ]
        }
      ]
    },
    {
      "cell_type": "code",
      "metadata": {
        "colab": {
          "base_uri": "https://localhost:8080/"
        },
        "id": "79lDZrOKBgZy",
        "outputId": "1688f85f-78d6-424d-8859-ea6f121905c2"
      },
      "source": [
        "a = int(input(\"Enter the first number : \"))\n",
        "b = int(input(\"Enter the second number : \"))\n",
        "c = int(input(\"Enter the third number : \"))\n",
        "\n",
        "if a >= b and a >= c:\n",
        "  print(\"Largest number is :\", a)\n",
        "\n",
        "elif b >= a and b >= c:\n",
        "  print(\"Largest number is :\", b)\n",
        "\n",
        "else:\n",
        "  print(\"Largest number is :\", c)"
      ],
      "execution_count": 172,
      "outputs": [
        {
          "output_type": "stream",
          "name": "stdout",
          "text": [
            "Enter the first number : 98\n",
            "Enter the second number : 87\n",
            "Enter the third number : 56\n",
            "Largest number is : 98\n"
          ]
        }
      ]
    },
    {
      "cell_type": "code",
      "metadata": {
        "colab": {
          "base_uri": "https://localhost:8080/"
        },
        "id": "qiBFpi-KBphH",
        "outputId": "d72358cb-f933-42b8-c777-1f8b07150118"
      },
      "source": [
        "year = int(input(\"Enter the Year : \"))\n",
        "\n",
        "if year % 4 == 0:\n",
        "  print(\"Yes, it's a leap year\")\n",
        "\n",
        "else:\n",
        "  print(\"No, it's not a leap year\")"
      ],
      "execution_count": 174,
      "outputs": [
        {
          "output_type": "stream",
          "name": "stdout",
          "text": [
            "Enter the Year : 1700\n",
            "Yes, it's a leap year\n"
          ]
        }
      ]
    },
    {
      "cell_type": "code",
      "metadata": {
        "colab": {
          "base_uri": "https://localhost:8080/"
        },
        "id": "oq6eAfMiC0mC",
        "outputId": "75fe1ff8-b575-4b1c-8239-efc024bf62b1"
      },
      "source": [
        "year = int(input(\"Enter the Year : \"))\n",
        "\n",
        "if year % 4 == 0 and year % 100 !=0:\n",
        "  print(\"Yes, it's a leap year\")\n",
        "\n",
        "elif year % 400 == 0:\n",
        "  print(\"Yes, it's a leap year\")\n",
        "\n",
        "else:\n",
        "  print(\"No, it's not a leap year\")"
      ],
      "execution_count": 179,
      "outputs": [
        {
          "output_type": "stream",
          "name": "stdout",
          "text": [
            "Enter the Year : 2000\n",
            "Yes, it's a leap year\n"
          ]
        }
      ]
    },
    {
      "cell_type": "markdown",
      "metadata": {
        "id": "hz2mP5uREoMD"
      },
      "source": [
        "# Bitwise Operator"
      ]
    },
    {
      "cell_type": "code",
      "metadata": {
        "id": "Lh3NIeC4Dwk0"
      },
      "source": [
        "x = 5"
      ],
      "execution_count": 180,
      "outputs": []
    },
    {
      "cell_type": "markdown",
      "metadata": {
        "id": "Fm_G8DkUHwLe"
      },
      "source": [
        "Left Shift"
      ]
    },
    {
      "cell_type": "code",
      "metadata": {
        "colab": {
          "base_uri": "https://localhost:8080/"
        },
        "id": "xW6OgF0wHvOB",
        "outputId": "49978b3e-c217-4f20-8b80-ceb11067b9a9"
      },
      "source": [
        "x << 1"
      ],
      "execution_count": 181,
      "outputs": [
        {
          "output_type": "execute_result",
          "data": {
            "text/plain": [
              "10"
            ]
          },
          "metadata": {},
          "execution_count": 181
        }
      ]
    },
    {
      "cell_type": "code",
      "metadata": {
        "colab": {
          "base_uri": "https://localhost:8080/"
        },
        "id": "WAQ57LLYH1yR",
        "outputId": "ab5c6625-905c-4d18-8d19-42264a2f040e"
      },
      "source": [
        "x"
      ],
      "execution_count": 182,
      "outputs": [
        {
          "output_type": "execute_result",
          "data": {
            "text/plain": [
              "5"
            ]
          },
          "metadata": {},
          "execution_count": 182
        }
      ]
    },
    {
      "cell_type": "code",
      "metadata": {
        "colab": {
          "base_uri": "https://localhost:8080/"
        },
        "id": "SlcrGlAFH278",
        "outputId": "e5fb516e-f7d5-4177-8703-ffcab2d2d8cd"
      },
      "source": [
        "x << 2"
      ],
      "execution_count": 183,
      "outputs": [
        {
          "output_type": "execute_result",
          "data": {
            "text/plain": [
              "20"
            ]
          },
          "metadata": {},
          "execution_count": 183
        }
      ]
    },
    {
      "cell_type": "code",
      "metadata": {
        "colab": {
          "base_uri": "https://localhost:8080/"
        },
        "id": "XVDaUyLWH57S",
        "outputId": "9ab28e33-3499-41ea-956c-5f12d64aeac9"
      },
      "source": [
        "x << 3"
      ],
      "execution_count": 184,
      "outputs": [
        {
          "output_type": "execute_result",
          "data": {
            "text/plain": [
              "40"
            ]
          },
          "metadata": {},
          "execution_count": 184
        }
      ]
    },
    {
      "cell_type": "code",
      "metadata": {
        "id": "RHNPVT7VH7aJ"
      },
      "source": [
        "x = 7"
      ],
      "execution_count": 185,
      "outputs": []
    },
    {
      "cell_type": "code",
      "metadata": {
        "colab": {
          "base_uri": "https://localhost:8080/"
        },
        "id": "4qvy_1R1H-kO",
        "outputId": "67b940b6-9e56-454e-da3b-5b5544f62265"
      },
      "source": [
        "x << 1"
      ],
      "execution_count": 187,
      "outputs": [
        {
          "output_type": "execute_result",
          "data": {
            "text/plain": [
              "14"
            ]
          },
          "metadata": {},
          "execution_count": 187
        }
      ]
    },
    {
      "cell_type": "code",
      "metadata": {
        "colab": {
          "base_uri": "https://localhost:8080/"
        },
        "id": "vLbxJBnDIGwV",
        "outputId": "a8a5c672-cbc4-4fdd-c2aa-7320cf9de0c3"
      },
      "source": [
        "x << 2 "
      ],
      "execution_count": 188,
      "outputs": [
        {
          "output_type": "execute_result",
          "data": {
            "text/plain": [
              "28"
            ]
          },
          "metadata": {},
          "execution_count": 188
        }
      ]
    },
    {
      "cell_type": "code",
      "metadata": {
        "colab": {
          "base_uri": "https://localhost:8080/"
        },
        "id": "cAGyZ7IAIRig",
        "outputId": "57e8a9bc-8e72-4e9a-c421-3648a9a743da"
      },
      "source": [
        "x << 3"
      ],
      "execution_count": 189,
      "outputs": [
        {
          "output_type": "execute_result",
          "data": {
            "text/plain": [
              "56"
            ]
          },
          "metadata": {},
          "execution_count": 189
        }
      ]
    },
    {
      "cell_type": "markdown",
      "metadata": {
        "id": "5na-cxhHId4_"
      },
      "source": [
        "Right Shift "
      ]
    },
    {
      "cell_type": "code",
      "metadata": {
        "id": "Vdk2Cax4Ibao"
      },
      "source": [
        "x = 5"
      ],
      "execution_count": 190,
      "outputs": []
    },
    {
      "cell_type": "code",
      "metadata": {
        "colab": {
          "base_uri": "https://localhost:8080/"
        },
        "id": "JuIYa1UCIkoy",
        "outputId": "8f9ea8ad-86ef-4c97-f4a1-10277cfce898"
      },
      "source": [
        "x >> 1"
      ],
      "execution_count": 191,
      "outputs": [
        {
          "output_type": "execute_result",
          "data": {
            "text/plain": [
              "2"
            ]
          },
          "metadata": {},
          "execution_count": 191
        }
      ]
    },
    {
      "cell_type": "code",
      "metadata": {
        "colab": {
          "base_uri": "https://localhost:8080/"
        },
        "id": "_vlIky8PInMz",
        "outputId": "ef969165-16d3-45a1-a1c6-d99a25f37e99"
      },
      "source": [
        "x >> 2"
      ],
      "execution_count": 192,
      "outputs": [
        {
          "output_type": "execute_result",
          "data": {
            "text/plain": [
              "1"
            ]
          },
          "metadata": {},
          "execution_count": 192
        }
      ]
    },
    {
      "cell_type": "code",
      "metadata": {
        "colab": {
          "base_uri": "https://localhost:8080/"
        },
        "id": "8TJI_U0eIodG",
        "outputId": "d89f201c-c6af-4ba8-9b02-3781147df629"
      },
      "source": [
        "x >> 3"
      ],
      "execution_count": 193,
      "outputs": [
        {
          "output_type": "execute_result",
          "data": {
            "text/plain": [
              "0"
            ]
          },
          "metadata": {},
          "execution_count": 193
        }
      ]
    },
    {
      "cell_type": "code",
      "metadata": {
        "id": "DIXwuzrNIqSM"
      },
      "source": [
        "x = 7"
      ],
      "execution_count": 194,
      "outputs": []
    },
    {
      "cell_type": "code",
      "metadata": {
        "colab": {
          "base_uri": "https://localhost:8080/"
        },
        "id": "gKnAqDmYIr6i",
        "outputId": "0adea83b-e02a-493d-afe1-83b1da8cc681"
      },
      "source": [
        "x >> 1"
      ],
      "execution_count": 195,
      "outputs": [
        {
          "output_type": "execute_result",
          "data": {
            "text/plain": [
              "3"
            ]
          },
          "metadata": {},
          "execution_count": 195
        }
      ]
    },
    {
      "cell_type": "code",
      "metadata": {
        "colab": {
          "base_uri": "https://localhost:8080/"
        },
        "id": "bqVQnUe2Itr4",
        "outputId": "28ada550-d30f-4b3b-a993-7574787a2492"
      },
      "source": [
        "x >> 2"
      ],
      "execution_count": 196,
      "outputs": [
        {
          "output_type": "execute_result",
          "data": {
            "text/plain": [
              "1"
            ]
          },
          "metadata": {},
          "execution_count": 196
        }
      ]
    },
    {
      "cell_type": "code",
      "metadata": {
        "colab": {
          "base_uri": "https://localhost:8080/"
        },
        "id": "pdssodo8Iw5D",
        "outputId": "7e72fecd-71d8-42c6-f81c-2a764fcac93d"
      },
      "source": [
        "x >> 3"
      ],
      "execution_count": 197,
      "outputs": [
        {
          "output_type": "execute_result",
          "data": {
            "text/plain": [
              "0"
            ]
          },
          "metadata": {},
          "execution_count": 197
        }
      ]
    },
    {
      "cell_type": "markdown",
      "metadata": {
        "id": "uZbOXvJMJdBU"
      },
      "source": [
        "# For Loops"
      ]
    },
    {
      "cell_type": "code",
      "metadata": {
        "colab": {
          "base_uri": "https://localhost:8080/"
        },
        "id": "GtWtnU7oIzSA",
        "outputId": "21842c9a-4785-49c4-f209-65ccad5176a7"
      },
      "source": [
        "for number in range(5):\n",
        "  print(number)"
      ],
      "execution_count": 198,
      "outputs": [
        {
          "output_type": "stream",
          "name": "stdout",
          "text": [
            "0\n",
            "1\n",
            "2\n",
            "3\n",
            "4\n"
          ]
        }
      ]
    },
    {
      "cell_type": "code",
      "metadata": {
        "colab": {
          "base_uri": "https://localhost:8080/"
        },
        "id": "ie_cxbRgLLJ5",
        "outputId": "1516af11-3dd8-438e-ef0a-66b6368ce1f1"
      },
      "source": [
        "for number in range(5):\n",
        "  print(number, end=\" \")"
      ],
      "execution_count": 199,
      "outputs": [
        {
          "output_type": "stream",
          "name": "stdout",
          "text": [
            "0 1 2 3 4 "
          ]
        }
      ]
    },
    {
      "cell_type": "code",
      "metadata": {
        "colab": {
          "base_uri": "https://localhost:8080/"
        },
        "id": "ayJEZbX6Lfqc",
        "outputId": "fb7db535-8d2e-4ada-b670-188ee45ea8b4"
      },
      "source": [
        "for number in range(0,11,2):\n",
        "  print(number)"
      ],
      "execution_count": 200,
      "outputs": [
        {
          "output_type": "stream",
          "name": "stdout",
          "text": [
            "0\n",
            "2\n",
            "4\n",
            "6\n",
            "8\n",
            "10\n"
          ]
        }
      ]
    },
    {
      "cell_type": "code",
      "metadata": {
        "colab": {
          "base_uri": "https://localhost:8080/"
        },
        "id": "QnOnnedVL1qX",
        "outputId": "c01c96bb-46c4-461e-ad66-2814960207eb"
      },
      "source": [
        "number"
      ],
      "execution_count": 201,
      "outputs": [
        {
          "output_type": "execute_result",
          "data": {
            "text/plain": [
              "10"
            ]
          },
          "metadata": {},
          "execution_count": 201
        }
      ]
    },
    {
      "cell_type": "code",
      "metadata": {
        "colab": {
          "base_uri": "https://localhost:8080/"
        },
        "id": "aIU-qQzhMHfb",
        "outputId": "56b02db5-4b52-4d44-8cdd-95e8615ca30e"
      },
      "source": [
        "for number in range(1,11,2):\n",
        "  print(number)"
      ],
      "execution_count": 202,
      "outputs": [
        {
          "output_type": "stream",
          "name": "stdout",
          "text": [
            "1\n",
            "3\n",
            "5\n",
            "7\n",
            "9\n"
          ]
        }
      ]
    },
    {
      "cell_type": "code",
      "metadata": {
        "colab": {
          "base_uri": "https://localhost:8080/"
        },
        "id": "TMFUZSvvMXXW",
        "outputId": "878156f9-6b97-4f1a-f6fb-2ffabe60e07b"
      },
      "source": [
        "for number in range(5):\n",
        "  print(\"Iteration:\", number)"
      ],
      "execution_count": 203,
      "outputs": [
        {
          "output_type": "stream",
          "name": "stdout",
          "text": [
            "Iteration: 0\n",
            "Iteration: 1\n",
            "Iteration: 2\n",
            "Iteration: 3\n",
            "Iteration: 4\n"
          ]
        }
      ]
    },
    {
      "cell_type": "code",
      "metadata": {
        "colab": {
          "base_uri": "https://localhost:8080/",
          "height": 35
        },
        "id": "SXrF3LcBNvm5",
        "outputId": "4dfd1612-857e-4299-d6f6-f88791137023"
      },
      "source": [
        "number * \"*\""
      ],
      "execution_count": 204,
      "outputs": [
        {
          "output_type": "execute_result",
          "data": {
            "application/vnd.google.colaboratory.intrinsic+json": {
              "type": "string"
            },
            "text/plain": [
              "'****'"
            ]
          },
          "metadata": {},
          "execution_count": 204
        }
      ]
    },
    {
      "cell_type": "code",
      "metadata": {
        "colab": {
          "base_uri": "https://localhost:8080/"
        },
        "id": "WPoKPWvEMxs_",
        "outputId": "f65268b3-19a2-46ac-ad8a-d98e952ff128"
      },
      "source": [
        "for number in range(5):\n",
        "  print(\"Iteration:\", number, number * \"*\")"
      ],
      "execution_count": 205,
      "outputs": [
        {
          "output_type": "stream",
          "name": "stdout",
          "text": [
            "Iteration: 0 \n",
            "Iteration: 1 *\n",
            "Iteration: 2 **\n",
            "Iteration: 3 ***\n",
            "Iteration: 4 ****\n"
          ]
        }
      ]
    },
    {
      "cell_type": "code",
      "metadata": {
        "id": "W2bHnK-8N2_u"
      },
      "source": [
        "l = [1,5,3,7]"
      ],
      "execution_count": 206,
      "outputs": []
    },
    {
      "cell_type": "code",
      "metadata": {
        "colab": {
          "base_uri": "https://localhost:8080/"
        },
        "id": "XSTt9f1ZOWHx",
        "outputId": "22f92c93-5ad2-4ae3-cea2-d6f547283c8f"
      },
      "source": [
        "l"
      ],
      "execution_count": 207,
      "outputs": [
        {
          "output_type": "execute_result",
          "data": {
            "text/plain": [
              "[1, 5, 3, 7]"
            ]
          },
          "metadata": {},
          "execution_count": 207
        }
      ]
    },
    {
      "cell_type": "code",
      "metadata": {
        "colab": {
          "base_uri": "https://localhost:8080/"
        },
        "id": "WrOAXJa5OXJE",
        "outputId": "51dafeef-8e5a-43ef-fd35-ec23a1fab1f7"
      },
      "source": [
        "for number in l:\n",
        "  print(number)"
      ],
      "execution_count": 208,
      "outputs": [
        {
          "output_type": "stream",
          "name": "stdout",
          "text": [
            "1\n",
            "5\n",
            "3\n",
            "7\n"
          ]
        }
      ]
    },
    {
      "cell_type": "code",
      "metadata": {
        "colab": {
          "base_uri": "https://localhost:8080/"
        },
        "id": "ssWGSAVROjGp",
        "outputId": "5a29d742-d9cc-43cb-fff0-6d4566010b5d"
      },
      "source": [
        "for i in l:\n",
        "  print(i * \":)\")"
      ],
      "execution_count": 209,
      "outputs": [
        {
          "output_type": "stream",
          "name": "stdout",
          "text": [
            ":)\n",
            ":):):):):)\n",
            ":):):)\n",
            ":):):):):):):)\n"
          ]
        }
      ]
    },
    {
      "cell_type": "code",
      "metadata": {
        "id": "LnjiQEjmPCLj"
      },
      "source": [
        "l = [10,20,30,40]"
      ],
      "execution_count": 210,
      "outputs": []
    },
    {
      "cell_type": "code",
      "metadata": {
        "colab": {
          "base_uri": "https://localhost:8080/"
        },
        "id": "WdiNs7vIPmje",
        "outputId": "6263463e-7feb-4b2b-a2f1-2347a0d03781"
      },
      "source": [
        "len(l)"
      ],
      "execution_count": 212,
      "outputs": [
        {
          "output_type": "execute_result",
          "data": {
            "text/plain": [
              "4"
            ]
          },
          "metadata": {},
          "execution_count": 212
        }
      ]
    },
    {
      "cell_type": "code",
      "metadata": {
        "colab": {
          "base_uri": "https://localhost:8080/"
        },
        "id": "MDRBgXPBPT4F",
        "outputId": "f4389adb-802b-4832-a81c-0a8b50ac77fb"
      },
      "source": [
        "for i in l:\n",
        "  print(i)"
      ],
      "execution_count": 211,
      "outputs": [
        {
          "output_type": "stream",
          "name": "stdout",
          "text": [
            "10\n",
            "20\n",
            "30\n",
            "40\n"
          ]
        }
      ]
    },
    {
      "cell_type": "code",
      "metadata": {
        "colab": {
          "base_uri": "https://localhost:8080/"
        },
        "id": "PSHms-c9PW7D",
        "outputId": "8caf784c-c7c9-49d4-cddd-d8cbc4718d50"
      },
      "source": [
        "for i in range(len(l)):\n",
        "  print(l[i])"
      ],
      "execution_count": 213,
      "outputs": [
        {
          "output_type": "stream",
          "name": "stdout",
          "text": [
            "10\n",
            "20\n",
            "30\n",
            "40\n"
          ]
        }
      ]
    },
    {
      "cell_type": "code",
      "metadata": {
        "colab": {
          "base_uri": "https://localhost:8080/"
        },
        "id": "AMRiXhs3P0rf",
        "outputId": "108606fe-1480-46a7-864e-8886dc38e3de"
      },
      "source": [
        "for i in range(len(l)):\n",
        "  print(i, l[i])"
      ],
      "execution_count": 214,
      "outputs": [
        {
          "output_type": "stream",
          "name": "stdout",
          "text": [
            "0 10\n",
            "1 20\n",
            "2 30\n",
            "3 40\n"
          ]
        }
      ]
    },
    {
      "cell_type": "code",
      "metadata": {
        "id": "HjRRmMXrQHu7"
      },
      "source": [
        "s = \"abcd\""
      ],
      "execution_count": 215,
      "outputs": []
    },
    {
      "cell_type": "code",
      "metadata": {
        "colab": {
          "base_uri": "https://localhost:8080/"
        },
        "id": "n6MiGB3OQhMu",
        "outputId": "e6dbf6c1-5eb8-46e8-cd1f-0b42694cb48b"
      },
      "source": [
        "for i in s:\n",
        "  print(i)"
      ],
      "execution_count": 216,
      "outputs": [
        {
          "output_type": "stream",
          "name": "stdout",
          "text": [
            "a\n",
            "b\n",
            "c\n",
            "d\n"
          ]
        }
      ]
    },
    {
      "cell_type": "code",
      "metadata": {
        "colab": {
          "base_uri": "https://localhost:8080/"
        },
        "id": "76taHBpTQnma",
        "outputId": "5f3ba077-54e3-40a5-a364-c1957a28eecf"
      },
      "source": [
        "for x in range(4):\n",
        "  for y in range(4):\n",
        "    print(x,y)"
      ],
      "execution_count": 217,
      "outputs": [
        {
          "output_type": "stream",
          "name": "stdout",
          "text": [
            "0 0\n",
            "0 1\n",
            "0 2\n",
            "0 3\n",
            "1 0\n",
            "1 1\n",
            "1 2\n",
            "1 3\n",
            "2 0\n",
            "2 1\n",
            "2 2\n",
            "2 3\n",
            "3 0\n",
            "3 1\n",
            "3 2\n",
            "3 3\n"
          ]
        }
      ]
    },
    {
      "cell_type": "code",
      "metadata": {
        "colab": {
          "base_uri": "https://localhost:8080/"
        },
        "id": "38Xbc3AtSD6o",
        "outputId": "c87e31b0-23bf-4771-d0b3-3fa25e0b5b74"
      },
      "source": [
        "n = int(input(\"Enter n :\"))\n",
        "\n",
        "for i in range(n):\n",
        "  for j in range(n):\n",
        "    print(\"*\")"
      ],
      "execution_count": 220,
      "outputs": [
        {
          "output_type": "stream",
          "name": "stdout",
          "text": [
            "Enter n :3\n",
            "*\n",
            "*\n",
            "*\n",
            "*\n",
            "*\n",
            "*\n",
            "*\n",
            "*\n",
            "*\n"
          ]
        }
      ]
    },
    {
      "cell_type": "code",
      "metadata": {
        "colab": {
          "base_uri": "https://localhost:8080/"
        },
        "id": "L3lRMmNhTMkL",
        "outputId": "a7d3bad6-dc35-40b4-8854-4f2232875755"
      },
      "source": [
        "n = int(input(\"Enter n :\"))\n",
        "\n",
        "for i in range(n):\n",
        "  for j in range(n):\n",
        "    print(\"*\", end=\" \")\n",
        "  print()"
      ],
      "execution_count": 224,
      "outputs": [
        {
          "output_type": "stream",
          "name": "stdout",
          "text": [
            "Enter n :5\n",
            "* * * * * \n",
            "* * * * * \n",
            "* * * * * \n",
            "* * * * * \n",
            "* * * * * \n"
          ]
        }
      ]
    },
    {
      "cell_type": "markdown",
      "metadata": {
        "id": "bGQ1sA55Ujm1"
      },
      "source": [
        "1 2 3 4 5 6 7 8 9 10\n",
        "\n",
        "2 4 6.......      20\n",
        "\n",
        "3\n",
        "\n",
        "4\n",
        "\n",
        ".\n",
        "\n",
        ".\n",
        "\n",
        "10 20 30          100"
      ]
    },
    {
      "cell_type": "code",
      "metadata": {
        "colab": {
          "base_uri": "https://localhost:8080/"
        },
        "id": "68XbngR1Tkxn",
        "outputId": "f700b47b-5f28-4e77-91f0-25c1dfb9bd63"
      },
      "source": [
        "for i in range(1,11):\n",
        "  for j in range(1,11,i):\n",
        "    print(j)"
      ],
      "execution_count": 225,
      "outputs": [
        {
          "output_type": "stream",
          "name": "stdout",
          "text": [
            "1\n",
            "2\n",
            "3\n",
            "4\n",
            "5\n",
            "6\n",
            "7\n",
            "8\n",
            "9\n",
            "10\n",
            "1\n",
            "3\n",
            "5\n",
            "7\n",
            "9\n",
            "1\n",
            "4\n",
            "7\n",
            "10\n",
            "1\n",
            "5\n",
            "9\n",
            "1\n",
            "6\n",
            "1\n",
            "7\n",
            "1\n",
            "8\n",
            "1\n",
            "9\n",
            "1\n",
            "10\n",
            "1\n"
          ]
        }
      ]
    },
    {
      "cell_type": "code",
      "metadata": {
        "colab": {
          "base_uri": "https://localhost:8080/"
        },
        "id": "_0Z72X0dW0wS",
        "outputId": "77530412-076f-4e26-8ef1-1ad22eb56104"
      },
      "source": [
        "for i in range(1,11):\n",
        "  for j in range(i,i*11,i):\n",
        "    print(j, end = \" \")\n",
        "  print()"
      ],
      "execution_count": 228,
      "outputs": [
        {
          "output_type": "stream",
          "name": "stdout",
          "text": [
            "1 2 3 4 5 6 7 8 9 10 \n",
            "2 4 6 8 10 12 14 16 18 20 \n",
            "3 6 9 12 15 18 21 24 27 30 \n",
            "4 8 12 16 20 24 28 32 36 40 \n",
            "5 10 15 20 25 30 35 40 45 50 \n",
            "6 12 18 24 30 36 42 48 54 60 \n",
            "7 14 21 28 35 42 49 56 63 70 \n",
            "8 16 24 32 40 48 56 64 72 80 \n",
            "9 18 27 36 45 54 63 72 81 90 \n",
            "10 20 30 40 50 60 70 80 90 100 \n"
          ]
        }
      ]
    },
    {
      "cell_type": "code",
      "metadata": {
        "colab": {
          "base_uri": "https://localhost:8080/"
        },
        "id": "_VTB1RTiW-8w",
        "outputId": "7c9609ac-421f-4655-cee3-8c60e88787b8"
      },
      "source": [
        "for i in range(1,11):\n",
        "  for j in range(i,i*10+1,i):\n",
        "    print(j, end = \" \")\n",
        "  print()"
      ],
      "execution_count": 229,
      "outputs": [
        {
          "output_type": "stream",
          "name": "stdout",
          "text": [
            "1 2 3 4 5 6 7 8 9 10 \n",
            "2 4 6 8 10 12 14 16 18 20 \n",
            "3 6 9 12 15 18 21 24 27 30 \n",
            "4 8 12 16 20 24 28 32 36 40 \n",
            "5 10 15 20 25 30 35 40 45 50 \n",
            "6 12 18 24 30 36 42 48 54 60 \n",
            "7 14 21 28 35 42 49 56 63 70 \n",
            "8 16 24 32 40 48 56 64 72 80 \n",
            "9 18 27 36 45 54 63 72 81 90 \n",
            "10 20 30 40 50 60 70 80 90 100 \n"
          ]
        }
      ]
    },
    {
      "cell_type": "markdown",
      "metadata": {
        "id": "-c6vdJtvYVSx"
      },
      "source": [
        "Assignment 3:\n",
        "1. Design a pattern to draw a triangle"
      ]
    },
    {
      "cell_type": "markdown",
      "metadata": {
        "id": "RcjHBH0Nd-rM"
      },
      "source": [
        "# While Loops"
      ]
    },
    {
      "cell_type": "code",
      "metadata": {
        "colab": {
          "base_uri": "https://localhost:8080/",
          "height": 1000
        },
        "id": "ll54D7QtX5TY",
        "outputId": "dd4f5986-0d20-4a9f-c5b5-0ee8b31b3199"
      },
      "source": [
        "i = 1\n",
        "while i <= 5:\n",
        "  print(i)\n",
        "  print(\"Done\")"
      ],
      "execution_count": 230,
      "outputs": [
        {
          "output_type": "stream",
          "name": "stdout",
          "text": [
            "\u001b[1;30;43mStreaming output truncated to the last 5000 lines.\u001b[0m\n",
            "1\n",
            "Done\n",
            "1\n",
            "Done\n",
            "1\n",
            "Done\n",
            "1\n",
            "Done\n",
            "1\n",
            "Done\n",
            "1\n",
            "Done\n",
            "1\n",
            "Done\n",
            "1\n",
            "Done\n",
            "1\n",
            "Done\n",
            "1\n",
            "Done\n",
            "1\n",
            "Done\n",
            "1\n",
            "Done\n",
            "1\n",
            "Done\n",
            "1\n",
            "Done\n",
            "1\n",
            "Done\n",
            "1\n",
            "Done\n",
            "1\n",
            "Done\n",
            "1\n",
            "Done\n",
            "1\n",
            "Done\n",
            "1\n",
            "Done\n",
            "1\n",
            "Done\n",
            "1\n",
            "Done\n",
            "1\n",
            "Done\n",
            "1\n",
            "Done\n",
            "1\n",
            "Done\n",
            "1\n",
            "Done\n",
            "1\n",
            "Done\n",
            "1\n",
            "Done\n",
            "1\n",
            "Done\n",
            "1\n",
            "Done\n",
            "1\n",
            "Done\n",
            "1\n",
            "Done\n",
            "1\n",
            "Done\n",
            "1\n",
            "Done\n",
            "1\n",
            "Done\n",
            "1\n",
            "Done\n",
            "1\n",
            "Done\n",
            "1\n",
            "Done\n",
            "1\n",
            "Done\n",
            "1\n",
            "Done\n",
            "1\n",
            "Done\n",
            "1\n",
            "Done\n",
            "1\n",
            "Done\n",
            "1\n",
            "Done\n",
            "1\n",
            "Done\n",
            "1\n",
            "Done\n",
            "1\n",
            "Done\n",
            "1\n",
            "Done\n",
            "1\n",
            "Done\n",
            "1\n",
            "Done\n",
            "1\n",
            "Done\n",
            "1\n",
            "Done\n",
            "1\n",
            "Done\n",
            "1\n",
            "Done\n",
            "1\n",
            "Done\n",
            "1\n",
            "Done\n",
            "1\n",
            "Done\n",
            "1\n",
            "Done\n",
            "1\n",
            "Done\n",
            "1\n",
            "Done\n",
            "1\n",
            "Done\n",
            "1\n",
            "Done\n",
            "1\n",
            "Done\n",
            "1\n",
            "Done\n",
            "1\n",
            "Done\n",
            "1\n",
            "Done\n",
            "1\n",
            "Done\n",
            "1\n",
            "Done\n",
            "1\n",
            "Done\n",
            "1\n",
            "Done\n",
            "1\n",
            "Done\n",
            "1\n",
            "Done\n",
            "1\n",
            "Done\n",
            "1\n",
            "Done\n",
            "1\n",
            "Done\n",
            "1\n",
            "Done\n",
            "1\n",
            "Done\n",
            "1\n",
            "Done\n",
            "1\n",
            "Done\n",
            "1\n",
            "Done\n",
            "1\n",
            "Done\n",
            "1\n",
            "Done\n",
            "1\n",
            "Done\n",
            "1\n",
            "Done\n",
            "1\n",
            "Done\n",
            "1\n",
            "Done\n",
            "1\n",
            "Done\n",
            "1\n",
            "Done\n",
            "1\n",
            "Done\n",
            "1\n",
            "Done\n",
            "1\n",
            "Done\n",
            "1\n",
            "Done\n",
            "1\n",
            "Done\n",
            "1\n",
            "Done\n",
            "1\n",
            "Done\n",
            "1\n",
            "Done\n",
            "1\n",
            "Done\n",
            "1\n",
            "Done\n",
            "1\n",
            "Done\n",
            "1\n",
            "Done\n",
            "1\n",
            "Done\n",
            "1\n",
            "Done\n",
            "1\n",
            "Done\n",
            "1\n",
            "Done\n",
            "1\n",
            "Done\n",
            "1\n",
            "Done\n",
            "1\n",
            "Done\n",
            "1\n",
            "Done\n",
            "1\n",
            "Done\n",
            "1\n",
            "Done\n",
            "1\n",
            "Done\n",
            "1\n",
            "Done\n",
            "1\n",
            "Done\n",
            "1\n",
            "Done\n",
            "1\n",
            "Done\n",
            "1\n",
            "Done\n",
            "1\n",
            "Done\n",
            "1\n",
            "Done\n",
            "1\n",
            "Done\n",
            "1\n",
            "Done\n",
            "1\n",
            "Done\n",
            "1\n",
            "Done\n",
            "1\n",
            "Done\n",
            "1\n",
            "Done\n",
            "1\n",
            "Done\n",
            "1\n",
            "Done\n",
            "1\n",
            "Done\n",
            "1\n",
            "Done\n",
            "1\n",
            "Done\n",
            "1\n",
            "Done\n",
            "1\n",
            "Done\n",
            "1\n",
            "Done\n",
            "1\n",
            "Done\n",
            "1\n",
            "Done\n",
            "1\n",
            "Done\n",
            "1\n",
            "Done\n",
            "1\n",
            "Done\n",
            "1\n",
            "Done\n",
            "1\n",
            "Done\n",
            "1\n",
            "Done\n",
            "1\n",
            "Done\n",
            "1\n",
            "Done\n",
            "1\n",
            "Done\n",
            "1\n",
            "Done\n",
            "1\n",
            "Done\n",
            "1\n",
            "Done\n",
            "1\n",
            "Done\n",
            "1\n",
            "Done\n",
            "1\n",
            "Done\n",
            "1\n",
            "Done\n",
            "1\n",
            "Done\n",
            "1\n",
            "Done\n",
            "1\n",
            "Done\n",
            "1\n",
            "Done\n",
            "1\n",
            "Done\n",
            "1\n",
            "Done\n",
            "1\n",
            "Done\n",
            "1\n",
            "Done\n",
            "1\n",
            "Done\n",
            "1\n",
            "Done\n",
            "1\n",
            "Done\n",
            "1\n",
            "Done\n",
            "1\n",
            "Done\n",
            "1\n",
            "Done\n",
            "1\n",
            "Done\n",
            "1\n",
            "Done\n",
            "1\n",
            "Done\n",
            "1\n",
            "Done\n",
            "1\n",
            "Done\n",
            "1\n",
            "Done\n",
            "1\n",
            "Done\n",
            "1\n",
            "Done\n",
            "1\n",
            "Done\n",
            "1\n",
            "Done\n",
            "1\n",
            "Done\n",
            "1\n",
            "Done\n",
            "1\n",
            "Done\n",
            "1\n",
            "Done\n",
            "1\n",
            "Done\n",
            "1\n",
            "Done\n",
            "1\n",
            "Done\n",
            "1\n",
            "Done\n",
            "1\n",
            "Done\n",
            "1\n",
            "Done\n",
            "1\n",
            "Done\n",
            "1\n",
            "Done\n",
            "1\n",
            "Done\n",
            "1\n",
            "Done\n",
            "1\n",
            "Done\n",
            "1\n",
            "Done\n",
            "1\n",
            "Done\n",
            "1\n",
            "Done\n",
            "1\n",
            "Done\n",
            "1\n",
            "Done\n",
            "1\n",
            "Done\n",
            "1\n",
            "Done\n",
            "1\n",
            "Done\n",
            "1\n",
            "Done\n",
            "1\n",
            "Done\n",
            "1\n",
            "Done\n",
            "1\n",
            "Done\n",
            "1\n",
            "Done\n",
            "1\n",
            "Done\n",
            "1\n",
            "Done\n",
            "1\n",
            "Done\n",
            "1\n",
            "Done\n",
            "1\n",
            "Done\n",
            "1\n",
            "Done\n",
            "1\n",
            "Done\n",
            "1\n",
            "Done\n",
            "1\n",
            "Done\n",
            "1\n",
            "Done\n",
            "1\n",
            "Done\n",
            "1\n",
            "Done\n",
            "1\n",
            "Done\n",
            "1\n",
            "Done\n",
            "1\n",
            "Done\n",
            "1\n",
            "Done\n",
            "1\n",
            "Done\n",
            "1\n",
            "Done\n",
            "1\n",
            "Done\n",
            "1\n",
            "Done\n",
            "1\n",
            "Done\n",
            "1\n",
            "Done\n",
            "1\n",
            "Done\n",
            "1\n",
            "Done\n",
            "1\n",
            "Done\n",
            "1\n",
            "Done\n",
            "1\n",
            "Done\n",
            "1\n",
            "Done\n",
            "1\n",
            "Done\n",
            "1\n",
            "Done\n",
            "1\n",
            "Done\n",
            "1\n",
            "Done\n",
            "1\n",
            "Done\n",
            "1\n",
            "Done\n",
            "1\n",
            "Done\n",
            "1\n",
            "Done\n",
            "1\n",
            "Done\n",
            "1\n",
            "Done\n",
            "1\n",
            "Done\n",
            "1\n",
            "Done\n",
            "1\n",
            "Done\n",
            "1\n",
            "Done\n",
            "1\n",
            "Done\n",
            "1\n",
            "Done\n",
            "1\n",
            "Done\n",
            "1\n",
            "Done\n",
            "1\n",
            "Done\n",
            "1\n",
            "Done\n",
            "1\n",
            "Done\n",
            "1\n",
            "Done\n",
            "1\n",
            "Done\n",
            "1\n",
            "Done\n",
            "1\n",
            "Done\n",
            "1\n",
            "Done\n",
            "1\n",
            "Done\n",
            "1\n",
            "Done\n",
            "1\n",
            "Done\n",
            "1\n",
            "Done\n",
            "1\n",
            "Done\n",
            "1\n",
            "Done\n",
            "1\n",
            "Done\n",
            "1\n",
            "Done\n",
            "1\n",
            "Done\n",
            "1\n",
            "Done\n",
            "1\n",
            "Done\n",
            "1\n",
            "Done\n",
            "1\n",
            "Done\n",
            "1\n",
            "Done\n",
            "1\n",
            "Done\n",
            "1\n",
            "Done\n",
            "1\n",
            "Done\n",
            "1\n",
            "Done\n",
            "1\n",
            "Done\n",
            "1\n",
            "Done\n",
            "1\n",
            "Done\n",
            "1\n",
            "Done\n",
            "1\n",
            "Done\n",
            "1\n",
            "Done\n",
            "1\n",
            "Done\n",
            "1\n",
            "Done\n",
            "1\n",
            "Done\n",
            "1\n",
            "Done\n",
            "1\n",
            "Done\n",
            "1\n",
            "Done\n",
            "1\n",
            "Done\n",
            "1\n",
            "Done\n",
            "1\n",
            "Done\n",
            "1\n",
            "Done\n",
            "1\n",
            "Done\n",
            "1\n",
            "Done\n",
            "1\n",
            "Done\n",
            "1\n",
            "Done\n",
            "1\n",
            "Done\n",
            "1\n",
            "Done\n",
            "1\n",
            "Done\n",
            "1\n",
            "Done\n",
            "1\n",
            "Done\n",
            "1\n",
            "Done\n",
            "1\n",
            "Done\n",
            "1\n",
            "Done\n",
            "1\n",
            "Done\n",
            "1\n",
            "Done\n",
            "1\n",
            "Done\n",
            "1\n",
            "Done\n",
            "1\n",
            "Done\n",
            "1\n",
            "Done\n",
            "1\n",
            "Done\n",
            "1\n",
            "Done\n",
            "1\n",
            "Done\n",
            "1\n",
            "Done\n",
            "1\n",
            "Done\n",
            "1\n",
            "Done\n",
            "1\n",
            "Done\n",
            "1\n",
            "Done\n",
            "1\n",
            "Done\n",
            "1\n",
            "Done\n",
            "1\n",
            "Done\n",
            "1\n",
            "Done\n",
            "1\n",
            "Done\n",
            "1\n",
            "Done\n",
            "1\n",
            "Done\n",
            "1\n",
            "Done\n",
            "1\n",
            "Done\n",
            "1\n",
            "Done\n",
            "1\n",
            "Done\n",
            "1\n",
            "Done\n",
            "1\n",
            "Done\n",
            "1\n",
            "Done\n",
            "1\n",
            "Done\n",
            "1\n",
            "Done\n",
            "1\n",
            "Done\n",
            "1\n",
            "Done\n",
            "1\n",
            "Done\n",
            "1\n",
            "Done\n",
            "1\n",
            "Done\n",
            "1\n",
            "Done\n",
            "1\n",
            "Done\n",
            "1\n",
            "Done\n",
            "1\n",
            "Done\n",
            "1\n",
            "Done\n",
            "1\n",
            "Done\n",
            "1\n",
            "Done\n",
            "1\n",
            "Done\n",
            "1\n",
            "Done\n",
            "1\n",
            "Done\n",
            "1\n",
            "Done\n",
            "1\n",
            "Done\n",
            "1\n",
            "Done\n",
            "1\n",
            "Done\n",
            "1\n",
            "Done\n",
            "1\n",
            "Done\n",
            "1\n",
            "Done\n",
            "1\n",
            "Done\n",
            "1\n",
            "Done\n",
            "1\n",
            "Done\n",
            "1\n",
            "Done\n",
            "1\n",
            "Done\n",
            "1\n",
            "Done\n",
            "1\n",
            "Done\n",
            "1\n",
            "Done\n",
            "1\n",
            "Done\n",
            "1\n",
            "Done\n",
            "1\n",
            "Done\n",
            "1\n",
            "Done\n",
            "1\n",
            "Done\n",
            "1\n",
            "Done\n",
            "1\n",
            "Done\n",
            "1\n",
            "Done\n",
            "1\n",
            "Done\n",
            "1\n",
            "Done\n",
            "1\n",
            "Done\n",
            "1\n",
            "Done\n",
            "1\n",
            "Done\n",
            "1\n",
            "Done\n",
            "1\n",
            "Done\n",
            "1\n",
            "Done\n",
            "1\n",
            "Done\n",
            "1\n",
            "Done\n",
            "1\n",
            "Done\n",
            "1\n",
            "Done\n",
            "1\n",
            "Done\n",
            "1\n",
            "Done\n",
            "1\n",
            "Done\n",
            "1\n",
            "Done\n",
            "1\n",
            "Done\n",
            "1\n",
            "Done\n",
            "1\n",
            "Done\n",
            "1\n",
            "Done\n",
            "1\n",
            "Done\n",
            "1\n",
            "Done\n",
            "1\n",
            "Done\n",
            "1\n",
            "Done\n",
            "1\n",
            "Done\n",
            "1\n",
            "Done\n",
            "1\n",
            "Done\n",
            "1\n",
            "Done\n",
            "1\n",
            "Done\n",
            "1\n",
            "Done\n",
            "1\n",
            "Done\n",
            "1\n",
            "Done\n",
            "1\n",
            "Done\n",
            "1\n",
            "Done\n",
            "1\n",
            "Done\n",
            "1\n",
            "Done\n",
            "1\n",
            "Done\n",
            "1\n",
            "Done\n",
            "1\n",
            "Done\n",
            "1\n",
            "Done\n",
            "1\n",
            "Done\n",
            "1\n",
            "Done\n",
            "1\n",
            "Done\n",
            "1\n",
            "Done\n",
            "1\n",
            "Done\n",
            "1\n",
            "Done\n",
            "1\n",
            "Done\n",
            "1\n",
            "Done\n",
            "1\n",
            "Done\n",
            "1\n",
            "Done\n",
            "1\n",
            "Done\n",
            "1\n",
            "Done\n",
            "1\n",
            "Done\n",
            "1\n",
            "Done\n",
            "1\n",
            "Done\n",
            "1\n",
            "Done\n",
            "1\n",
            "Done\n",
            "1\n",
            "Done\n",
            "1\n",
            "Done\n",
            "1\n",
            "Done\n",
            "1\n",
            "Done\n",
            "1\n",
            "Done\n",
            "1\n",
            "Done\n",
            "1\n",
            "Done\n",
            "1\n",
            "Done\n",
            "1\n",
            "Done\n",
            "1\n",
            "Done\n",
            "1\n",
            "Done\n",
            "1\n",
            "Done\n",
            "1\n",
            "Done\n",
            "1\n",
            "Done\n",
            "1\n",
            "Done\n",
            "1\n",
            "Done\n",
            "1\n",
            "Done\n",
            "1\n",
            "Done\n",
            "1\n",
            "Done\n",
            "1\n",
            "Done\n",
            "1\n",
            "Done\n",
            "1\n",
            "Done\n",
            "1\n",
            "Done\n",
            "1\n",
            "Done\n",
            "1\n",
            "Done\n",
            "1\n",
            "Done\n",
            "1\n",
            "Done\n",
            "1\n",
            "Done\n",
            "1\n",
            "Done\n",
            "1\n",
            "Done\n",
            "1\n",
            "Done\n",
            "1\n",
            "Done\n",
            "1\n",
            "Done\n",
            "1\n",
            "Done\n",
            "1\n",
            "Done\n",
            "1\n",
            "Done\n",
            "1\n",
            "Done\n",
            "1\n",
            "Done\n",
            "1\n",
            "Done\n",
            "1\n",
            "Done\n",
            "1\n",
            "Done\n",
            "1\n",
            "Done\n",
            "1\n",
            "Done\n",
            "1\n",
            "Done\n",
            "1\n",
            "Done\n",
            "1\n",
            "Done\n",
            "1\n",
            "Done\n",
            "1\n",
            "Done\n",
            "1\n",
            "Done\n",
            "1\n",
            "Done\n",
            "1\n",
            "Done\n",
            "1\n",
            "Done\n",
            "1\n",
            "Done\n",
            "1\n",
            "Done\n",
            "1\n",
            "Done\n",
            "1\n",
            "Done\n",
            "1\n",
            "Done\n",
            "1\n",
            "Done\n",
            "1\n",
            "Done\n",
            "1\n",
            "Done\n",
            "1\n",
            "Done\n",
            "1\n",
            "Done\n",
            "1\n",
            "Done\n",
            "1\n",
            "Done\n",
            "1\n",
            "Done\n",
            "1\n",
            "Done\n",
            "1\n",
            "Done\n",
            "1\n",
            "Done\n",
            "1\n",
            "Done\n",
            "1\n",
            "Done\n",
            "1\n",
            "Done\n",
            "1\n",
            "Done\n",
            "1\n",
            "Done\n",
            "1\n",
            "Done\n",
            "1\n",
            "Done\n",
            "1\n",
            "Done\n",
            "1\n",
            "Done\n",
            "1\n",
            "Done\n",
            "1\n",
            "Done\n",
            "1\n",
            "Done\n",
            "1\n",
            "Done\n",
            "1\n",
            "Done\n",
            "1\n",
            "Done\n",
            "1\n",
            "Done\n",
            "1\n",
            "Done\n",
            "1\n",
            "Done\n",
            "1\n",
            "Done\n",
            "1\n",
            "Done\n",
            "1\n",
            "Done\n",
            "1\n",
            "Done\n",
            "1\n",
            "Done\n",
            "1\n",
            "Done\n",
            "1\n",
            "Done\n",
            "1\n",
            "Done\n",
            "1\n",
            "Done\n",
            "1\n",
            "Done\n",
            "1\n",
            "Done\n",
            "1\n",
            "Done\n",
            "1\n",
            "Done\n",
            "1\n",
            "Done\n",
            "1\n",
            "Done\n",
            "1\n",
            "Done\n",
            "1\n",
            "Done\n",
            "1\n",
            "Done\n",
            "1\n",
            "Done\n",
            "1\n",
            "Done\n",
            "1\n",
            "Done\n",
            "1\n",
            "Done\n",
            "1\n",
            "Done\n",
            "1\n",
            "Done\n",
            "1\n",
            "Done\n",
            "1\n",
            "Done\n",
            "1\n",
            "Done\n",
            "1\n",
            "Done\n",
            "1\n",
            "Done\n",
            "1\n",
            "Done\n",
            "1\n",
            "Done\n",
            "1\n",
            "Done\n",
            "1\n",
            "Done\n",
            "1\n",
            "Done\n",
            "1\n",
            "Done\n",
            "1\n",
            "Done\n",
            "1\n",
            "Done\n",
            "1\n",
            "Done\n",
            "1\n",
            "Done\n",
            "1\n",
            "Done\n",
            "1\n",
            "Done\n",
            "1\n",
            "Done\n",
            "1\n",
            "Done\n",
            "1\n",
            "Done\n",
            "1\n",
            "Done\n",
            "1\n",
            "Done\n",
            "1\n",
            "Done\n",
            "1\n",
            "Done\n",
            "1\n",
            "Done\n",
            "1\n",
            "Done\n",
            "1\n",
            "Done\n",
            "1\n",
            "Done\n",
            "1\n",
            "Done\n",
            "1\n",
            "Done\n",
            "1\n",
            "Done\n",
            "1\n",
            "Done\n",
            "1\n",
            "Done\n",
            "1\n",
            "Done\n",
            "1\n",
            "Done\n",
            "1\n",
            "Done\n",
            "1\n",
            "Done\n",
            "1\n",
            "Done\n",
            "1\n",
            "Done\n",
            "1\n",
            "Done\n",
            "1\n",
            "Done\n",
            "1\n",
            "Done\n",
            "1\n",
            "Done\n",
            "1\n",
            "Done\n",
            "1\n",
            "Done\n",
            "1\n",
            "Done\n",
            "1\n",
            "Done\n",
            "1\n",
            "Done\n",
            "1\n",
            "Done\n",
            "1\n",
            "Done\n",
            "1\n",
            "Done\n",
            "1\n",
            "Done\n",
            "1\n",
            "Done\n",
            "1\n",
            "Done\n",
            "1\n",
            "Done\n",
            "1\n",
            "Done\n",
            "1\n",
            "Done\n",
            "1\n",
            "Done\n",
            "1\n",
            "Done\n",
            "1\n",
            "Done\n",
            "1\n",
            "Done\n",
            "1\n",
            "Done\n",
            "1\n",
            "Done\n",
            "1\n",
            "Done\n",
            "1\n",
            "Done\n",
            "1\n",
            "Done\n",
            "1\n",
            "Done\n",
            "1\n",
            "Done\n",
            "1\n",
            "Done\n",
            "1\n",
            "Done\n",
            "1\n",
            "Done\n",
            "1\n",
            "Done\n",
            "1\n",
            "Done\n",
            "1\n",
            "Done\n",
            "1\n",
            "Done\n",
            "1\n",
            "Done\n",
            "1\n",
            "Done\n",
            "1\n",
            "Done\n",
            "1\n",
            "Done\n",
            "1\n",
            "Done\n",
            "1\n",
            "Done\n",
            "1\n",
            "Done\n",
            "1\n",
            "Done\n",
            "1\n",
            "Done\n",
            "1\n",
            "Done\n",
            "1\n",
            "Done\n",
            "1\n",
            "Done\n",
            "1\n",
            "Done\n",
            "1\n",
            "Done\n",
            "1\n",
            "Done\n",
            "1\n",
            "Done\n",
            "1\n",
            "Done\n",
            "1\n",
            "Done\n",
            "1\n",
            "Done\n",
            "1\n",
            "Done\n",
            "1\n",
            "Done\n",
            "1\n",
            "Done\n",
            "1\n",
            "Done\n",
            "1\n",
            "Done\n",
            "1\n",
            "Done\n",
            "1\n",
            "Done\n",
            "1\n",
            "Done\n",
            "1\n",
            "Done\n",
            "1\n",
            "Done\n",
            "1\n",
            "Done\n",
            "1\n",
            "Done\n",
            "1\n",
            "Done\n",
            "1\n",
            "Done\n",
            "1\n",
            "Done\n",
            "1\n",
            "Done\n",
            "1\n",
            "Done\n",
            "1\n",
            "Done\n",
            "1\n",
            "Done\n",
            "1\n",
            "Done\n",
            "1\n",
            "Done\n",
            "1\n",
            "Done\n",
            "1\n",
            "Done\n",
            "1\n",
            "Done\n",
            "1\n",
            "Done\n",
            "1\n",
            "Done\n",
            "1\n",
            "Done\n",
            "1\n",
            "Done\n",
            "1\n",
            "Done\n",
            "1\n",
            "Done\n",
            "1\n",
            "Done\n",
            "1\n",
            "Done\n",
            "1\n",
            "Done\n",
            "1\n",
            "Done\n",
            "1\n",
            "Done\n",
            "1\n",
            "Done\n",
            "1\n",
            "Done\n",
            "1\n",
            "Done\n",
            "1\n",
            "Done\n",
            "1\n",
            "Done\n",
            "1\n",
            "Done\n",
            "1\n",
            "Done\n",
            "1\n",
            "Done\n",
            "1\n",
            "Done\n",
            "1\n",
            "Done\n",
            "1\n",
            "Done\n",
            "1\n",
            "Done\n",
            "1\n",
            "Done\n",
            "1\n",
            "Done\n",
            "1\n",
            "Done\n",
            "1\n",
            "Done\n",
            "1\n",
            "Done\n",
            "1\n",
            "Done\n",
            "1\n",
            "Done\n",
            "1\n",
            "Done\n",
            "1\n",
            "Done\n",
            "1\n",
            "Done\n",
            "1\n",
            "Done\n",
            "1\n",
            "Done\n",
            "1\n",
            "Done\n",
            "1\n",
            "Done\n",
            "1\n",
            "Done\n",
            "1\n",
            "Done\n",
            "1\n",
            "Done\n",
            "1\n",
            "Done\n",
            "1\n",
            "Done\n",
            "1\n",
            "Done\n",
            "1\n",
            "Done\n",
            "1\n",
            "Done\n",
            "1\n",
            "Done\n",
            "1\n",
            "Done\n",
            "1\n",
            "Done\n",
            "1\n",
            "Done\n",
            "1\n",
            "Done\n",
            "1\n",
            "Done\n",
            "1\n",
            "Done\n",
            "1\n",
            "Done\n",
            "1\n",
            "Done\n",
            "1\n",
            "Done\n",
            "1\n",
            "Done\n",
            "1\n",
            "Done\n",
            "1\n",
            "Done\n",
            "1\n",
            "Done\n",
            "1\n",
            "Done\n",
            "1\n",
            "Done\n",
            "1\n",
            "Done\n",
            "1\n",
            "Done\n",
            "1\n",
            "Done\n",
            "1\n",
            "Done\n",
            "1\n",
            "Done\n",
            "1\n",
            "Done\n",
            "1\n",
            "Done\n",
            "1\n",
            "Done\n",
            "1\n",
            "Done\n",
            "1\n",
            "Done\n",
            "1\n",
            "Done\n",
            "1\n",
            "Done\n",
            "1\n",
            "Done\n",
            "1\n",
            "Done\n",
            "1\n",
            "Done\n",
            "1\n",
            "Done\n",
            "1\n",
            "Done\n",
            "1\n",
            "Done\n",
            "1\n",
            "Done\n",
            "1\n",
            "Done\n",
            "1\n",
            "Done\n",
            "1\n",
            "Done\n",
            "1\n",
            "Done\n",
            "1\n",
            "Done\n",
            "1\n",
            "Done\n",
            "1\n",
            "Done\n",
            "1\n",
            "Done\n",
            "1\n",
            "Done\n",
            "1\n",
            "Done\n",
            "1\n",
            "Done\n",
            "1\n",
            "Done\n",
            "1\n",
            "Done\n",
            "1\n",
            "Done\n",
            "1\n",
            "Done\n",
            "1\n",
            "Done\n",
            "1\n",
            "Done\n",
            "1\n",
            "Done\n",
            "1\n",
            "Done\n",
            "1\n",
            "Done\n",
            "1\n",
            "Done\n",
            "1\n",
            "Done\n",
            "1\n",
            "Done\n",
            "1\n",
            "Done\n",
            "1\n",
            "Done\n",
            "1\n",
            "Done\n",
            "1\n",
            "Done\n",
            "1\n",
            "Done\n",
            "1\n",
            "Done\n",
            "1\n",
            "Done\n",
            "1\n",
            "Done\n",
            "1\n",
            "Done\n",
            "1\n",
            "Done\n",
            "1\n",
            "Done\n",
            "1\n",
            "Done\n",
            "1\n",
            "Done\n",
            "1\n",
            "Done\n",
            "1\n",
            "Done\n",
            "1\n",
            "Done\n",
            "1\n",
            "Done\n",
            "1\n",
            "Done\n",
            "1\n",
            "Done\n",
            "1\n",
            "Done\n",
            "1\n",
            "Done\n",
            "1\n",
            "Done\n",
            "1\n",
            "Done\n",
            "1\n",
            "Done\n",
            "1\n",
            "Done\n",
            "1\n",
            "Done\n",
            "1\n",
            "Done\n",
            "1\n",
            "Done\n",
            "1\n",
            "Done\n",
            "1\n",
            "Done\n",
            "1\n",
            "Done\n",
            "1\n",
            "Done\n",
            "1\n",
            "Done\n",
            "1\n",
            "Done\n",
            "1\n",
            "Done\n",
            "1\n",
            "Done\n",
            "1\n",
            "Done\n",
            "1\n",
            "Done\n",
            "1\n",
            "Done\n",
            "1\n",
            "Done\n",
            "1\n",
            "Done\n",
            "1\n",
            "Done\n",
            "1\n",
            "Done\n",
            "1\n",
            "Done\n",
            "1\n",
            "Done\n",
            "1\n",
            "Done\n",
            "1\n",
            "Done\n",
            "1\n",
            "Done\n",
            "1\n",
            "Done\n",
            "1\n",
            "Done\n",
            "1\n",
            "Done\n",
            "1\n",
            "Done\n",
            "1\n",
            "Done\n",
            "1\n",
            "Done\n",
            "1\n",
            "Done\n",
            "1\n",
            "Done\n",
            "1\n",
            "Done\n",
            "1\n",
            "Done\n",
            "1\n",
            "Done\n",
            "1\n",
            "Done\n",
            "1\n",
            "Done\n",
            "1\n",
            "Done\n",
            "1\n",
            "Done\n",
            "1\n",
            "Done\n",
            "1\n",
            "Done\n",
            "1\n",
            "Done\n",
            "1\n",
            "Done\n",
            "1\n",
            "Done\n",
            "1\n",
            "Done\n",
            "1\n",
            "Done\n",
            "1\n",
            "Done\n",
            "1\n",
            "Done\n",
            "1\n",
            "Done\n",
            "1\n",
            "Done\n",
            "1\n",
            "Done\n",
            "1\n",
            "Done\n",
            "1\n",
            "Done\n",
            "1\n",
            "Done\n",
            "1\n",
            "Done\n",
            "1\n",
            "Done\n",
            "1\n",
            "Done\n",
            "1\n",
            "Done\n",
            "1\n",
            "Done\n",
            "1\n",
            "Done\n",
            "1\n",
            "Done\n",
            "1\n",
            "Done\n",
            "1\n",
            "Done\n",
            "1\n",
            "Done\n",
            "1\n",
            "Done\n",
            "1\n",
            "Done\n",
            "1\n",
            "Done\n",
            "1\n",
            "Done\n",
            "1\n",
            "Done\n",
            "1\n",
            "Done\n",
            "1\n",
            "Done\n",
            "1\n",
            "Done\n",
            "1\n",
            "Done\n",
            "1\n",
            "Done\n",
            "1\n",
            "Done\n",
            "1\n",
            "Done\n",
            "1\n",
            "Done\n",
            "1\n",
            "Done\n",
            "1\n",
            "Done\n",
            "1\n",
            "Done\n",
            "1\n",
            "Done\n",
            "1\n",
            "Done\n",
            "1\n",
            "Done\n",
            "1\n",
            "Done\n",
            "1\n",
            "Done\n",
            "1\n",
            "Done\n",
            "1\n",
            "Done\n",
            "1\n",
            "Done\n",
            "1\n",
            "Done\n",
            "1\n",
            "Done\n",
            "1\n",
            "Done\n",
            "1\n",
            "Done\n",
            "1\n",
            "Done\n",
            "1\n",
            "Done\n",
            "1\n",
            "Done\n",
            "1\n",
            "Done\n",
            "1\n",
            "Done\n",
            "1\n",
            "Done\n",
            "1\n",
            "Done\n",
            "1\n",
            "Done\n",
            "1\n",
            "Done\n",
            "1\n",
            "Done\n",
            "1\n",
            "Done\n",
            "1\n",
            "Done\n",
            "1\n",
            "Done\n",
            "1\n",
            "Done\n",
            "1\n",
            "Done\n",
            "1\n",
            "Done\n",
            "1\n",
            "Done\n",
            "1\n",
            "Done\n",
            "1\n",
            "Done\n",
            "1\n",
            "Done\n",
            "1\n",
            "Done\n",
            "1\n",
            "Done\n",
            "1\n",
            "Done\n",
            "1\n",
            "Done\n",
            "1\n",
            "Done\n",
            "1\n",
            "Done\n",
            "1\n",
            "Done\n",
            "1\n",
            "Done\n",
            "1\n",
            "Done\n",
            "1\n",
            "Done\n",
            "1\n",
            "Done\n",
            "1\n",
            "Done\n",
            "1\n",
            "Done\n",
            "1\n",
            "Done\n",
            "1\n",
            "Done\n",
            "1\n",
            "Done\n",
            "1\n",
            "Done\n",
            "1\n",
            "Done\n",
            "1\n",
            "Done\n",
            "1\n",
            "Done\n",
            "1\n",
            "Done\n",
            "1\n",
            "Done\n",
            "1\n",
            "Done\n",
            "1\n",
            "Done\n",
            "1\n",
            "Done\n",
            "1\n",
            "Done\n",
            "1\n",
            "Done\n",
            "1\n",
            "Done\n",
            "1\n",
            "Done\n",
            "1\n",
            "Done\n",
            "1\n",
            "Done\n",
            "1\n",
            "Done\n",
            "1\n",
            "Done\n",
            "1\n",
            "Done\n",
            "1\n",
            "Done\n",
            "1\n",
            "Done\n",
            "1\n",
            "Done\n",
            "1\n",
            "Done\n",
            "1\n",
            "Done\n",
            "1\n",
            "Done\n",
            "1\n",
            "Done\n",
            "1\n",
            "Done\n",
            "1\n",
            "Done\n",
            "1\n",
            "Done\n",
            "1\n",
            "Done\n",
            "1\n",
            "Done\n",
            "1\n",
            "Done\n",
            "1\n",
            "Done\n",
            "1\n",
            "Done\n",
            "1\n",
            "Done\n",
            "1\n",
            "Done\n",
            "1\n",
            "Done\n",
            "1\n",
            "Done\n",
            "1\n",
            "Done\n",
            "1\n",
            "Done\n",
            "1\n",
            "Done\n",
            "1\n",
            "Done\n",
            "1\n",
            "Done\n",
            "1\n",
            "Done\n",
            "1\n",
            "Done\n",
            "1\n",
            "Done\n",
            "1\n",
            "Done\n",
            "1\n",
            "Done\n",
            "1\n",
            "Done\n",
            "1\n",
            "Done\n",
            "1\n",
            "Done\n",
            "1\n",
            "Done\n",
            "1\n",
            "Done\n",
            "1\n",
            "Done\n",
            "1\n",
            "Done\n",
            "1\n",
            "Done\n",
            "1\n",
            "Done\n",
            "1\n",
            "Done\n",
            "1\n",
            "Done\n",
            "1\n",
            "Done\n",
            "1\n",
            "Done\n",
            "1\n",
            "Done\n",
            "1\n",
            "Done\n",
            "1\n",
            "Done\n",
            "1\n",
            "Done\n",
            "1\n",
            "Done\n",
            "1\n",
            "Done\n",
            "1\n",
            "Done\n",
            "1\n",
            "Done\n",
            "1\n",
            "Done\n",
            "1\n",
            "Done\n",
            "1\n",
            "Done\n",
            "1\n",
            "Done\n",
            "1\n",
            "Done\n",
            "1\n",
            "Done\n",
            "1\n",
            "Done\n",
            "1\n",
            "Done\n",
            "1\n",
            "Done\n",
            "1\n",
            "Done\n",
            "1\n",
            "Done\n",
            "1\n",
            "Done\n",
            "1\n",
            "Done\n",
            "1\n",
            "Done\n",
            "1\n",
            "Done\n",
            "1\n",
            "Done\n",
            "1\n",
            "Done\n",
            "1\n",
            "Done\n",
            "1\n",
            "Done\n",
            "1\n",
            "Done\n",
            "1\n",
            "Done\n",
            "1\n",
            "Done\n",
            "1\n",
            "Done\n",
            "1\n",
            "Done\n",
            "1\n",
            "Done\n",
            "1\n",
            "Done\n",
            "1\n",
            "Done\n",
            "1\n",
            "Done\n",
            "1\n",
            "Done\n",
            "1\n",
            "Done\n",
            "1\n",
            "Done\n",
            "1\n",
            "Done\n",
            "1\n",
            "Done\n",
            "1\n",
            "Done\n",
            "1\n",
            "Done\n",
            "1\n",
            "Done\n",
            "1\n",
            "Done\n",
            "1\n",
            "Done\n",
            "1\n",
            "Done\n",
            "1\n",
            "Done\n",
            "1\n",
            "Done\n",
            "1\n",
            "Done\n",
            "1\n",
            "Done\n",
            "1\n",
            "Done\n",
            "1\n",
            "Done\n",
            "1\n",
            "Done\n",
            "1\n",
            "Done\n",
            "1\n",
            "Done\n",
            "1\n",
            "Done\n",
            "1\n",
            "Done\n",
            "1\n",
            "Done\n",
            "1\n",
            "Done\n",
            "1\n",
            "Done\n",
            "1\n",
            "Done\n",
            "1\n",
            "Done\n",
            "1\n",
            "Done\n",
            "1\n",
            "Done\n",
            "1\n",
            "Done\n",
            "1\n",
            "Done\n",
            "1\n",
            "Done\n",
            "1\n",
            "Done\n",
            "1\n",
            "Done\n",
            "1\n",
            "Done\n",
            "1\n",
            "Done\n",
            "1\n",
            "Done\n",
            "1\n",
            "Done\n",
            "1\n",
            "Done\n",
            "1\n",
            "Done\n",
            "1\n",
            "Done\n",
            "1\n",
            "Done\n",
            "1\n",
            "Done\n",
            "1\n",
            "Done\n",
            "1\n",
            "Done\n",
            "1\n",
            "Done\n",
            "1\n",
            "Done\n",
            "1\n",
            "Done\n",
            "1\n",
            "Done\n",
            "1\n",
            "Done\n",
            "1\n",
            "Done\n",
            "1\n",
            "Done\n",
            "1\n",
            "Done\n",
            "1\n",
            "Done\n",
            "1\n",
            "Done\n",
            "1\n",
            "Done\n",
            "1\n",
            "Done\n",
            "1\n",
            "Done\n",
            "1\n",
            "Done\n",
            "1\n",
            "Done\n",
            "1\n",
            "Done\n",
            "1\n",
            "Done\n",
            "1\n",
            "Done\n",
            "1\n",
            "Done\n",
            "1\n",
            "Done\n",
            "1\n",
            "Done\n",
            "1\n",
            "Done\n",
            "1\n",
            "Done\n",
            "1\n",
            "Done\n",
            "1\n",
            "Done\n",
            "1\n",
            "Done\n",
            "1\n",
            "Done\n",
            "1\n",
            "Done\n",
            "1\n",
            "Done\n",
            "1\n",
            "Done\n",
            "1\n",
            "Done\n",
            "1\n",
            "Done\n",
            "1\n",
            "Done\n",
            "1\n",
            "Done\n",
            "1\n",
            "Done\n",
            "1\n",
            "Done\n",
            "1\n",
            "Done\n",
            "1\n",
            "Done\n",
            "1\n",
            "Done\n",
            "1\n",
            "Done\n",
            "1\n",
            "Done\n",
            "1\n",
            "Done\n",
            "1\n",
            "Done\n",
            "1\n",
            "Done\n",
            "1\n",
            "Done\n",
            "1\n",
            "Done\n",
            "1\n",
            "Done\n",
            "1\n",
            "Done\n",
            "1\n",
            "Done\n",
            "1\n",
            "Done\n",
            "1\n",
            "Done\n",
            "1\n",
            "Done\n",
            "1\n",
            "Done\n",
            "1\n",
            "Done\n",
            "1\n",
            "Done\n",
            "1\n",
            "Done\n",
            "1\n",
            "Done\n",
            "1\n",
            "Done\n",
            "1\n",
            "Done\n",
            "1\n",
            "Done\n",
            "1\n",
            "Done\n",
            "1\n",
            "Done\n",
            "1\n",
            "Done\n",
            "1\n",
            "Done\n",
            "1\n",
            "Done\n",
            "1\n",
            "Done\n",
            "1\n",
            "Done\n",
            "1\n",
            "Done\n",
            "1\n",
            "Done\n",
            "1\n",
            "Done\n",
            "1\n",
            "Done\n",
            "1\n",
            "Done\n",
            "1\n",
            "Done\n",
            "1\n",
            "Done\n",
            "1\n",
            "Done\n",
            "1\n",
            "Done\n",
            "1\n",
            "Done\n",
            "1\n",
            "Done\n",
            "1\n",
            "Done\n",
            "1\n",
            "Done\n",
            "1\n",
            "Done\n",
            "1\n",
            "Done\n",
            "1\n",
            "Done\n",
            "1\n",
            "Done\n",
            "1\n",
            "Done\n",
            "1\n",
            "Done\n",
            "1\n",
            "Done\n",
            "1\n",
            "Done\n",
            "1\n",
            "Done\n",
            "1\n",
            "Done\n",
            "1\n",
            "Done\n",
            "1\n",
            "Done\n",
            "1\n",
            "Done\n",
            "1\n",
            "Done\n",
            "1\n",
            "Done\n",
            "1\n",
            "Done\n",
            "1\n",
            "Done\n",
            "1\n",
            "Done\n",
            "1\n",
            "Done\n",
            "1\n",
            "Done\n",
            "1\n",
            "Done\n",
            "1\n",
            "Done\n",
            "1\n",
            "Done\n",
            "1\n",
            "Done\n",
            "1\n",
            "Done\n",
            "1\n",
            "Done\n",
            "1\n",
            "Done\n",
            "1\n",
            "Done\n",
            "1\n",
            "Done\n",
            "1\n",
            "Done\n",
            "1\n",
            "Done\n",
            "1\n",
            "Done\n",
            "1\n",
            "Done\n",
            "1\n",
            "Done\n",
            "1\n",
            "Done\n",
            "1\n",
            "Done\n",
            "1\n",
            "Done\n",
            "1\n",
            "Done\n",
            "1\n",
            "Done\n",
            "1\n",
            "Done\n",
            "1\n",
            "Done\n",
            "1\n",
            "Done\n",
            "1\n",
            "Done\n",
            "1\n",
            "Done\n",
            "1\n",
            "Done\n",
            "1\n",
            "Done\n",
            "1\n",
            "Done\n",
            "1\n",
            "Done\n",
            "1\n",
            "Done\n",
            "1\n",
            "Done\n",
            "1\n",
            "Done\n",
            "1\n",
            "Done\n",
            "1\n",
            "Done\n",
            "1\n",
            "Done\n",
            "1\n",
            "Done\n",
            "1\n",
            "Done\n",
            "1\n",
            "Done\n",
            "1\n",
            "Done\n",
            "1\n",
            "Done\n",
            "1\n",
            "Done\n",
            "1\n",
            "Done\n",
            "1\n",
            "Done\n",
            "1\n",
            "Done\n",
            "1\n",
            "Done\n",
            "1\n",
            "Done\n",
            "1\n",
            "Done\n",
            "1\n",
            "Done\n",
            "1\n",
            "Done\n",
            "1\n",
            "Done\n",
            "1\n",
            "Done\n",
            "1\n",
            "Done\n",
            "1\n",
            "Done\n",
            "1\n",
            "Done\n",
            "1\n",
            "Done\n",
            "1\n",
            "Done\n",
            "1\n",
            "Done\n",
            "1\n",
            "Done\n",
            "1\n",
            "Done\n",
            "1\n",
            "Done\n",
            "1\n",
            "Done\n",
            "1\n",
            "Done\n",
            "1\n",
            "Done\n",
            "1\n",
            "Done\n",
            "1\n",
            "Done\n",
            "1\n",
            "Done\n",
            "1\n",
            "Done\n",
            "1\n",
            "Done\n",
            "1\n",
            "Done\n",
            "1\n",
            "Done\n",
            "1\n",
            "Done\n",
            "1\n",
            "Done\n",
            "1\n",
            "Done\n",
            "1\n",
            "Done\n",
            "1\n",
            "Done\n",
            "1\n",
            "Done\n",
            "1\n",
            "Done\n",
            "1\n",
            "Done\n",
            "1\n",
            "Done\n",
            "1\n",
            "Done\n",
            "1\n",
            "Done\n",
            "1\n",
            "Done\n",
            "1\n",
            "Done\n",
            "1\n",
            "Done\n",
            "1\n",
            "Done\n",
            "1\n",
            "Done\n",
            "1\n",
            "Done\n",
            "1\n",
            "Done\n",
            "1\n",
            "Done\n",
            "1\n",
            "Done\n",
            "1\n",
            "Done\n",
            "1\n",
            "Done\n",
            "1\n",
            "Done\n",
            "1\n",
            "Done\n",
            "1\n",
            "Done\n",
            "1\n",
            "Done\n",
            "1\n",
            "Done\n",
            "1\n",
            "Done\n",
            "1\n",
            "Done\n",
            "1\n",
            "Done\n",
            "1\n",
            "Done\n",
            "1\n",
            "Done\n",
            "1\n",
            "Done\n",
            "1\n",
            "Done\n",
            "1\n",
            "Done\n",
            "1\n",
            "Done\n",
            "1\n",
            "Done\n",
            "1\n",
            "Done\n",
            "1\n",
            "Done\n",
            "1\n",
            "Done\n",
            "1\n",
            "Done\n",
            "1\n",
            "Done\n",
            "1\n",
            "Done\n",
            "1\n",
            "Done\n",
            "1\n",
            "Done\n",
            "1\n",
            "Done\n",
            "1\n",
            "Done\n",
            "1\n",
            "Done\n",
            "1\n",
            "Done\n",
            "1\n",
            "Done\n",
            "1\n",
            "Done\n",
            "1\n",
            "Done\n",
            "1\n",
            "Done\n",
            "1\n",
            "Done\n",
            "1\n",
            "Done\n",
            "1\n",
            "Done\n",
            "1\n",
            "Done\n",
            "1\n",
            "Done\n",
            "1\n",
            "Done\n",
            "1\n",
            "Done\n",
            "1\n",
            "Done\n",
            "1\n",
            "Done\n",
            "1\n",
            "Done\n",
            "1\n",
            "Done\n",
            "1\n",
            "Done\n",
            "1\n",
            "Done\n",
            "1\n",
            "Done\n",
            "1\n",
            "Done\n",
            "1\n",
            "Done\n",
            "1\n",
            "Done\n",
            "1\n",
            "Done\n",
            "1\n",
            "Done\n",
            "1\n",
            "Done\n",
            "1\n",
            "Done\n",
            "1\n",
            "Done\n",
            "1\n",
            "Done\n",
            "1\n",
            "Done\n",
            "1\n",
            "Done\n",
            "1\n",
            "Done\n",
            "1\n",
            "Done\n",
            "1\n",
            "Done\n",
            "1\n",
            "Done\n",
            "1\n",
            "Done\n",
            "1\n",
            "Done\n",
            "1\n",
            "Done\n",
            "1\n",
            "Done\n",
            "1\n",
            "Done\n",
            "1\n",
            "Done\n",
            "1\n",
            "Done\n",
            "1\n",
            "Done\n",
            "1\n",
            "Done\n",
            "1\n",
            "Done\n",
            "1\n",
            "Done\n",
            "1\n",
            "Done\n",
            "1\n",
            "Done\n",
            "1\n",
            "Done\n",
            "1\n",
            "Done\n",
            "1\n",
            "Done\n",
            "1\n",
            "Done\n",
            "1\n",
            "Done\n",
            "1\n",
            "Done\n",
            "1\n",
            "Done\n",
            "1\n",
            "Done\n",
            "1\n",
            "Done\n",
            "1\n",
            "Done\n",
            "1\n",
            "Done\n",
            "1\n",
            "Done\n",
            "1\n",
            "Done\n",
            "1\n",
            "Done\n",
            "1\n",
            "Done\n",
            "1\n",
            "Done\n",
            "1\n",
            "Done\n",
            "1\n",
            "Done\n",
            "1\n",
            "Done\n",
            "1\n",
            "Done\n",
            "1\n",
            "Done\n",
            "1\n",
            "Done\n",
            "1\n",
            "Done\n",
            "1\n",
            "Done\n",
            "1\n",
            "Done\n",
            "1\n",
            "Done\n",
            "1\n",
            "Done\n",
            "1\n",
            "Done\n",
            "1\n",
            "Done\n",
            "1\n",
            "Done\n",
            "1\n",
            "Done\n",
            "1\n",
            "Done\n",
            "1\n",
            "Done\n",
            "1\n",
            "Done\n",
            "1\n",
            "Done\n",
            "1\n",
            "Done\n",
            "1\n",
            "Done\n",
            "1\n",
            "Done\n",
            "1\n",
            "Done\n",
            "1\n",
            "Done\n",
            "1\n",
            "Done\n",
            "1\n",
            "Done\n",
            "1\n",
            "Done\n",
            "1\n",
            "Done\n",
            "1\n",
            "Done\n",
            "1\n",
            "Done\n",
            "1\n",
            "Done\n",
            "1\n",
            "Done\n",
            "1\n",
            "Done\n",
            "1\n",
            "Done\n",
            "1\n",
            "Done\n",
            "1\n",
            "Done\n",
            "1\n",
            "Done\n",
            "1\n",
            "Done\n",
            "1\n",
            "Done\n",
            "1\n",
            "Done\n",
            "1\n",
            "Done\n",
            "1\n",
            "Done\n",
            "1\n",
            "Done\n",
            "1\n",
            "Done\n",
            "1\n",
            "Done\n",
            "1\n",
            "Done\n",
            "1\n",
            "Done\n",
            "1\n",
            "Done\n",
            "1\n",
            "Done\n",
            "1\n",
            "Done\n",
            "1\n",
            "Done\n",
            "1\n",
            "Done\n",
            "1\n",
            "Done\n",
            "1\n",
            "Done\n",
            "1\n",
            "Done\n",
            "1\n",
            "Done\n",
            "1\n",
            "Done\n",
            "1\n",
            "Done\n",
            "1\n",
            "Done\n",
            "1\n",
            "Done\n",
            "1\n",
            "Done\n",
            "1\n",
            "Done\n",
            "1\n",
            "Done\n",
            "1\n",
            "Done\n",
            "1\n",
            "Done\n",
            "1\n",
            "Done\n",
            "1\n",
            "Done\n",
            "1\n",
            "Done\n",
            "1\n",
            "Done\n",
            "1\n",
            "Done\n",
            "1\n",
            "Done\n",
            "1\n",
            "Done\n",
            "1\n",
            "Done\n",
            "1\n",
            "Done\n",
            "1\n",
            "Done\n",
            "1\n",
            "Done\n",
            "1\n",
            "Done\n",
            "1\n",
            "Done\n",
            "1\n",
            "Done\n",
            "1\n",
            "Done\n",
            "1\n",
            "Done\n",
            "1\n",
            "Done\n",
            "1\n",
            "Done\n",
            "1\n",
            "Done\n",
            "1\n",
            "Done\n",
            "1\n",
            "Done\n",
            "1\n",
            "Done\n",
            "1\n",
            "Done\n",
            "1\n",
            "Done\n",
            "1\n",
            "Done\n",
            "1\n",
            "Done\n",
            "1\n",
            "Done\n",
            "1\n",
            "Done\n",
            "1\n",
            "Done\n",
            "1\n",
            "Done\n",
            "1\n",
            "Done\n",
            "1\n",
            "Done\n",
            "1\n",
            "Done\n",
            "1\n",
            "Done\n",
            "1\n",
            "Done\n",
            "1\n",
            "Done\n",
            "1\n",
            "Done\n",
            "1\n",
            "Done\n",
            "1\n",
            "Done\n",
            "1\n",
            "Done\n",
            "1\n",
            "Done\n",
            "1\n",
            "Done\n",
            "1\n",
            "Done\n",
            "1\n",
            "Done\n",
            "1\n",
            "Done\n",
            "1\n",
            "Done\n",
            "1\n",
            "Done\n",
            "1\n",
            "Done\n",
            "1\n",
            "Done\n",
            "1\n",
            "Done\n",
            "1\n",
            "Done\n",
            "1\n",
            "Done\n",
            "1\n",
            "Done\n",
            "1\n",
            "Done\n",
            "1\n",
            "Done\n",
            "1\n",
            "Done\n",
            "1\n",
            "Done\n",
            "1\n",
            "Done\n",
            "1\n",
            "Done\n",
            "1\n",
            "Done\n",
            "1\n",
            "Done\n",
            "1\n",
            "Done\n",
            "1\n",
            "Done\n",
            "1\n",
            "Done\n",
            "1\n",
            "Done\n",
            "1\n",
            "Done\n",
            "1\n",
            "Done\n",
            "1\n",
            "Done\n",
            "1\n",
            "Done\n",
            "1\n",
            "Done\n",
            "1\n",
            "Done\n",
            "1\n",
            "Done\n",
            "1\n",
            "Done\n",
            "1\n",
            "Done\n",
            "1\n",
            "Done\n",
            "1\n",
            "Done\n",
            "1\n",
            "Done\n",
            "1\n",
            "Done\n",
            "1\n",
            "Done\n",
            "1\n",
            "Done\n",
            "1\n",
            "Done\n",
            "1\n",
            "Done\n",
            "1\n",
            "Done\n",
            "1\n",
            "Done\n",
            "1\n",
            "Done\n",
            "1\n",
            "Done\n",
            "1\n",
            "Done\n",
            "1\n",
            "Done\n",
            "1\n",
            "Done\n",
            "1\n",
            "Done\n",
            "1\n",
            "Done\n",
            "1\n",
            "Done\n",
            "1\n",
            "Done\n",
            "1\n",
            "Done\n",
            "1\n",
            "Done\n",
            "1\n",
            "Done\n",
            "1\n",
            "Done\n",
            "1\n",
            "Done\n",
            "1\n",
            "Done\n",
            "1\n",
            "Done\n",
            "1\n",
            "Done\n",
            "1\n",
            "Done\n",
            "1\n",
            "Done\n",
            "1\n",
            "Done\n",
            "1\n",
            "Done\n",
            "1\n",
            "Done\n",
            "1\n",
            "Done\n",
            "1\n",
            "Done\n",
            "1\n",
            "Done\n",
            "1\n",
            "Done\n",
            "1\n",
            "Done\n",
            "1\n",
            "Done\n",
            "1\n",
            "Done\n",
            "1\n",
            "Done\n",
            "1\n",
            "Done\n",
            "1\n",
            "Done\n",
            "1\n",
            "Done\n",
            "1\n",
            "Done\n",
            "1\n",
            "Done\n",
            "1\n",
            "Done\n",
            "1\n",
            "Done\n",
            "1\n",
            "Done\n",
            "1\n",
            "Done\n",
            "1\n",
            "Done\n",
            "1\n",
            "Done\n",
            "1\n",
            "Done\n",
            "1\n",
            "Done\n",
            "1\n",
            "Done\n",
            "1\n",
            "Done\n",
            "1\n",
            "Done\n",
            "1\n",
            "Done\n",
            "1\n",
            "Done\n",
            "1\n",
            "Done\n",
            "1\n",
            "Done\n",
            "1\n",
            "Done\n",
            "1\n",
            "Done\n",
            "1\n",
            "Done\n",
            "1\n",
            "Done\n",
            "1\n",
            "Done\n",
            "1\n",
            "Done\n",
            "1\n",
            "Done\n",
            "1\n",
            "Done\n",
            "1\n",
            "Done\n",
            "1\n",
            "Done\n",
            "1\n",
            "Done\n",
            "1\n",
            "Done\n",
            "1\n",
            "Done\n",
            "1\n",
            "Done\n",
            "1\n",
            "Done\n",
            "1\n",
            "Done\n",
            "1\n",
            "Done\n",
            "1\n",
            "Done\n",
            "1\n",
            "Done\n",
            "1\n",
            "Done\n",
            "1\n",
            "Done\n",
            "1\n",
            "Done\n",
            "1\n",
            "Done\n",
            "1\n",
            "Done\n",
            "1\n",
            "Done\n",
            "1\n",
            "Done\n",
            "1\n",
            "Done\n",
            "1\n",
            "Done\n",
            "1\n",
            "Done\n",
            "1\n",
            "Done\n",
            "1\n",
            "Done\n",
            "1\n",
            "Done\n",
            "1\n",
            "Done\n",
            "1\n",
            "Done\n",
            "1\n",
            "Done\n",
            "1\n",
            "Done\n",
            "1\n",
            "Done\n",
            "1\n",
            "Done\n",
            "1\n",
            "Done\n",
            "1\n",
            "Done\n",
            "1\n",
            "Done\n",
            "1\n",
            "Done\n",
            "1\n",
            "Done\n",
            "1\n",
            "Done\n",
            "1\n",
            "Done\n",
            "1\n",
            "Done\n",
            "1\n",
            "Done\n",
            "1\n",
            "Done\n",
            "1\n",
            "Done\n",
            "1\n",
            "Done\n",
            "1\n",
            "Done\n",
            "1\n",
            "Done\n",
            "1\n",
            "Done\n",
            "1\n",
            "Done\n",
            "1\n",
            "Done\n",
            "1\n",
            "Done\n",
            "1\n",
            "Done\n",
            "1\n",
            "Done\n",
            "1\n",
            "Done\n",
            "1\n",
            "Done\n",
            "1\n",
            "Done\n",
            "1\n",
            "Done\n",
            "1\n",
            "Done\n",
            "1\n",
            "Done\n",
            "1\n",
            "Done\n",
            "1\n",
            "Done\n",
            "1\n",
            "Done\n",
            "1\n",
            "Done\n",
            "1\n",
            "Done\n",
            "1\n",
            "Done\n",
            "1\n",
            "Done\n",
            "1\n",
            "Done\n",
            "1\n",
            "Done\n",
            "1\n",
            "Done\n",
            "1\n",
            "Done\n",
            "1\n",
            "Done\n",
            "1\n",
            "Done\n",
            "1\n",
            "Done\n",
            "1\n",
            "Done\n",
            "1\n",
            "Done\n",
            "1\n",
            "Done\n",
            "1\n",
            "Done\n",
            "1\n",
            "Done\n",
            "1\n",
            "Done\n",
            "1\n",
            "Done\n",
            "1\n",
            "Done\n",
            "1\n",
            "Done\n",
            "1\n",
            "Done\n",
            "1\n",
            "Done\n",
            "1\n",
            "Done\n",
            "1\n",
            "Done\n",
            "1\n",
            "Done\n",
            "1\n",
            "Done\n",
            "1\n",
            "Done\n",
            "1\n",
            "Done\n",
            "1\n",
            "Done\n",
            "1\n",
            "Done\n",
            "1\n",
            "Done\n",
            "1\n",
            "Done\n",
            "1\n",
            "Done\n",
            "1\n",
            "Done\n",
            "1\n",
            "Done\n",
            "1\n",
            "Done\n",
            "1\n",
            "Done\n",
            "1\n",
            "Done\n",
            "1\n",
            "Done\n",
            "1\n",
            "Done\n",
            "1\n",
            "Done\n",
            "1\n",
            "Done\n",
            "1\n",
            "Done\n",
            "1\n",
            "Done\n",
            "1\n",
            "Done\n",
            "1\n",
            "Done\n",
            "1\n",
            "Done\n",
            "1\n",
            "Done\n",
            "1\n",
            "Done\n",
            "1\n",
            "Done\n",
            "1\n",
            "Done\n",
            "1\n",
            "Done\n",
            "1\n",
            "Done\n",
            "1\n",
            "Done\n",
            "1\n",
            "Done\n",
            "1\n",
            "Done\n",
            "1\n",
            "Done\n",
            "1\n",
            "Done\n",
            "1\n",
            "Done\n",
            "1\n",
            "Done\n",
            "1\n",
            "Done\n",
            "1\n",
            "Done\n",
            "1\n",
            "Done\n",
            "1\n",
            "Done\n",
            "1\n",
            "Done\n",
            "1\n",
            "Done\n",
            "1\n",
            "Done\n",
            "1\n",
            "Done\n",
            "1\n",
            "Done\n",
            "1\n",
            "Done\n",
            "1\n",
            "Done\n",
            "1\n",
            "Done\n",
            "1\n",
            "Done\n",
            "1\n",
            "Done\n",
            "1\n",
            "Done\n",
            "1\n",
            "Done\n",
            "1\n",
            "Done\n",
            "1\n",
            "Done\n",
            "1\n",
            "Done\n",
            "1\n",
            "Done\n",
            "1\n",
            "Done\n",
            "1\n",
            "Done\n",
            "1\n",
            "Done\n",
            "1\n",
            "Done\n",
            "1\n",
            "Done\n",
            "1\n",
            "Done\n",
            "1\n",
            "Done\n",
            "1\n",
            "Done\n",
            "1\n",
            "Done\n",
            "1\n",
            "Done\n",
            "1\n",
            "Done\n",
            "1\n",
            "Done\n",
            "1\n",
            "Done\n",
            "1\n",
            "Done\n",
            "1\n",
            "Done\n",
            "1\n",
            "Done\n",
            "1\n",
            "Done\n",
            "1\n",
            "Done\n",
            "1\n",
            "Done\n",
            "1\n",
            "Done\n",
            "1\n",
            "Done\n",
            "1\n",
            "Done\n",
            "1\n",
            "Done\n",
            "1\n",
            "Done\n",
            "1\n",
            "Done\n",
            "1\n",
            "Done\n",
            "1\n",
            "Done\n",
            "1\n",
            "Done\n",
            "1\n",
            "Done\n",
            "1\n",
            "Done\n",
            "1\n",
            "Done\n",
            "1\n",
            "Done\n",
            "1\n",
            "Done\n",
            "1\n",
            "Done\n",
            "1\n",
            "Done\n",
            "1\n",
            "Done\n",
            "1\n",
            "Done\n",
            "1\n",
            "Done\n",
            "1\n",
            "Done\n",
            "1\n",
            "Done\n",
            "1\n",
            "Done\n",
            "1\n",
            "Done\n",
            "1\n",
            "Done\n",
            "1\n",
            "Done\n",
            "1\n",
            "Done\n",
            "1\n",
            "Done\n",
            "1\n",
            "Done\n",
            "1\n",
            "Done\n",
            "1\n",
            "Done\n",
            "1\n",
            "Done\n",
            "1\n",
            "Done\n",
            "1\n",
            "Done\n",
            "1\n",
            "Done\n",
            "1\n",
            "Done\n",
            "1\n",
            "Done\n",
            "1\n",
            "Done\n",
            "1\n",
            "Done\n",
            "1\n",
            "Done\n",
            "1\n",
            "Done\n",
            "1\n",
            "Done\n",
            "1\n",
            "Done\n",
            "1\n",
            "Done\n",
            "1\n",
            "Done\n",
            "1\n",
            "Done\n",
            "1\n",
            "Done\n",
            "1\n",
            "Done\n",
            "1\n",
            "Done\n",
            "1\n",
            "Done\n",
            "1\n",
            "Done\n",
            "1\n",
            "Done\n",
            "1\n",
            "Done\n",
            "1\n",
            "Done\n",
            "1\n",
            "Done\n",
            "1\n",
            "Done\n",
            "1\n",
            "Done\n",
            "1\n",
            "Done\n",
            "1\n",
            "Done\n",
            "1\n",
            "Done\n",
            "1\n",
            "Done\n",
            "1\n",
            "Done\n",
            "1\n",
            "Done\n",
            "1\n",
            "Done\n",
            "1\n",
            "Done\n",
            "1\n",
            "Done\n",
            "1\n",
            "Done\n",
            "1\n",
            "Done\n",
            "1\n",
            "Done\n",
            "1\n",
            "Done\n",
            "1\n",
            "Done\n",
            "1\n",
            "Done\n",
            "1\n",
            "Done\n",
            "1\n",
            "Done\n",
            "1\n",
            "Done\n",
            "1\n",
            "Done\n",
            "1\n",
            "Done\n",
            "1\n",
            "Done\n",
            "1\n",
            "Done\n",
            "1\n",
            "Done\n",
            "1\n",
            "Done\n",
            "1\n",
            "Done\n",
            "1\n",
            "Done\n",
            "1\n",
            "Done\n",
            "1\n",
            "Done\n",
            "1\n",
            "Done\n",
            "1\n",
            "Done\n",
            "1\n",
            "Done\n",
            "1\n",
            "Done\n",
            "1\n",
            "Done\n",
            "1\n",
            "Done\n",
            "1\n",
            "Done\n",
            "1\n",
            "Done\n",
            "1\n",
            "Done\n",
            "1\n",
            "Done\n",
            "1\n",
            "Done\n",
            "1\n",
            "Done\n",
            "1\n",
            "Done\n",
            "1\n",
            "Done\n",
            "1\n",
            "Done\n",
            "1\n",
            "Done\n",
            "1\n",
            "Done\n",
            "1\n",
            "Done\n",
            "1\n",
            "Done\n",
            "1\n",
            "Done\n",
            "1\n",
            "Done\n",
            "1\n",
            "Done\n",
            "1\n",
            "Done\n",
            "1\n",
            "Done\n",
            "1\n",
            "Done\n",
            "1\n",
            "Done\n",
            "1\n",
            "Done\n",
            "1\n",
            "Done\n",
            "1\n",
            "Done\n",
            "1\n",
            "Done\n",
            "1\n",
            "Done\n",
            "1\n",
            "Done\n",
            "1\n",
            "Done\n",
            "1\n",
            "Done\n",
            "1\n",
            "Done\n",
            "1\n",
            "Done\n",
            "1\n",
            "Done\n",
            "1\n",
            "Done\n",
            "1\n",
            "Done\n",
            "1\n",
            "Done\n",
            "1\n",
            "Done\n",
            "1\n",
            "Done\n",
            "1\n",
            "Done\n",
            "1\n",
            "Done\n",
            "1\n",
            "Done\n",
            "1\n",
            "Done\n",
            "1\n",
            "Done\n",
            "1\n",
            "Done\n",
            "1\n",
            "Done\n",
            "1\n",
            "Done\n",
            "1\n",
            "Done\n",
            "1\n",
            "Done\n",
            "1\n",
            "Done\n",
            "1\n",
            "Done\n",
            "1\n",
            "Done\n",
            "1\n",
            "Done\n",
            "1\n",
            "Done\n",
            "1\n",
            "Done\n",
            "1\n",
            "Done\n",
            "1\n",
            "Done\n",
            "1\n",
            "Done\n",
            "1\n",
            "Done\n",
            "1\n",
            "Done\n",
            "1\n",
            "Done\n",
            "1\n",
            "Done\n",
            "1\n",
            "Done\n",
            "1\n",
            "Done\n",
            "1\n",
            "Done\n",
            "1\n",
            "Done\n",
            "1\n",
            "Done\n",
            "1\n",
            "Done\n",
            "1\n",
            "Done\n",
            "1\n",
            "Done\n",
            "1\n",
            "Done\n",
            "1\n",
            "Done\n",
            "1\n",
            "Done\n",
            "1\n",
            "Done\n",
            "1\n",
            "Done\n",
            "1\n",
            "Done\n",
            "1\n",
            "Done\n",
            "1\n",
            "Done\n",
            "1\n",
            "Done\n",
            "1\n",
            "Done\n",
            "1\n",
            "Done\n",
            "1\n",
            "Done\n",
            "1\n",
            "Done\n",
            "1\n",
            "Done\n",
            "1\n",
            "Done\n",
            "1\n",
            "Done\n",
            "1\n",
            "Done\n",
            "1\n",
            "Done\n",
            "1\n",
            "Done\n",
            "1\n",
            "Done\n",
            "1\n",
            "Done\n",
            "1\n",
            "Done\n",
            "1\n",
            "Done\n",
            "1\n",
            "Done\n",
            "1\n",
            "Done\n",
            "1\n",
            "Done\n",
            "1\n",
            "Done\n",
            "1\n",
            "Done\n",
            "1\n",
            "Done\n",
            "1\n",
            "Done\n",
            "1\n",
            "Done\n",
            "1\n",
            "Done\n",
            "1\n",
            "Done\n",
            "1\n",
            "Done\n",
            "1\n",
            "Done\n",
            "1\n",
            "Done\n",
            "1\n",
            "Done\n",
            "1\n",
            "Done\n",
            "1\n",
            "Done\n",
            "1\n",
            "Done\n",
            "1\n",
            "Done\n",
            "1\n",
            "Done\n",
            "1\n",
            "Done\n",
            "1\n",
            "Done\n",
            "1\n",
            "Done\n",
            "1\n",
            "Done\n",
            "1\n",
            "Done\n",
            "1\n",
            "Done\n",
            "1\n",
            "Done\n",
            "1\n",
            "Done\n",
            "1\n",
            "Done\n",
            "1\n",
            "Done\n",
            "1\n",
            "Done\n",
            "1\n",
            "Done\n",
            "1\n",
            "Done\n",
            "1\n",
            "Done\n",
            "1\n",
            "Done\n",
            "1\n",
            "Done\n",
            "1\n",
            "Done\n",
            "1\n",
            "Done\n",
            "1\n",
            "Done\n",
            "1\n",
            "Done\n",
            "1\n",
            "Done\n",
            "1\n",
            "Done\n",
            "1\n",
            "Done\n",
            "1\n",
            "Done\n",
            "1\n",
            "Done\n",
            "1\n",
            "Done\n",
            "1\n",
            "Done\n",
            "1\n",
            "Done\n",
            "1\n",
            "Done\n",
            "1\n",
            "Done\n",
            "1\n",
            "Done\n",
            "1\n",
            "Done\n",
            "1\n",
            "Done\n",
            "1\n",
            "Done\n",
            "1\n",
            "Done\n",
            "1\n",
            "Done\n",
            "1\n",
            "Done\n",
            "1\n",
            "Done\n",
            "1\n",
            "Done\n",
            "1\n",
            "Done\n",
            "1\n",
            "Done\n",
            "1\n",
            "Done\n",
            "1\n",
            "Done\n",
            "1\n",
            "Done\n",
            "1\n",
            "Done\n",
            "1\n",
            "Done\n",
            "1\n",
            "Done\n",
            "1\n",
            "Done\n",
            "1\n",
            "Done\n",
            "1\n",
            "Done\n",
            "1\n",
            "Done\n",
            "1\n",
            "Done\n",
            "1\n",
            "Done\n",
            "1\n",
            "Done\n",
            "1\n",
            "Done\n",
            "1\n",
            "Done\n",
            "1\n",
            "Done\n",
            "1\n",
            "Done\n",
            "1\n",
            "Done\n",
            "1\n",
            "Done\n",
            "1\n",
            "Done\n",
            "1\n",
            "Done\n",
            "1\n",
            "Done\n",
            "1\n",
            "Done\n",
            "1\n",
            "Done\n",
            "1\n",
            "Done\n",
            "1\n",
            "Done\n",
            "1\n",
            "Done\n",
            "1\n",
            "Done\n",
            "1\n",
            "Done\n",
            "1\n",
            "Done\n",
            "1\n",
            "Done\n",
            "1\n",
            "Done\n",
            "1\n",
            "Done\n",
            "1\n",
            "Done\n",
            "1\n",
            "Done\n",
            "1\n",
            "Done\n",
            "1\n",
            "Done\n",
            "1\n",
            "Done\n",
            "1\n",
            "Done\n",
            "1\n",
            "Done\n",
            "1\n",
            "Done\n",
            "1\n",
            "Done\n",
            "1\n",
            "Done\n",
            "1\n",
            "Done\n",
            "1\n",
            "Done\n",
            "1\n",
            "Done\n",
            "1\n",
            "Done\n",
            "1\n",
            "Done\n",
            "1\n",
            "Done\n",
            "1\n",
            "Done\n",
            "1\n",
            "Done\n",
            "1\n",
            "Done\n",
            "1\n",
            "Done\n",
            "1\n",
            "Done\n",
            "1\n",
            "Done\n",
            "1\n",
            "Done\n",
            "1\n",
            "Done\n",
            "1\n",
            "Done\n",
            "1\n",
            "Done\n",
            "1\n",
            "Done\n",
            "1\n",
            "Done\n",
            "1\n",
            "Done\n",
            "1\n",
            "Done\n",
            "1\n",
            "Done\n",
            "1\n",
            "Done\n",
            "1\n",
            "Done\n",
            "1\n",
            "Done\n",
            "1\n",
            "Done\n",
            "1\n",
            "Done\n",
            "1\n",
            "Done\n",
            "1\n",
            "Done\n",
            "1\n",
            "Done\n",
            "1\n",
            "Done\n",
            "1\n",
            "Done\n",
            "1\n",
            "Done\n",
            "1\n",
            "Done\n",
            "1\n",
            "Done\n",
            "1\n",
            "Done\n",
            "1\n",
            "Done\n",
            "1\n",
            "Done\n",
            "1\n",
            "Done\n",
            "1\n",
            "Done\n",
            "1\n",
            "Done\n",
            "1\n",
            "Done\n",
            "1\n",
            "Done\n",
            "1\n",
            "Done\n",
            "1\n",
            "Done\n",
            "1\n",
            "Done\n",
            "1\n",
            "Done\n",
            "1\n",
            "Done\n",
            "1\n",
            "Done\n",
            "1\n",
            "Done\n",
            "1\n",
            "Done\n",
            "1\n",
            "Done\n",
            "1\n",
            "Done\n",
            "1\n",
            "Done\n",
            "1\n",
            "Done\n",
            "1\n",
            "Done\n",
            "1\n",
            "Done\n",
            "1\n",
            "Done\n",
            "1\n",
            "Done\n",
            "1\n",
            "Done\n",
            "1\n",
            "Done\n",
            "1\n",
            "Done\n",
            "1\n",
            "Done\n",
            "1\n",
            "Done\n",
            "1\n",
            "Done\n",
            "1\n",
            "Done\n",
            "1\n",
            "Done\n",
            "1\n",
            "Done\n",
            "1\n",
            "Done\n",
            "1\n",
            "Done\n",
            "1\n",
            "Done\n",
            "1\n",
            "Done\n",
            "1\n",
            "Done\n",
            "1\n",
            "Done\n",
            "1\n",
            "Done\n",
            "1\n",
            "Done\n",
            "1\n",
            "Done\n",
            "1\n",
            "Done\n",
            "1\n",
            "Done\n",
            "1\n",
            "Done\n",
            "1\n",
            "Done\n",
            "1\n",
            "Done\n",
            "1\n",
            "Done\n",
            "1\n",
            "Done\n",
            "1\n",
            "Done\n",
            "1\n",
            "Done\n",
            "1\n",
            "Done\n",
            "1\n",
            "Done\n",
            "1\n",
            "Done\n",
            "1\n",
            "Done\n",
            "1\n",
            "Done\n",
            "1\n",
            "Done\n",
            "1\n",
            "Done\n",
            "1\n",
            "Done\n",
            "1\n",
            "Done\n",
            "1\n",
            "Done\n",
            "1\n",
            "Done\n",
            "1\n",
            "Done\n",
            "1\n",
            "Done\n",
            "1\n",
            "Done\n",
            "1\n",
            "Done\n",
            "1\n",
            "Done\n",
            "1\n",
            "Done\n",
            "1\n",
            "Done\n",
            "1\n",
            "Done\n",
            "1\n",
            "Done\n",
            "1\n",
            "Done\n",
            "1\n",
            "Done\n",
            "1\n",
            "Done\n",
            "1\n",
            "Done\n",
            "1\n",
            "Done\n",
            "1\n",
            "Done\n",
            "1\n",
            "Done\n",
            "1\n",
            "Done\n",
            "1\n",
            "Done\n",
            "1\n",
            "Done\n",
            "1\n",
            "Done\n",
            "1\n",
            "Done\n",
            "1\n",
            "Done\n",
            "1\n",
            "Done\n",
            "1\n",
            "Done\n",
            "1\n",
            "Done\n",
            "1\n",
            "Done\n",
            "1\n",
            "Done\n",
            "1\n",
            "Done\n",
            "1\n",
            "Done\n",
            "1\n",
            "Done\n",
            "1\n",
            "Done\n",
            "1\n",
            "Done\n",
            "1\n",
            "Done\n",
            "1\n",
            "Done\n",
            "1\n",
            "Done\n",
            "1\n",
            "Done\n",
            "1\n",
            "Done\n",
            "1\n",
            "Done\n",
            "1\n",
            "Done\n",
            "1\n",
            "Done\n",
            "1\n",
            "Done\n",
            "1\n",
            "Done\n",
            "1\n",
            "Done\n",
            "1\n",
            "Done\n",
            "1\n",
            "Done\n",
            "1\n",
            "Done\n",
            "1\n",
            "Done\n",
            "1\n",
            "Done\n",
            "1\n",
            "Done\n",
            "1\n",
            "Done\n",
            "1\n",
            "Done\n",
            "1\n",
            "Done\n",
            "1\n",
            "Done\n",
            "1\n",
            "Done\n",
            "1\n",
            "Done\n",
            "1\n",
            "Done\n",
            "1\n",
            "Done\n",
            "1\n",
            "Done\n",
            "1\n",
            "Done\n",
            "1\n",
            "Done\n",
            "1\n",
            "Done\n",
            "1\n",
            "Done\n",
            "1\n",
            "Done\n",
            "1\n",
            "Done\n",
            "1\n",
            "Done\n",
            "1\n",
            "Done\n",
            "1\n",
            "Done\n",
            "1\n",
            "Done\n",
            "1\n",
            "Done\n",
            "1\n",
            "Done\n",
            "1\n",
            "Done\n",
            "1\n",
            "Done\n",
            "1\n",
            "Done\n",
            "1\n",
            "Done\n",
            "1\n",
            "Done\n",
            "1\n",
            "Done\n",
            "1\n",
            "Done\n",
            "1\n",
            "Done\n",
            "1\n",
            "Done\n",
            "1\n",
            "Done\n",
            "1\n",
            "Done\n",
            "1\n",
            "Done\n",
            "1\n",
            "Done\n",
            "1\n",
            "Done\n",
            "1\n",
            "Done\n",
            "1\n",
            "Done\n",
            "1\n",
            "Done\n",
            "1\n",
            "Done\n",
            "1\n",
            "Done\n",
            "1\n",
            "Done\n",
            "1\n",
            "Done\n",
            "1\n",
            "Done\n",
            "1\n",
            "Done\n",
            "1\n",
            "Done\n",
            "1\n",
            "Done\n",
            "1\n",
            "Done\n",
            "1\n",
            "Done\n",
            "1\n",
            "Done\n",
            "1\n",
            "Done\n",
            "1\n",
            "Done\n",
            "1\n",
            "Done\n",
            "1\n",
            "Done\n",
            "1\n",
            "Done\n",
            "1\n",
            "Done\n",
            "1\n",
            "Done\n",
            "1\n",
            "Done\n",
            "1\n",
            "Done\n",
            "1\n",
            "Done\n",
            "1\n",
            "Done\n",
            "1\n",
            "Done\n",
            "1\n",
            "Done\n",
            "1\n",
            "Done\n",
            "1\n",
            "Done\n",
            "1\n",
            "Done\n",
            "1\n",
            "Done\n",
            "1\n",
            "Done\n",
            "1\n",
            "Done\n",
            "1\n",
            "Done\n",
            "1\n",
            "Done\n",
            "1\n",
            "Done\n",
            "1\n",
            "Done\n",
            "1\n",
            "Done\n",
            "1\n",
            "Done\n",
            "1\n",
            "Done\n",
            "1\n",
            "Done\n",
            "1\n",
            "Done\n",
            "1\n",
            "Done\n",
            "1\n",
            "Done\n",
            "1\n",
            "Done\n",
            "1\n",
            "Done\n",
            "1\n",
            "Done\n",
            "1\n",
            "Done\n",
            "1\n",
            "Done\n",
            "1\n",
            "Done\n",
            "1\n",
            "Done\n",
            "1\n",
            "Done\n",
            "1\n",
            "Done\n",
            "1\n",
            "Done\n",
            "1\n",
            "Done\n",
            "1\n",
            "Done\n",
            "1\n",
            "Done\n",
            "1\n",
            "Done\n",
            "1\n",
            "Done\n",
            "1\n",
            "Done\n",
            "1\n",
            "Done\n",
            "1\n",
            "Done\n",
            "1\n",
            "Done\n",
            "1\n",
            "Done\n",
            "1\n",
            "Done\n",
            "1\n",
            "Done\n",
            "1\n",
            "Done\n",
            "1\n",
            "Done\n",
            "1\n",
            "Done\n",
            "1\n",
            "Done\n",
            "1\n",
            "Done\n",
            "1\n",
            "Done\n",
            "1\n",
            "Done\n",
            "1\n",
            "Done\n",
            "1\n",
            "Done\n",
            "1\n",
            "Done\n",
            "1\n",
            "Done\n",
            "1\n",
            "Done\n",
            "1\n",
            "Done\n",
            "1\n",
            "Done\n",
            "1\n",
            "Done\n",
            "1\n",
            "Done\n",
            "1\n",
            "Done\n",
            "1\n",
            "Done\n",
            "1\n",
            "Done\n",
            "1\n",
            "Done\n",
            "1\n",
            "Done\n",
            "1\n",
            "Done\n",
            "1\n",
            "Done\n",
            "1\n",
            "Done\n",
            "1\n",
            "Done\n",
            "1\n",
            "Done\n",
            "1\n",
            "Done\n",
            "1\n",
            "Done\n",
            "1\n",
            "Done\n",
            "1\n",
            "Done\n",
            "1\n",
            "Done\n",
            "1\n",
            "Done\n",
            "1\n",
            "Done\n",
            "1\n",
            "Done\n",
            "1\n",
            "Done\n",
            "1\n",
            "Done\n",
            "1\n",
            "Done\n",
            "1\n",
            "Done\n",
            "1\n",
            "Done\n",
            "1\n",
            "Done\n",
            "1\n",
            "Done\n",
            "1\n",
            "Done\n",
            "1\n",
            "Done\n",
            "1\n",
            "Done\n",
            "1\n",
            "Done\n",
            "1\n",
            "Done\n",
            "1\n",
            "Done\n",
            "1\n",
            "Done\n",
            "1\n",
            "Done\n",
            "1\n",
            "Done\n",
            "1\n",
            "Done\n",
            "1\n",
            "Done\n",
            "1\n",
            "Done\n",
            "1\n",
            "Done\n",
            "1\n",
            "Done\n",
            "1\n",
            "Done\n",
            "1\n",
            "Done\n",
            "1\n",
            "Done\n",
            "1\n",
            "Done\n",
            "1\n",
            "Done\n",
            "1\n",
            "Done\n",
            "1\n",
            "Done\n",
            "1\n",
            "Done\n",
            "1\n",
            "Done\n",
            "1\n",
            "Done\n",
            "1\n",
            "Done\n",
            "1\n",
            "Done\n",
            "1\n",
            "Done\n",
            "1\n",
            "Done\n",
            "1\n",
            "Done\n",
            "1\n",
            "Done\n",
            "1\n",
            "Done\n",
            "1\n",
            "Done\n",
            "1\n",
            "Done\n",
            "1\n",
            "Done\n",
            "1\n",
            "Done\n",
            "1\n",
            "Done\n",
            "1\n",
            "Done\n",
            "1\n",
            "Done\n",
            "1\n",
            "Done\n",
            "1\n",
            "Done\n",
            "1\n",
            "Done\n",
            "1\n",
            "Done\n",
            "1\n",
            "Done\n",
            "1\n",
            "Done\n",
            "1\n",
            "Done\n",
            "1\n",
            "Done\n",
            "1\n",
            "Done\n",
            "1\n",
            "Done\n",
            "1\n",
            "Done\n",
            "1\n",
            "Done\n",
            "1\n",
            "Done\n",
            "1\n",
            "Done\n",
            "1\n",
            "Done\n",
            "1\n",
            "Done\n",
            "1\n",
            "Done\n",
            "1\n",
            "Done\n",
            "1\n",
            "Done\n",
            "1\n",
            "Done\n",
            "1\n",
            "Done\n",
            "1\n",
            "Done\n",
            "1\n",
            "Done\n",
            "1\n",
            "Done\n",
            "1\n",
            "Done\n",
            "1\n",
            "Done\n",
            "1\n",
            "Done\n",
            "1\n",
            "Done\n",
            "1\n",
            "Done\n",
            "1\n",
            "Done\n",
            "1\n",
            "Done\n",
            "1\n",
            "Done\n",
            "1\n",
            "Done\n",
            "1\n",
            "Done\n",
            "1\n",
            "Done\n",
            "1\n",
            "Done\n",
            "1\n",
            "Done\n",
            "1\n",
            "Done\n",
            "1\n",
            "Done\n",
            "1\n",
            "Done\n",
            "1\n",
            "Done\n",
            "1\n",
            "Done\n",
            "1\n",
            "Done\n",
            "1\n",
            "Done\n",
            "1\n",
            "Done\n",
            "1\n",
            "Done\n",
            "1\n",
            "Done\n",
            "1\n",
            "Done\n",
            "1\n",
            "Done\n",
            "1\n",
            "Done\n",
            "1\n",
            "Done\n",
            "1\n",
            "Done\n",
            "1\n",
            "Done\n",
            "1\n",
            "Done\n",
            "1\n",
            "Done\n",
            "1\n",
            "Done\n",
            "1\n",
            "Done\n",
            "1\n",
            "Done\n",
            "1\n",
            "Done\n",
            "1\n",
            "Done\n",
            "1\n",
            "Done\n",
            "1\n",
            "Done\n",
            "1\n",
            "Done\n",
            "1\n",
            "Done\n",
            "1\n",
            "Done\n",
            "1\n",
            "Done\n",
            "1\n",
            "Done\n",
            "1\n",
            "Done\n",
            "1\n",
            "Done\n",
            "1\n",
            "Done\n",
            "1\n",
            "Done\n",
            "1\n",
            "Done\n",
            "1\n",
            "Done\n",
            "1\n",
            "Done\n",
            "1\n",
            "Done\n",
            "1\n",
            "Done\n",
            "1\n",
            "Done\n",
            "1\n",
            "Done\n",
            "1\n",
            "Done\n",
            "1\n",
            "Done\n",
            "1\n",
            "Done\n",
            "1\n",
            "Done\n",
            "1\n",
            "Done\n",
            "1\n",
            "Done\n",
            "1\n",
            "Done\n",
            "1\n",
            "Done\n",
            "1\n",
            "Done\n",
            "1\n",
            "Done\n",
            "1\n",
            "Done\n",
            "1\n",
            "Done\n",
            "1\n",
            "Done\n",
            "1\n",
            "Done\n",
            "1\n",
            "Done\n",
            "1\n",
            "Done\n",
            "1\n",
            "Done\n",
            "1\n",
            "Done\n",
            "1\n",
            "Done\n",
            "1\n",
            "Done\n",
            "1\n",
            "Done\n",
            "1\n",
            "Done\n",
            "1\n",
            "Done\n",
            "1\n",
            "Done\n",
            "1\n",
            "Done\n",
            "1\n",
            "Done\n",
            "1\n",
            "Done\n",
            "1\n",
            "Done\n",
            "1\n",
            "Done\n",
            "1\n",
            "Done\n",
            "1\n",
            "Done\n",
            "1\n",
            "Done\n",
            "1\n",
            "Done\n",
            "1\n",
            "Done\n",
            "1\n",
            "Done\n",
            "1\n",
            "Done\n",
            "1\n",
            "Done\n",
            "1\n",
            "Done\n",
            "1\n",
            "Done\n",
            "1\n",
            "Done\n",
            "1\n",
            "Done\n",
            "1\n",
            "Done\n",
            "1\n",
            "Done\n",
            "1\n",
            "Done\n",
            "1\n",
            "Done\n",
            "1\n",
            "Done\n",
            "1\n",
            "Done\n",
            "1\n",
            "Done\n",
            "1\n",
            "Done\n",
            "1\n",
            "Done\n",
            "1\n",
            "Done\n",
            "1\n",
            "Done\n",
            "1\n",
            "Done\n",
            "1\n",
            "Done\n",
            "1\n",
            "Done\n",
            "1\n",
            "Done\n",
            "1\n",
            "Done\n",
            "1\n",
            "Done\n",
            "1\n",
            "Done\n",
            "1\n",
            "Done\n",
            "1\n",
            "Done\n",
            "1\n",
            "Done\n",
            "1\n",
            "Done\n",
            "1\n",
            "Done\n",
            "1\n",
            "Done\n",
            "1\n",
            "Done\n",
            "1\n",
            "Done\n",
            "1\n",
            "Done\n",
            "1\n",
            "Done\n",
            "1\n",
            "Done\n",
            "1\n",
            "Done\n",
            "1\n",
            "Done\n",
            "1\n",
            "Done\n",
            "1\n",
            "Done\n",
            "1\n",
            "Done\n",
            "1\n",
            "Done\n",
            "1\n",
            "Done\n",
            "1\n",
            "Done\n",
            "1\n",
            "Done\n",
            "1\n",
            "Done\n",
            "1\n",
            "Done\n",
            "1\n",
            "Done\n",
            "1\n",
            "Done\n",
            "1\n",
            "Done\n",
            "1\n",
            "Done\n",
            "1\n",
            "Done\n",
            "1\n",
            "Done\n",
            "1\n",
            "Done\n",
            "1\n",
            "Done\n",
            "1\n",
            "Done\n",
            "1\n",
            "Done\n",
            "1\n",
            "Done\n",
            "1\n",
            "Done\n",
            "1\n",
            "Done\n",
            "1\n",
            "Done\n",
            "1\n",
            "Done\n",
            "1\n",
            "Done\n",
            "1\n",
            "Done\n",
            "1\n",
            "Done\n",
            "1\n",
            "Done\n",
            "1\n",
            "Done\n",
            "1\n",
            "Done\n",
            "1\n",
            "Done\n",
            "1\n",
            "Done\n",
            "1\n",
            "Done\n",
            "1\n",
            "Done\n",
            "1\n",
            "Done\n",
            "1\n",
            "Done\n",
            "1\n",
            "Done\n",
            "1\n",
            "Done\n",
            "1\n",
            "Done\n",
            "1\n",
            "Done\n",
            "1\n",
            "Done\n",
            "1\n",
            "Done\n",
            "1\n",
            "Done\n",
            "1\n",
            "Done\n",
            "1\n",
            "Done\n",
            "1"
          ]
        },
        {
          "output_type": "error",
          "ename": "KeyboardInterrupt",
          "evalue": "ignored",
          "traceback": [
            "\u001b[0;31m---------------------------------------------------------------------------\u001b[0m",
            "\u001b[0;31mKeyboardInterrupt\u001b[0m                         Traceback (most recent call last)",
            "\u001b[0;32m<ipython-input-230-8df84b7cfc60>\u001b[0m in \u001b[0;36m<module>\u001b[0;34m()\u001b[0m\n\u001b[1;32m      1\u001b[0m \u001b[0mi\u001b[0m \u001b[0;34m=\u001b[0m \u001b[0;36m1\u001b[0m\u001b[0;34m\u001b[0m\u001b[0;34m\u001b[0m\u001b[0m\n\u001b[1;32m      2\u001b[0m \u001b[0;32mwhile\u001b[0m \u001b[0mi\u001b[0m \u001b[0;34m<=\u001b[0m \u001b[0;36m5\u001b[0m\u001b[0;34m:\u001b[0m\u001b[0;34m\u001b[0m\u001b[0;34m\u001b[0m\u001b[0m\n\u001b[0;32m----> 3\u001b[0;31m   \u001b[0mprint\u001b[0m\u001b[0;34m(\u001b[0m\u001b[0mi\u001b[0m\u001b[0;34m)\u001b[0m\u001b[0;34m\u001b[0m\u001b[0;34m\u001b[0m\u001b[0m\n\u001b[0m\u001b[1;32m      4\u001b[0m   \u001b[0mprint\u001b[0m\u001b[0;34m(\u001b[0m\u001b[0;34m\"Done\"\u001b[0m\u001b[0;34m)\u001b[0m\u001b[0;34m\u001b[0m\u001b[0;34m\u001b[0m\u001b[0m\n",
            "\u001b[0;32m/usr/local/lib/python3.7/dist-packages/ipykernel/iostream.py\u001b[0m in \u001b[0;36mwrite\u001b[0;34m(self, string)\u001b[0m\n\u001b[1;32m    398\u001b[0m             \u001b[0mis_child\u001b[0m \u001b[0;34m=\u001b[0m \u001b[0;34m(\u001b[0m\u001b[0;32mnot\u001b[0m \u001b[0mself\u001b[0m\u001b[0;34m.\u001b[0m\u001b[0m_is_master_process\u001b[0m\u001b[0;34m(\u001b[0m\u001b[0;34m)\u001b[0m\u001b[0;34m)\u001b[0m\u001b[0;34m\u001b[0m\u001b[0;34m\u001b[0m\u001b[0m\n\u001b[1;32m    399\u001b[0m             \u001b[0;31m# only touch the buffer in the IO thread to avoid races\u001b[0m\u001b[0;34m\u001b[0m\u001b[0;34m\u001b[0m\u001b[0;34m\u001b[0m\u001b[0m\n\u001b[0;32m--> 400\u001b[0;31m             \u001b[0mself\u001b[0m\u001b[0;34m.\u001b[0m\u001b[0mpub_thread\u001b[0m\u001b[0;34m.\u001b[0m\u001b[0mschedule\u001b[0m\u001b[0;34m(\u001b[0m\u001b[0;32mlambda\u001b[0m \u001b[0;34m:\u001b[0m \u001b[0mself\u001b[0m\u001b[0;34m.\u001b[0m\u001b[0m_buffer\u001b[0m\u001b[0;34m.\u001b[0m\u001b[0mwrite\u001b[0m\u001b[0;34m(\u001b[0m\u001b[0mstring\u001b[0m\u001b[0;34m)\u001b[0m\u001b[0;34m)\u001b[0m\u001b[0;34m\u001b[0m\u001b[0;34m\u001b[0m\u001b[0m\n\u001b[0m\u001b[1;32m    401\u001b[0m             \u001b[0;32mif\u001b[0m \u001b[0mis_child\u001b[0m\u001b[0;34m:\u001b[0m\u001b[0;34m\u001b[0m\u001b[0;34m\u001b[0m\u001b[0m\n\u001b[1;32m    402\u001b[0m                 \u001b[0;31m# newlines imply flush in subprocesses\u001b[0m\u001b[0;34m\u001b[0m\u001b[0;34m\u001b[0m\u001b[0;34m\u001b[0m\u001b[0m\n",
            "\u001b[0;32m/usr/local/lib/python3.7/dist-packages/ipykernel/iostream.py\u001b[0m in \u001b[0;36mschedule\u001b[0;34m(self, f)\u001b[0m\n\u001b[1;32m    201\u001b[0m             \u001b[0mself\u001b[0m\u001b[0;34m.\u001b[0m\u001b[0m_events\u001b[0m\u001b[0;34m.\u001b[0m\u001b[0mappend\u001b[0m\u001b[0;34m(\u001b[0m\u001b[0mf\u001b[0m\u001b[0;34m)\u001b[0m\u001b[0;34m\u001b[0m\u001b[0;34m\u001b[0m\u001b[0m\n\u001b[1;32m    202\u001b[0m             \u001b[0;31m# wake event thread (message content is ignored)\u001b[0m\u001b[0;34m\u001b[0m\u001b[0;34m\u001b[0m\u001b[0;34m\u001b[0m\u001b[0m\n\u001b[0;32m--> 203\u001b[0;31m             \u001b[0mself\u001b[0m\u001b[0;34m.\u001b[0m\u001b[0m_event_pipe\u001b[0m\u001b[0;34m.\u001b[0m\u001b[0msend\u001b[0m\u001b[0;34m(\u001b[0m\u001b[0;34mb''\u001b[0m\u001b[0;34m)\u001b[0m\u001b[0;34m\u001b[0m\u001b[0;34m\u001b[0m\u001b[0m\n\u001b[0m\u001b[1;32m    204\u001b[0m         \u001b[0;32melse\u001b[0m\u001b[0;34m:\u001b[0m\u001b[0;34m\u001b[0m\u001b[0;34m\u001b[0m\u001b[0m\n\u001b[1;32m    205\u001b[0m             \u001b[0mf\u001b[0m\u001b[0;34m(\u001b[0m\u001b[0;34m)\u001b[0m\u001b[0;34m\u001b[0m\u001b[0;34m\u001b[0m\u001b[0m\n",
            "\u001b[0;32m/usr/local/lib/python3.7/dist-packages/zmq/sugar/socket.py\u001b[0m in \u001b[0;36msend\u001b[0;34m(self, data, flags, copy, track, routing_id, group)\u001b[0m\n\u001b[1;32m    545\u001b[0m                 )\n\u001b[1;32m    546\u001b[0m             \u001b[0mdata\u001b[0m\u001b[0;34m.\u001b[0m\u001b[0mgroup\u001b[0m \u001b[0;34m=\u001b[0m \u001b[0mgroup\u001b[0m\u001b[0;34m\u001b[0m\u001b[0;34m\u001b[0m\u001b[0m\n\u001b[0;32m--> 547\u001b[0;31m         \u001b[0;32mreturn\u001b[0m \u001b[0msuper\u001b[0m\u001b[0;34m(\u001b[0m\u001b[0mSocket\u001b[0m\u001b[0;34m,\u001b[0m \u001b[0mself\u001b[0m\u001b[0;34m)\u001b[0m\u001b[0;34m.\u001b[0m\u001b[0msend\u001b[0m\u001b[0;34m(\u001b[0m\u001b[0mdata\u001b[0m\u001b[0;34m,\u001b[0m \u001b[0mflags\u001b[0m\u001b[0;34m=\u001b[0m\u001b[0mflags\u001b[0m\u001b[0;34m,\u001b[0m \u001b[0mcopy\u001b[0m\u001b[0;34m=\u001b[0m\u001b[0mcopy\u001b[0m\u001b[0;34m,\u001b[0m \u001b[0mtrack\u001b[0m\u001b[0;34m=\u001b[0m\u001b[0mtrack\u001b[0m\u001b[0;34m)\u001b[0m\u001b[0;34m\u001b[0m\u001b[0;34m\u001b[0m\u001b[0m\n\u001b[0m\u001b[1;32m    548\u001b[0m \u001b[0;34m\u001b[0m\u001b[0m\n\u001b[1;32m    549\u001b[0m     \u001b[0;32mdef\u001b[0m \u001b[0msend_multipart\u001b[0m\u001b[0;34m(\u001b[0m\u001b[0mself\u001b[0m\u001b[0;34m,\u001b[0m \u001b[0mmsg_parts\u001b[0m\u001b[0;34m,\u001b[0m \u001b[0mflags\u001b[0m\u001b[0;34m=\u001b[0m\u001b[0;36m0\u001b[0m\u001b[0;34m,\u001b[0m \u001b[0mcopy\u001b[0m\u001b[0;34m=\u001b[0m\u001b[0;32mTrue\u001b[0m\u001b[0;34m,\u001b[0m \u001b[0mtrack\u001b[0m\u001b[0;34m=\u001b[0m\u001b[0;32mFalse\u001b[0m\u001b[0;34m,\u001b[0m \u001b[0;34m**\u001b[0m\u001b[0mkwargs\u001b[0m\u001b[0;34m)\u001b[0m\u001b[0;34m:\u001b[0m\u001b[0;34m\u001b[0m\u001b[0;34m\u001b[0m\u001b[0m\n",
            "\u001b[0;32mzmq/backend/cython/socket.pyx\u001b[0m in \u001b[0;36mzmq.backend.cython.socket.Socket.send\u001b[0;34m()\u001b[0m\n",
            "\u001b[0;32mzmq/backend/cython/socket.pyx\u001b[0m in \u001b[0;36mzmq.backend.cython.socket.Socket.send\u001b[0;34m()\u001b[0m\n",
            "\u001b[0;32mzmq/backend/cython/socket.pyx\u001b[0m in \u001b[0;36mzmq.backend.cython.socket._send_copy\u001b[0;34m()\u001b[0m\n",
            "\u001b[0;32m/usr/local/lib/python3.7/dist-packages/zmq/backend/cython/checkrc.pxd\u001b[0m in \u001b[0;36mzmq.backend.cython.checkrc._check_rc\u001b[0;34m()\u001b[0m\n",
            "\u001b[0;31mKeyboardInterrupt\u001b[0m: "
          ]
        }
      ]
    },
    {
      "cell_type": "code",
      "metadata": {
        "colab": {
          "base_uri": "https://localhost:8080/"
        },
        "id": "SBpon9WmfC-C",
        "outputId": "a029e7f4-387d-4386-8c2b-c9513210537e"
      },
      "source": [
        "i = 1 \n",
        "while i <= 5:\n",
        "  print(i)\n",
        "  i = i + 1\n",
        "print(\"Done\")"
      ],
      "execution_count": 232,
      "outputs": [
        {
          "output_type": "stream",
          "name": "stdout",
          "text": [
            "1\n",
            "2\n",
            "3\n",
            "4\n",
            "5\n",
            "Done\n"
          ]
        }
      ]
    },
    {
      "cell_type": "code",
      "metadata": {
        "colab": {
          "base_uri": "https://localhost:8080/"
        },
        "id": "TSzofHjWfnzd",
        "outputId": "9375ec6d-4c73-4ff2-f9bc-14fa64f83c44"
      },
      "source": [
        "i = 1 \n",
        "while i <= 5:\n",
        "  print(i)\n",
        "  i += 1\n",
        "print(\"Done\")"
      ],
      "execution_count": 233,
      "outputs": [
        {
          "output_type": "stream",
          "name": "stdout",
          "text": [
            "1\n",
            "2\n",
            "3\n",
            "4\n",
            "5\n",
            "Done\n"
          ]
        }
      ]
    },
    {
      "cell_type": "code",
      "metadata": {
        "colab": {
          "base_uri": "https://localhost:8080/"
        },
        "id": "qNijeFDDf3F0",
        "outputId": "76be068c-ba5d-48d4-d84d-fcaee6eeb77b"
      },
      "source": [
        "help1 = input(\">\")\n",
        "\n",
        "while help1 == \"help\":\n",
        "  print(\"start : To start the car\")\n",
        "  print(\"stop : To stop the car\")"
      ],
      "execution_count": 235,
      "outputs": [
        {
          "name": "stdout",
          "output_type": "stream",
          "text": [
            ">Help\n"
          ]
        }
      ]
    },
    {
      "cell_type": "code",
      "metadata": {
        "colab": {
          "base_uri": "https://localhost:8080/"
        },
        "id": "OaK-2592g2qh",
        "outputId": "c0808d08-b40e-4f33-bc48-6a1af5616ef8"
      },
      "source": [
        "help1 = input(\">\")\n",
        "\n",
        "while help1 == \"help\":\n",
        "  print(\"Start : To start the car\")\n",
        "  print(\"Stop : To stop the car\")\n",
        "  break\n",
        "\n",
        "else:\n",
        "  print(\"Invalid Input, please try again\")"
      ],
      "execution_count": 239,
      "outputs": [
        {
          "output_type": "stream",
          "name": "stdout",
          "text": [
            ">help\n",
            "Start : To start the car\n",
            "Stop : To stop the car\n"
          ]
        }
      ]
    },
    {
      "cell_type": "code",
      "metadata": {
        "colab": {
          "base_uri": "https://localhost:8080/"
        },
        "id": "coIbLkd9hSIH",
        "outputId": "10e0cd18-4236-4e1c-b2d8-10aa60bfdd9b"
      },
      "source": [
        "help1 = input(\">\")\n",
        "\n",
        "while help1.lower() == \"help\":\n",
        "  print(\"Start : To start the car\")\n",
        "  print(\"Stop : To stop the car\")\n",
        "  break\n",
        "\n",
        "else:\n",
        "  print(\"Invalid Input, please try again\")"
      ],
      "execution_count": 242,
      "outputs": [
        {
          "output_type": "stream",
          "name": "stdout",
          "text": [
            ">HELP\n",
            "Start : To start the car\n",
            "Stop : To stop the car\n"
          ]
        }
      ]
    },
    {
      "cell_type": "code",
      "metadata": {
        "colab": {
          "base_uri": "https://localhost:8080/"
        },
        "id": "Ls_gyihSizjf",
        "outputId": "b2a7665c-67eb-4282-f054-0d7240c70871"
      },
      "source": [
        "help1 = input(\">\")\n",
        "\n",
        "while help1.lower() == \"help\":\n",
        "  print(\"Start : To start the car\")\n",
        "  print(\"Stop : To stop the car\")\n",
        "  var = input(\":\")\n",
        "  if var.lower() == \"start\":\n",
        "    print(\"Car started\")\n",
        "    break\n",
        "\n",
        "else:\n",
        "  print(\"Invalid Input, please try again\")"
      ],
      "execution_count": 249,
      "outputs": [
        {
          "output_type": "stream",
          "name": "stdout",
          "text": [
            ">help\n",
            "Start : To start the car\n",
            "Stop : To stop the car\n",
            ":stat\n",
            "Start : To start the car\n",
            "Stop : To stop the car\n",
            ":start\n",
            "Car started\n"
          ]
        }
      ]
    },
    {
      "cell_type": "code",
      "metadata": {
        "colab": {
          "base_uri": "https://localhost:8080/"
        },
        "id": "FsVpmLIyjlkm",
        "outputId": "39a2ef1f-338a-4aec-b5ae-70a13f1878a8"
      },
      "source": [
        "help1 = input(\">\")\n",
        "\n",
        "while help1.lower() == \"help\":\n",
        "  print(\"Start : To start the car\")\n",
        "  print(\"Stop : To stop the car\")\n",
        "  var = input(\":\")\n",
        "  if var.lower() == \"start\":\n",
        "    print(\"Car started\")\n",
        "    break\n",
        "\n",
        "  else:\n",
        "    print(\"Invalid Input, try again\")\n",
        "\n",
        "else:\n",
        "  print(\"Invalid Input, please try again\")"
      ],
      "execution_count": 251,
      "outputs": [
        {
          "output_type": "stream",
          "name": "stdout",
          "text": [
            ">halp\n",
            "Invalid Input, please try again\n"
          ]
        }
      ]
    },
    {
      "cell_type": "markdown",
      "metadata": {
        "id": "vSc3AWFjlbHl"
      },
      "source": [
        "Guess the number"
      ]
    },
    {
      "cell_type": "code",
      "metadata": {
        "colab": {
          "base_uri": "https://localhost:8080/",
          "height": 740
        },
        "id": "JPVd4QBdk1Ui",
        "outputId": "9759e44d-03b7-481e-8cf7-acebffd0a3e1"
      },
      "source": [
        "correct = 9\n",
        "attempts = 0\n",
        "\n",
        "while attempts < 3:\n",
        "  guess = int(input(\"Enter the passcode :\"))\n",
        "  if guess == correct:\n",
        "    print(\"Access Granted\")\n",
        "  \n",
        "  else:\n",
        "    print(\"Incorrect password, try again\")"
      ],
      "execution_count": 252,
      "outputs": [
        {
          "output_type": "stream",
          "name": "stdout",
          "text": [
            "Enter the passcode :7\n",
            "Incorrect password, try again\n",
            "Enter the passcode :3\n",
            "Incorrect password, try again\n",
            "Enter the passcode :6\n",
            "Incorrect password, try again\n",
            "Enter the passcode :1\n",
            "Incorrect password, try again\n",
            "Enter the passcode :9\n",
            "Access Granted\n"
          ]
        },
        {
          "output_type": "error",
          "ename": "KeyboardInterrupt",
          "evalue": "ignored",
          "traceback": [
            "\u001b[0;31m---------------------------------------------------------------------------\u001b[0m",
            "\u001b[0;31mKeyboardInterrupt\u001b[0m                         Traceback (most recent call last)",
            "\u001b[0;32m/usr/local/lib/python3.7/dist-packages/ipykernel/kernelbase.py\u001b[0m in \u001b[0;36m_input_request\u001b[0;34m(self, prompt, ident, parent, password)\u001b[0m\n\u001b[1;32m    728\u001b[0m             \u001b[0;32mtry\u001b[0m\u001b[0;34m:\u001b[0m\u001b[0;34m\u001b[0m\u001b[0;34m\u001b[0m\u001b[0m\n\u001b[0;32m--> 729\u001b[0;31m                 \u001b[0mident\u001b[0m\u001b[0;34m,\u001b[0m \u001b[0mreply\u001b[0m \u001b[0;34m=\u001b[0m \u001b[0mself\u001b[0m\u001b[0;34m.\u001b[0m\u001b[0msession\u001b[0m\u001b[0;34m.\u001b[0m\u001b[0mrecv\u001b[0m\u001b[0;34m(\u001b[0m\u001b[0mself\u001b[0m\u001b[0;34m.\u001b[0m\u001b[0mstdin_socket\u001b[0m\u001b[0;34m,\u001b[0m \u001b[0;36m0\u001b[0m\u001b[0;34m)\u001b[0m\u001b[0;34m\u001b[0m\u001b[0;34m\u001b[0m\u001b[0m\n\u001b[0m\u001b[1;32m    730\u001b[0m             \u001b[0;32mexcept\u001b[0m \u001b[0mException\u001b[0m\u001b[0;34m:\u001b[0m\u001b[0;34m\u001b[0m\u001b[0;34m\u001b[0m\u001b[0m\n",
            "\u001b[0;32m/usr/local/lib/python3.7/dist-packages/jupyter_client/session.py\u001b[0m in \u001b[0;36mrecv\u001b[0;34m(self, socket, mode, content, copy)\u001b[0m\n\u001b[1;32m    802\u001b[0m         \u001b[0;32mtry\u001b[0m\u001b[0;34m:\u001b[0m\u001b[0;34m\u001b[0m\u001b[0;34m\u001b[0m\u001b[0m\n\u001b[0;32m--> 803\u001b[0;31m             \u001b[0mmsg_list\u001b[0m \u001b[0;34m=\u001b[0m \u001b[0msocket\u001b[0m\u001b[0;34m.\u001b[0m\u001b[0mrecv_multipart\u001b[0m\u001b[0;34m(\u001b[0m\u001b[0mmode\u001b[0m\u001b[0;34m,\u001b[0m \u001b[0mcopy\u001b[0m\u001b[0;34m=\u001b[0m\u001b[0mcopy\u001b[0m\u001b[0;34m)\u001b[0m\u001b[0;34m\u001b[0m\u001b[0;34m\u001b[0m\u001b[0m\n\u001b[0m\u001b[1;32m    804\u001b[0m         \u001b[0;32mexcept\u001b[0m \u001b[0mzmq\u001b[0m\u001b[0;34m.\u001b[0m\u001b[0mZMQError\u001b[0m \u001b[0;32mas\u001b[0m \u001b[0me\u001b[0m\u001b[0;34m:\u001b[0m\u001b[0;34m\u001b[0m\u001b[0;34m\u001b[0m\u001b[0m\n",
            "\u001b[0;32m/usr/local/lib/python3.7/dist-packages/zmq/sugar/socket.py\u001b[0m in \u001b[0;36mrecv_multipart\u001b[0;34m(self, flags, copy, track)\u001b[0m\n\u001b[1;32m    624\u001b[0m         \"\"\"\n\u001b[0;32m--> 625\u001b[0;31m         \u001b[0mparts\u001b[0m \u001b[0;34m=\u001b[0m \u001b[0;34m[\u001b[0m\u001b[0mself\u001b[0m\u001b[0;34m.\u001b[0m\u001b[0mrecv\u001b[0m\u001b[0;34m(\u001b[0m\u001b[0mflags\u001b[0m\u001b[0;34m,\u001b[0m \u001b[0mcopy\u001b[0m\u001b[0;34m=\u001b[0m\u001b[0mcopy\u001b[0m\u001b[0;34m,\u001b[0m \u001b[0mtrack\u001b[0m\u001b[0;34m=\u001b[0m\u001b[0mtrack\u001b[0m\u001b[0;34m)\u001b[0m\u001b[0;34m]\u001b[0m\u001b[0;34m\u001b[0m\u001b[0;34m\u001b[0m\u001b[0m\n\u001b[0m\u001b[1;32m    626\u001b[0m         \u001b[0;31m# have first part already, only loop while more to receive\u001b[0m\u001b[0;34m\u001b[0m\u001b[0;34m\u001b[0m\u001b[0;34m\u001b[0m\u001b[0m\n",
            "\u001b[0;32mzmq/backend/cython/socket.pyx\u001b[0m in \u001b[0;36mzmq.backend.cython.socket.Socket.recv\u001b[0;34m()\u001b[0m\n",
            "\u001b[0;32mzmq/backend/cython/socket.pyx\u001b[0m in \u001b[0;36mzmq.backend.cython.socket.Socket.recv\u001b[0;34m()\u001b[0m\n",
            "\u001b[0;32mzmq/backend/cython/socket.pyx\u001b[0m in \u001b[0;36mzmq.backend.cython.socket._recv_copy\u001b[0;34m()\u001b[0m\n",
            "\u001b[0;32m/usr/local/lib/python3.7/dist-packages/zmq/backend/cython/checkrc.pxd\u001b[0m in \u001b[0;36mzmq.backend.cython.checkrc._check_rc\u001b[0;34m()\u001b[0m\n",
            "\u001b[0;31mKeyboardInterrupt\u001b[0m: ",
            "\nDuring handling of the above exception, another exception occurred:\n",
            "\u001b[0;31mKeyboardInterrupt\u001b[0m                         Traceback (most recent call last)",
            "\u001b[0;32m<ipython-input-252-db06f426f10a>\u001b[0m in \u001b[0;36m<module>\u001b[0;34m()\u001b[0m\n\u001b[1;32m      3\u001b[0m \u001b[0;34m\u001b[0m\u001b[0m\n\u001b[1;32m      4\u001b[0m \u001b[0;32mwhile\u001b[0m \u001b[0mattempts\u001b[0m \u001b[0;34m<\u001b[0m \u001b[0;36m3\u001b[0m\u001b[0;34m:\u001b[0m\u001b[0;34m\u001b[0m\u001b[0;34m\u001b[0m\u001b[0m\n\u001b[0;32m----> 5\u001b[0;31m   \u001b[0mguess\u001b[0m \u001b[0;34m=\u001b[0m \u001b[0mint\u001b[0m\u001b[0;34m(\u001b[0m\u001b[0minput\u001b[0m\u001b[0;34m(\u001b[0m\u001b[0;34m\"Enter the passcode :\"\u001b[0m\u001b[0;34m)\u001b[0m\u001b[0;34m)\u001b[0m\u001b[0;34m\u001b[0m\u001b[0;34m\u001b[0m\u001b[0m\n\u001b[0m\u001b[1;32m      6\u001b[0m   \u001b[0;32mif\u001b[0m \u001b[0mguess\u001b[0m \u001b[0;34m==\u001b[0m \u001b[0mcorrect\u001b[0m\u001b[0;34m:\u001b[0m\u001b[0;34m\u001b[0m\u001b[0;34m\u001b[0m\u001b[0m\n\u001b[1;32m      7\u001b[0m     \u001b[0mprint\u001b[0m\u001b[0;34m(\u001b[0m\u001b[0;34m\"Access Granted\"\u001b[0m\u001b[0;34m)\u001b[0m\u001b[0;34m\u001b[0m\u001b[0;34m\u001b[0m\u001b[0m\n",
            "\u001b[0;32m/usr/local/lib/python3.7/dist-packages/ipykernel/kernelbase.py\u001b[0m in \u001b[0;36mraw_input\u001b[0;34m(self, prompt)\u001b[0m\n\u001b[1;32m    702\u001b[0m             \u001b[0mself\u001b[0m\u001b[0;34m.\u001b[0m\u001b[0m_parent_ident\u001b[0m\u001b[0;34m,\u001b[0m\u001b[0;34m\u001b[0m\u001b[0;34m\u001b[0m\u001b[0m\n\u001b[1;32m    703\u001b[0m             \u001b[0mself\u001b[0m\u001b[0;34m.\u001b[0m\u001b[0m_parent_header\u001b[0m\u001b[0;34m,\u001b[0m\u001b[0;34m\u001b[0m\u001b[0;34m\u001b[0m\u001b[0m\n\u001b[0;32m--> 704\u001b[0;31m             \u001b[0mpassword\u001b[0m\u001b[0;34m=\u001b[0m\u001b[0;32mFalse\u001b[0m\u001b[0;34m,\u001b[0m\u001b[0;34m\u001b[0m\u001b[0;34m\u001b[0m\u001b[0m\n\u001b[0m\u001b[1;32m    705\u001b[0m         )\n\u001b[1;32m    706\u001b[0m \u001b[0;34m\u001b[0m\u001b[0m\n",
            "\u001b[0;32m/usr/local/lib/python3.7/dist-packages/ipykernel/kernelbase.py\u001b[0m in \u001b[0;36m_input_request\u001b[0;34m(self, prompt, ident, parent, password)\u001b[0m\n\u001b[1;32m    732\u001b[0m             \u001b[0;32mexcept\u001b[0m \u001b[0mKeyboardInterrupt\u001b[0m\u001b[0;34m:\u001b[0m\u001b[0;34m\u001b[0m\u001b[0;34m\u001b[0m\u001b[0m\n\u001b[1;32m    733\u001b[0m                 \u001b[0;31m# re-raise KeyboardInterrupt, to truncate traceback\u001b[0m\u001b[0;34m\u001b[0m\u001b[0;34m\u001b[0m\u001b[0;34m\u001b[0m\u001b[0m\n\u001b[0;32m--> 734\u001b[0;31m                 \u001b[0;32mraise\u001b[0m \u001b[0mKeyboardInterrupt\u001b[0m\u001b[0;34m\u001b[0m\u001b[0;34m\u001b[0m\u001b[0m\n\u001b[0m\u001b[1;32m    735\u001b[0m             \u001b[0;32melse\u001b[0m\u001b[0;34m:\u001b[0m\u001b[0;34m\u001b[0m\u001b[0;34m\u001b[0m\u001b[0m\n\u001b[1;32m    736\u001b[0m                 \u001b[0;32mbreak\u001b[0m\u001b[0;34m\u001b[0m\u001b[0;34m\u001b[0m\u001b[0m\n",
            "\u001b[0;31mKeyboardInterrupt\u001b[0m: "
          ]
        }
      ]
    },
    {
      "cell_type": "code",
      "metadata": {
        "colab": {
          "base_uri": "https://localhost:8080/"
        },
        "id": "imZaaFFAmdnO",
        "outputId": "be6c4f12-1ad3-460d-cc1d-e0495b2d2e30"
      },
      "source": [
        "correct = 9\n",
        "attempts = 0\n",
        "\n",
        "while attempts < 3:\n",
        "  guess = int(input(\"Enter the passcode :\"))\n",
        "  attempts += 1\n",
        "  if guess == correct:\n",
        "    print(\"Access Granted\")\n",
        "    break\n",
        "  \n",
        "  else:\n",
        "    print(\"Incorrect password, try again\")\n",
        "\n",
        "else:\n",
        "  print(\"You have exhausted the number of attempts\")"
      ],
      "execution_count": 259,
      "outputs": [
        {
          "output_type": "stream",
          "name": "stdout",
          "text": [
            "Enter the passcode :6\n",
            "Incorrect password, try again\n",
            "Enter the passcode :2\n",
            "Incorrect password, try again\n",
            "Enter the passcode :1\n",
            "Incorrect password, try again\n",
            "You have exhausted the number of attempts\n"
          ]
        }
      ]
    },
    {
      "cell_type": "code",
      "metadata": {
        "colab": {
          "base_uri": "https://localhost:8080/"
        },
        "id": "SJgOEWXGm9JK",
        "outputId": "44c8871a-7b18-40e9-a672-acca6e5d2b36"
      },
      "source": [
        "correct = 9\n",
        "attempts = 0\n",
        "\n",
        "while attempts < 3:\n",
        "  guess = int(input(\"Enter the passcode :\"))\n",
        "  attempts += 1\n",
        "  if guess == correct:\n",
        "    print(\"Access Granted\")\n",
        "    break\n",
        "  \n",
        "  else:\n",
        "    print(f\"{3 - attempts} tries left\")\n",
        "\n",
        "else:\n",
        "  print(\"You have exhausted the number of attempts\")"
      ],
      "execution_count": 261,
      "outputs": [
        {
          "output_type": "stream",
          "name": "stdout",
          "text": [
            "Enter the passcode :5\n",
            "2 tries left\n",
            "Enter the passcode :8\n",
            "1 tries left\n",
            "Enter the passcode :0\n",
            "0 tries left\n",
            "You have exhausted the number of attempts\n"
          ]
        }
      ]
    },
    {
      "cell_type": "markdown",
      "metadata": {
        "id": "7jgB1ZQ2pFsj"
      },
      "source": [
        "# Functions"
      ]
    },
    {
      "cell_type": "code",
      "metadata": {
        "colab": {
          "base_uri": "https://localhost:8080/"
        },
        "id": "TQvmHy-ooocy",
        "outputId": "ce701f26-faba-478d-fd18-701c0a28060c"
      },
      "source": [
        "print(\"Hi there\")\n",
        "print(\"Welcome aboard\")"
      ],
      "execution_count": 262,
      "outputs": [
        {
          "output_type": "stream",
          "name": "stdout",
          "text": [
            "Hi there\n",
            "Welcome aboard\n"
          ]
        }
      ]
    },
    {
      "cell_type": "code",
      "metadata": {
        "id": "7HbrORFXqckU"
      },
      "source": [
        "def greet_user():\n",
        "  print(\"Hi there\")\n",
        "  print(\"Welcome aboard\")"
      ],
      "execution_count": 263,
      "outputs": []
    },
    {
      "cell_type": "code",
      "metadata": {
        "colab": {
          "base_uri": "https://localhost:8080/"
        },
        "id": "hHIG4al3qsYg",
        "outputId": "0da88d7a-3fd9-4101-8c22-7d352509fb41"
      },
      "source": [
        "greet_user()"
      ],
      "execution_count": 265,
      "outputs": [
        {
          "output_type": "stream",
          "name": "stdout",
          "text": [
            "Hi there\n",
            "Welcome aboard\n"
          ]
        }
      ]
    },
    {
      "cell_type": "code",
      "metadata": {
        "colab": {
          "base_uri": "https://localhost:8080/"
        },
        "id": "8U_zXMHTqwSv",
        "outputId": "4651b60d-3818-4818-9f59-dd669a72732a"
      },
      "source": [
        "print(\"start\")\n",
        "greet_user()\n",
        "print(\"stop\")"
      ],
      "execution_count": 266,
      "outputs": [
        {
          "output_type": "stream",
          "name": "stdout",
          "text": [
            "start\n",
            "Hi there\n",
            "Welcome aboard\n",
            "stop\n"
          ]
        }
      ]
    },
    {
      "cell_type": "code",
      "metadata": {
        "id": "3ewWT1nhq9y6"
      },
      "source": [
        "def greet_user(name):        # Parameter\n",
        "  print(\"Hi\", name)\n",
        "  print(\"Welcome aboard\")"
      ],
      "execution_count": 267,
      "outputs": []
    },
    {
      "cell_type": "code",
      "metadata": {
        "colab": {
          "base_uri": "https://localhost:8080/",
          "height": 171
        },
        "id": "pq1D89RnrjmE",
        "outputId": "3f510922-8c9e-4514-ee58-9cac285483c9"
      },
      "source": [
        "greet_user()"
      ],
      "execution_count": 268,
      "outputs": [
        {
          "output_type": "error",
          "ename": "TypeError",
          "evalue": "ignored",
          "traceback": [
            "\u001b[0;31m---------------------------------------------------------------------------\u001b[0m",
            "\u001b[0;31mTypeError\u001b[0m                                 Traceback (most recent call last)",
            "\u001b[0;32m<ipython-input-268-dbfe9269c9e1>\u001b[0m in \u001b[0;36m<module>\u001b[0;34m()\u001b[0m\n\u001b[0;32m----> 1\u001b[0;31m \u001b[0mgreet_user\u001b[0m\u001b[0;34m(\u001b[0m\u001b[0;34m)\u001b[0m\u001b[0;34m\u001b[0m\u001b[0;34m\u001b[0m\u001b[0m\n\u001b[0m",
            "\u001b[0;31mTypeError\u001b[0m: greet_user() missing 1 required positional argument: 'name'"
          ]
        }
      ]
    },
    {
      "cell_type": "code",
      "metadata": {
        "colab": {
          "base_uri": "https://localhost:8080/"
        },
        "id": "o8W_9Oh8rmP2",
        "outputId": "3aea555e-f405-4fcd-e088-6296c8421080"
      },
      "source": [
        "greet_user(\"Liqzan\")         # Argument"
      ],
      "execution_count": 269,
      "outputs": [
        {
          "output_type": "stream",
          "name": "stdout",
          "text": [
            "Hi Liqzan\n",
            "Welcome aboard\n"
          ]
        }
      ]
    },
    {
      "cell_type": "code",
      "metadata": {
        "id": "VuRiGhyPr2kH"
      },
      "source": [
        "def greet_user(first, last):        # Parameter\n",
        "  print(\"Hi\", first, last)\n",
        "  print(\"Welcome aboard\")"
      ],
      "execution_count": 270,
      "outputs": []
    },
    {
      "cell_type": "code",
      "metadata": {
        "colab": {
          "base_uri": "https://localhost:8080/"
        },
        "id": "ZDQcz5_xscjC",
        "outputId": "1bfdd06b-92e8-474c-b909-1efbfe88bce3"
      },
      "source": [
        "greet_user(\"Rahul\", \"Singh\")"
      ],
      "execution_count": 271,
      "outputs": [
        {
          "output_type": "stream",
          "name": "stdout",
          "text": [
            "Hi Rahul Singh\n",
            "Welcome aboard\n"
          ]
        }
      ]
    },
    {
      "cell_type": "code",
      "metadata": {
        "colab": {
          "base_uri": "https://localhost:8080/",
          "height": 171
        },
        "id": "xLQWSkCFspS-",
        "outputId": "ded75788-cda2-4b3e-ea90-df441ceecb55"
      },
      "source": [
        "greet_user(\"Rahul\")"
      ],
      "execution_count": 272,
      "outputs": [
        {
          "output_type": "error",
          "ename": "TypeError",
          "evalue": "ignored",
          "traceback": [
            "\u001b[0;31m---------------------------------------------------------------------------\u001b[0m",
            "\u001b[0;31mTypeError\u001b[0m                                 Traceback (most recent call last)",
            "\u001b[0;32m<ipython-input-272-c831d37c3b44>\u001b[0m in \u001b[0;36m<module>\u001b[0;34m()\u001b[0m\n\u001b[0;32m----> 1\u001b[0;31m \u001b[0mgreet_user\u001b[0m\u001b[0;34m(\u001b[0m\u001b[0;34m\"Rahul\"\u001b[0m\u001b[0;34m)\u001b[0m\u001b[0;34m\u001b[0m\u001b[0;34m\u001b[0m\u001b[0m\n\u001b[0m",
            "\u001b[0;31mTypeError\u001b[0m: greet_user() missing 1 required positional argument: 'last'"
          ]
        }
      ]
    },
    {
      "cell_type": "code",
      "metadata": {
        "colab": {
          "base_uri": "https://localhost:8080/"
        },
        "id": "n99JCf45stm1",
        "outputId": "c48aca96-ad67-4a85-97ca-db13bfef6b2f"
      },
      "source": [
        "greet_user(last = \"Singh\",first=\"Rahul\")"
      ],
      "execution_count": 274,
      "outputs": [
        {
          "output_type": "stream",
          "name": "stdout",
          "text": [
            "Hi Rahul Singh\n",
            "Welcome aboard\n"
          ]
        }
      ]
    },
    {
      "cell_type": "code",
      "metadata": {
        "id": "Q77R-I2as7Qi"
      },
      "source": [
        ""
      ],
      "execution_count": null,
      "outputs": []
    }
  ]
}